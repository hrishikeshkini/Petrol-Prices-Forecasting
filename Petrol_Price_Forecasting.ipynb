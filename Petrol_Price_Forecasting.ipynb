{
  "cells": [
    {
      "cell_type": "markdown",
      "id": "W7G9brFaBKTd",
      "metadata": {
        "id": "W7G9brFaBKTd"
      },
      "source": [
        "## **Project Name:** Petrol Price Forecasting  using Tensor Flow and Auto Keras"
      ]
    },
    {
      "cell_type": "markdown",
      "id": "FYrfseUeCVCU",
      "metadata": {
        "id": "FYrfseUeCVCU"
      },
      "source": [
        "![fuel-price-india-1.webp](data:image/webp;base64,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)"
      ]
    },
    {
      "cell_type": "markdown",
      "id": "wZGfAtd9Bd6e",
      "metadata": {
        "id": "wZGfAtd9Bd6e"
      },
      "source": [
        "## Petrol Prices are going up continously these days and it has become very hard to predict what will be the price range in the next few months or even days.\n",
        "\n",
        "### In this project we will try to forecast the different petrol prices for the upcoming dates given to us. \n",
        "\n",
        "### We will use LSTM and ARIMA forecasting models to predict the prices then we will see how we can implement the same using Auto Keras, which is an Auto ML Library."
      ]
    },
    {
      "cell_type": "markdown",
      "id": "NeopOmsXCbpT",
      "metadata": {
        "id": "NeopOmsXCbpT"
      },
      "source": [
        "## TimeLine of the project:\n",
        "- Data Analysis\n",
        "- Model Building and predictions using ML techniques\n",
        "- Model Building and prediction using Auto Keras(Auto ML)"
      ]
    },
    {
      "cell_type": "markdown",
      "id": "QLg5ZonYCxh7",
      "metadata": {
        "id": "QLg5ZonYCxh7"
      },
      "source": [
        "**Importing Libraries**"
      ]
    },
    {
      "cell_type": "code",
      "execution_count": 1,
      "id": "e315f51b",
      "metadata": {
        "id": "e315f51b"
      },
      "outputs": [],
      "source": [
        "import pandas as pd\n",
        "import numpy as np\n",
        "from matplotlib import pyplot as plt\n",
        "%matplotlib inline\n",
        "import matplotlib "
      ]
    },
    {
      "cell_type": "code",
      "execution_count": 2,
      "id": "Z2EemE6Izx-U",
      "metadata": {
        "id": "Z2EemE6Izx-U",
        "colab": {
          "base_uri": "https://localhost:8080/"
        },
        "outputId": "f64ce40e-57b9-44b3-deea-70e64f6d5b5e"
      },
      "outputs": [
        {
          "output_type": "stream",
          "name": "stdout",
          "text": [
            "Drive already mounted at /content/drive; to attempt to forcibly remount, call drive.mount(\"/content/drive\", force_remount=True).\n"
          ]
        }
      ],
      "source": [
        "from google.colab import drive\n",
        "drive.mount('/content/drive')"
      ]
    },
    {
      "cell_type": "code",
      "execution_count": 5,
      "id": "23e09038",
      "metadata": {
        "id": "23e09038",
        "colab": {
          "base_uri": "https://localhost:8080/",
          "height": 206
        },
        "outputId": "24d6008d-de92-4b80-a4ed-d1522c9624c2"
      },
      "outputs": [
        {
          "output_type": "execute_result",
          "data": {
            "text/html": [
              "\n",
              "  <div id=\"df-59ef4303-257d-42cf-8391-357a33fbfd8f\">\n",
              "    <div class=\"colab-df-container\">\n",
              "      <div>\n",
              "<style scoped>\n",
              "    .dataframe tbody tr th:only-of-type {\n",
              "        vertical-align: middle;\n",
              "    }\n",
              "\n",
              "    .dataframe tbody tr th {\n",
              "        vertical-align: top;\n",
              "    }\n",
              "\n",
              "    .dataframe thead th {\n",
              "        text-align: right;\n",
              "    }\n",
              "</style>\n",
              "<table border=\"1\" class=\"dataframe\">\n",
              "  <thead>\n",
              "    <tr style=\"text-align: right;\">\n",
              "      <th></th>\n",
              "      <th>Date</th>\n",
              "      <th>Petrol (USD)</th>\n",
              "    </tr>\n",
              "  </thead>\n",
              "  <tbody>\n",
              "    <tr>\n",
              "      <th>0</th>\n",
              "      <td>6/9/2003</td>\n",
              "      <td>74.59</td>\n",
              "    </tr>\n",
              "    <tr>\n",
              "      <th>1</th>\n",
              "      <td>6/16/2003</td>\n",
              "      <td>74.47</td>\n",
              "    </tr>\n",
              "    <tr>\n",
              "      <th>2</th>\n",
              "      <td>6/23/2003</td>\n",
              "      <td>74.42</td>\n",
              "    </tr>\n",
              "    <tr>\n",
              "      <th>3</th>\n",
              "      <td>6/30/2003</td>\n",
              "      <td>74.35</td>\n",
              "    </tr>\n",
              "    <tr>\n",
              "      <th>4</th>\n",
              "      <td>7/7/2003</td>\n",
              "      <td>74.28</td>\n",
              "    </tr>\n",
              "  </tbody>\n",
              "</table>\n",
              "</div>\n",
              "      <button class=\"colab-df-convert\" onclick=\"convertToInteractive('df-59ef4303-257d-42cf-8391-357a33fbfd8f')\"\n",
              "              title=\"Convert this dataframe to an interactive table.\"\n",
              "              style=\"display:none;\">\n",
              "        \n",
              "  <svg xmlns=\"http://www.w3.org/2000/svg\" height=\"24px\"viewBox=\"0 0 24 24\"\n",
              "       width=\"24px\">\n",
              "    <path d=\"M0 0h24v24H0V0z\" fill=\"none\"/>\n",
              "    <path d=\"M18.56 5.44l.94 2.06.94-2.06 2.06-.94-2.06-.94-.94-2.06-.94 2.06-2.06.94zm-11 1L8.5 8.5l.94-2.06 2.06-.94-2.06-.94L8.5 2.5l-.94 2.06-2.06.94zm10 10l.94 2.06.94-2.06 2.06-.94-2.06-.94-.94-2.06-.94 2.06-2.06.94z\"/><path d=\"M17.41 7.96l-1.37-1.37c-.4-.4-.92-.59-1.43-.59-.52 0-1.04.2-1.43.59L10.3 9.45l-7.72 7.72c-.78.78-.78 2.05 0 2.83L4 21.41c.39.39.9.59 1.41.59.51 0 1.02-.2 1.41-.59l7.78-7.78 2.81-2.81c.8-.78.8-2.07 0-2.86zM5.41 20L4 18.59l7.72-7.72 1.47 1.35L5.41 20z\"/>\n",
              "  </svg>\n",
              "      </button>\n",
              "      \n",
              "  <style>\n",
              "    .colab-df-container {\n",
              "      display:flex;\n",
              "      flex-wrap:wrap;\n",
              "      gap: 12px;\n",
              "    }\n",
              "\n",
              "    .colab-df-convert {\n",
              "      background-color: #E8F0FE;\n",
              "      border: none;\n",
              "      border-radius: 50%;\n",
              "      cursor: pointer;\n",
              "      display: none;\n",
              "      fill: #1967D2;\n",
              "      height: 32px;\n",
              "      padding: 0 0 0 0;\n",
              "      width: 32px;\n",
              "    }\n",
              "\n",
              "    .colab-df-convert:hover {\n",
              "      background-color: #E2EBFA;\n",
              "      box-shadow: 0px 1px 2px rgba(60, 64, 67, 0.3), 0px 1px 3px 1px rgba(60, 64, 67, 0.15);\n",
              "      fill: #174EA6;\n",
              "    }\n",
              "\n",
              "    [theme=dark] .colab-df-convert {\n",
              "      background-color: #3B4455;\n",
              "      fill: #D2E3FC;\n",
              "    }\n",
              "\n",
              "    [theme=dark] .colab-df-convert:hover {\n",
              "      background-color: #434B5C;\n",
              "      box-shadow: 0px 1px 3px 1px rgba(0, 0, 0, 0.15);\n",
              "      filter: drop-shadow(0px 1px 2px rgba(0, 0, 0, 0.3));\n",
              "      fill: #FFFFFF;\n",
              "    }\n",
              "  </style>\n",
              "\n",
              "      <script>\n",
              "        const buttonEl =\n",
              "          document.querySelector('#df-59ef4303-257d-42cf-8391-357a33fbfd8f button.colab-df-convert');\n",
              "        buttonEl.style.display =\n",
              "          google.colab.kernel.accessAllowed ? 'block' : 'none';\n",
              "\n",
              "        async function convertToInteractive(key) {\n",
              "          const element = document.querySelector('#df-59ef4303-257d-42cf-8391-357a33fbfd8f');\n",
              "          const dataTable =\n",
              "            await google.colab.kernel.invokeFunction('convertToInteractive',\n",
              "                                                     [key], {});\n",
              "          if (!dataTable) return;\n",
              "\n",
              "          const docLinkHtml = 'Like what you see? Visit the ' +\n",
              "            '<a target=\"_blank\" href=https://colab.research.google.com/notebooks/data_table.ipynb>data table notebook</a>'\n",
              "            + ' to learn more about interactive tables.';\n",
              "          element.innerHTML = '';\n",
              "          dataTable['output_type'] = 'display_data';\n",
              "          await google.colab.output.renderOutput(dataTable, element);\n",
              "          const docLink = document.createElement('div');\n",
              "          docLink.innerHTML = docLinkHtml;\n",
              "          element.appendChild(docLink);\n",
              "        }\n",
              "      </script>\n",
              "    </div>\n",
              "  </div>\n",
              "  "
            ],
            "text/plain": [
              "        Date  Petrol (USD)\n",
              "0   6/9/2003         74.59\n",
              "1  6/16/2003         74.47\n",
              "2  6/23/2003         74.42\n",
              "3  6/30/2003         74.35\n",
              "4   7/7/2003         74.28"
            ]
          },
          "metadata": {},
          "execution_count": 5
        }
      ],
      "source": [
        "df1 = pd.read_csv(\"/content/drive/MyDrive/Petrol+Price+Forecasting-+Auto+Kearas/train_data.csv\")\n",
        "df1.head()"
      ]
    },
    {
      "cell_type": "markdown",
      "id": "E7SE4p_WHk-v",
      "metadata": {
        "id": "E7SE4p_WHk-v"
      },
      "source": [
        "**Data Analysis and splitting the data**"
      ]
    },
    {
      "cell_type": "code",
      "execution_count": 6,
      "id": "yRE7X5FfSeqt",
      "metadata": {
        "id": "yRE7X5FfSeqt",
        "colab": {
          "base_uri": "https://localhost:8080/"
        },
        "outputId": "f55340b0-8f03-4d50-b3c4-f5d846736dfd"
      },
      "outputs": [
        {
          "output_type": "execute_result",
          "data": {
            "text/plain": [
              "Date            0\n",
              "Petrol (USD)    2\n",
              "dtype: int64"
            ]
          },
          "metadata": {},
          "execution_count": 6
        }
      ],
      "source": [
        "df1.head()\n",
        "df1.isnull().sum()"
      ]
    },
    {
      "cell_type": "code",
      "execution_count": 7,
      "id": "ffb74343",
      "metadata": {
        "id": "ffb74343"
      },
      "outputs": [],
      "source": [
        "df2 = df1.dropna()"
      ]
    },
    {
      "cell_type": "code",
      "execution_count": 8,
      "id": "e6c0da0d",
      "metadata": {
        "id": "e6c0da0d",
        "colab": {
          "base_uri": "https://localhost:8080/",
          "height": 293
        },
        "outputId": "9ba80539-4f39-4b94-b882-ffc26ff539c8"
      },
      "outputs": [
        {
          "output_type": "stream",
          "name": "stderr",
          "text": [
            "/usr/local/lib/python3.7/dist-packages/pandas/core/frame.py:5047: SettingWithCopyWarning: \n",
            "A value is trying to be set on a copy of a slice from a DataFrame\n",
            "\n",
            "See the caveats in the documentation: https://pandas.pydata.org/pandas-docs/stable/user_guide/indexing.html#returning-a-view-versus-a-copy\n",
            "  errors=errors,\n"
          ]
        },
        {
          "output_type": "execute_result",
          "data": {
            "text/html": [
              "\n",
              "  <div id=\"df-e286ad0e-1d9d-4602-a4f3-cbf6e82f0bdd\">\n",
              "    <div class=\"colab-df-container\">\n",
              "      <div>\n",
              "<style scoped>\n",
              "    .dataframe tbody tr th:only-of-type {\n",
              "        vertical-align: middle;\n",
              "    }\n",
              "\n",
              "    .dataframe tbody tr th {\n",
              "        vertical-align: top;\n",
              "    }\n",
              "\n",
              "    .dataframe thead th {\n",
              "        text-align: right;\n",
              "    }\n",
              "</style>\n",
              "<table border=\"1\" class=\"dataframe\">\n",
              "  <thead>\n",
              "    <tr style=\"text-align: right;\">\n",
              "      <th></th>\n",
              "      <th>Date</th>\n",
              "      <th>Petrol</th>\n",
              "    </tr>\n",
              "  </thead>\n",
              "  <tbody>\n",
              "    <tr>\n",
              "      <th>0</th>\n",
              "      <td>6/9/2003</td>\n",
              "      <td>74.59</td>\n",
              "    </tr>\n",
              "    <tr>\n",
              "      <th>1</th>\n",
              "      <td>6/16/2003</td>\n",
              "      <td>74.47</td>\n",
              "    </tr>\n",
              "    <tr>\n",
              "      <th>2</th>\n",
              "      <td>6/23/2003</td>\n",
              "      <td>74.42</td>\n",
              "    </tr>\n",
              "    <tr>\n",
              "      <th>3</th>\n",
              "      <td>6/30/2003</td>\n",
              "      <td>74.35</td>\n",
              "    </tr>\n",
              "    <tr>\n",
              "      <th>4</th>\n",
              "      <td>7/7/2003</td>\n",
              "      <td>74.28</td>\n",
              "    </tr>\n",
              "  </tbody>\n",
              "</table>\n",
              "</div>\n",
              "      <button class=\"colab-df-convert\" onclick=\"convertToInteractive('df-e286ad0e-1d9d-4602-a4f3-cbf6e82f0bdd')\"\n",
              "              title=\"Convert this dataframe to an interactive table.\"\n",
              "              style=\"display:none;\">\n",
              "        \n",
              "  <svg xmlns=\"http://www.w3.org/2000/svg\" height=\"24px\"viewBox=\"0 0 24 24\"\n",
              "       width=\"24px\">\n",
              "    <path d=\"M0 0h24v24H0V0z\" fill=\"none\"/>\n",
              "    <path d=\"M18.56 5.44l.94 2.06.94-2.06 2.06-.94-2.06-.94-.94-2.06-.94 2.06-2.06.94zm-11 1L8.5 8.5l.94-2.06 2.06-.94-2.06-.94L8.5 2.5l-.94 2.06-2.06.94zm10 10l.94 2.06.94-2.06 2.06-.94-2.06-.94-.94-2.06-.94 2.06-2.06.94z\"/><path d=\"M17.41 7.96l-1.37-1.37c-.4-.4-.92-.59-1.43-.59-.52 0-1.04.2-1.43.59L10.3 9.45l-7.72 7.72c-.78.78-.78 2.05 0 2.83L4 21.41c.39.39.9.59 1.41.59.51 0 1.02-.2 1.41-.59l7.78-7.78 2.81-2.81c.8-.78.8-2.07 0-2.86zM5.41 20L4 18.59l7.72-7.72 1.47 1.35L5.41 20z\"/>\n",
              "  </svg>\n",
              "      </button>\n",
              "      \n",
              "  <style>\n",
              "    .colab-df-container {\n",
              "      display:flex;\n",
              "      flex-wrap:wrap;\n",
              "      gap: 12px;\n",
              "    }\n",
              "\n",
              "    .colab-df-convert {\n",
              "      background-color: #E8F0FE;\n",
              "      border: none;\n",
              "      border-radius: 50%;\n",
              "      cursor: pointer;\n",
              "      display: none;\n",
              "      fill: #1967D2;\n",
              "      height: 32px;\n",
              "      padding: 0 0 0 0;\n",
              "      width: 32px;\n",
              "    }\n",
              "\n",
              "    .colab-df-convert:hover {\n",
              "      background-color: #E2EBFA;\n",
              "      box-shadow: 0px 1px 2px rgba(60, 64, 67, 0.3), 0px 1px 3px 1px rgba(60, 64, 67, 0.15);\n",
              "      fill: #174EA6;\n",
              "    }\n",
              "\n",
              "    [theme=dark] .colab-df-convert {\n",
              "      background-color: #3B4455;\n",
              "      fill: #D2E3FC;\n",
              "    }\n",
              "\n",
              "    [theme=dark] .colab-df-convert:hover {\n",
              "      background-color: #434B5C;\n",
              "      box-shadow: 0px 1px 3px 1px rgba(0, 0, 0, 0.15);\n",
              "      filter: drop-shadow(0px 1px 2px rgba(0, 0, 0, 0.3));\n",
              "      fill: #FFFFFF;\n",
              "    }\n",
              "  </style>\n",
              "\n",
              "      <script>\n",
              "        const buttonEl =\n",
              "          document.querySelector('#df-e286ad0e-1d9d-4602-a4f3-cbf6e82f0bdd button.colab-df-convert');\n",
              "        buttonEl.style.display =\n",
              "          google.colab.kernel.accessAllowed ? 'block' : 'none';\n",
              "\n",
              "        async function convertToInteractive(key) {\n",
              "          const element = document.querySelector('#df-e286ad0e-1d9d-4602-a4f3-cbf6e82f0bdd');\n",
              "          const dataTable =\n",
              "            await google.colab.kernel.invokeFunction('convertToInteractive',\n",
              "                                                     [key], {});\n",
              "          if (!dataTable) return;\n",
              "\n",
              "          const docLinkHtml = 'Like what you see? Visit the ' +\n",
              "            '<a target=\"_blank\" href=https://colab.research.google.com/notebooks/data_table.ipynb>data table notebook</a>'\n",
              "            + ' to learn more about interactive tables.';\n",
              "          element.innerHTML = '';\n",
              "          dataTable['output_type'] = 'display_data';\n",
              "          await google.colab.output.renderOutput(dataTable, element);\n",
              "          const docLink = document.createElement('div');\n",
              "          docLink.innerHTML = docLinkHtml;\n",
              "          element.appendChild(docLink);\n",
              "        }\n",
              "      </script>\n",
              "    </div>\n",
              "  </div>\n",
              "  "
            ],
            "text/plain": [
              "        Date  Petrol\n",
              "0   6/9/2003   74.59\n",
              "1  6/16/2003   74.47\n",
              "2  6/23/2003   74.42\n",
              "3  6/30/2003   74.35\n",
              "4   7/7/2003   74.28"
            ]
          },
          "metadata": {},
          "execution_count": 8
        }
      ],
      "source": [
        "df2.rename(columns={\"Petrol (USD)\": \"Petrol\"}, inplace = True)\n",
        "df2.head()"
      ]
    },
    {
      "cell_type": "code",
      "execution_count": 11,
      "id": "hqggRBHHN0QI",
      "metadata": {
        "id": "hqggRBHHN0QI",
        "colab": {
          "base_uri": "https://localhost:8080/",
          "height": 542
        },
        "outputId": "d51a5ddc-f1ca-4dce-bd47-bed6d8310e4c"
      },
      "outputs": [
        {
          "output_type": "display_data",
          "data": {
            "text/html": [
              "<html>\n",
              "<head><meta charset=\"utf-8\" /></head>\n",
              "<body>\n",
              "    <div>            <script src=\"https://cdnjs.cloudflare.com/ajax/libs/mathjax/2.7.5/MathJax.js?config=TeX-AMS-MML_SVG\"></script><script type=\"text/javascript\">if (window.MathJax) {MathJax.Hub.Config({SVG: {font: \"STIX-Web\"}});}</script>                <script type=\"text/javascript\">window.PlotlyConfig = {MathJaxConfig: 'local'};</script>\n",
              "        <script src=\"https://cdn.plot.ly/plotly-2.8.3.min.js\"></script>                <div id=\"cbc51453-a2b0-48d0-a846-527b285ee315\" class=\"plotly-graph-div\" style=\"height:525px; width:100%;\"></div>            <script type=\"text/javascript\">                                    window.PLOTLYENV=window.PLOTLYENV || {};                                    if (document.getElementById(\"cbc51453-a2b0-48d0-a846-527b285ee315\")) {                    Plotly.newPlot(                        \"cbc51453-a2b0-48d0-a846-527b285ee315\",                        [{\"hovertemplate\":\"x=%{x}<br>y=%{y}<extra></extra>\",\"legendgroup\":\"\",\"marker\":{\"color\":\"#636efa\",\"symbol\":\"circle\"},\"mode\":\"markers\",\"name\":\"\",\"orientation\":\"v\",\"showlegend\":false,\"x\":[\"6/9/2003\",\"6/16/2003\",\"6/23/2003\",\"6/30/2003\",\"7/7/2003\",\"7/14/2003\",\"7/21/2003\",\"7/28/2003\",\"8/4/2003\",\"8/11/2003\",\"8/18/2003\",\"8/26/2003\",\"9/1/2003\",\"9/8/2003\",\"9/15/2003\",\"9/22/2003\",\"9/29/2003\",\"10/6/2003\",\"10/13/2003\",\"10/20/2003\",\"10/27/2003\",\"11/3/2003\",\"11/10/2003\",\"11/17/2003\",\"11/24/2003\",\"12/1/2003\",\"12/8/2003\",\"12/15/2003\",\"12/22/2003\",\"12/29/2003\",\"1/5/2004\",\"1/12/2004\",\"1/19/2004\",\"1/26/2004\",\"2/2/2004\",\"2/9/2004\",\"2/16/2004\",\"2/23/2004\",\"3/1/2004\",\"3/8/2004\",\"3/15/2004\",\"3/22/2004\",\"3/29/2004\",\"4/5/2004\",\"4/12/2004\",\"4/19/2004\",\"4/26/2004\",\"5/4/2004\",\"5/10/2004\",\"5/17/2004\",\"5/24/2004\",\"5/31/2004\",\"6/7/2004\",\"6/14/2004\",\"6/21/2004\",\"6/28/2004\",\"7/5/2004\",\"7/12/2004\",\"7/19/2004\",\"7/26/2004\",\"8/2/2004\",\"8/9/2004\",\"8/16/2004\",\"8/23/2004\",\"8/31/2004\",\"9/6/2004\",\"9/13/2004\",\"9/20/2004\",\"9/27/2004\",\"10/4/2004\",\"10/11/2004\",\"10/18/2004\",\"10/25/2004\",\"11/1/2004\",\"11/8/2004\",\"11/15/2004\",\"11/22/2004\",\"11/29/2004\",\"12/6/2004\",\"12/13/2004\",\"12/20/2004\",\"12/27/2004\",\"1/3/2005\",\"1/10/2005\",\"1/17/2005\",\"1/24/2005\",\"1/31/2005\",\"2/7/2005\",\"2/14/2005\",\"2/21/2005\",\"2/28/2005\",\"3/7/2005\",\"3/14/2005\",\"3/21/2005\",\"3/28/2005\",\"4/4/2005\",\"4/11/2005\",\"4/18/2005\",\"4/25/2005\",\"5/2/2005\",\"5/9/2005\",\"5/16/2005\",\"5/23/2005\",\"5/30/2005\",\"6/6/2005\",\"6/13/2005\",\"6/20/2005\",\"6/27/2005\",\"7/4/2005\",\"7/11/2005\",\"7/18/2005\",\"7/25/2005\",\"8/1/2005\",\"8/8/2005\",\"8/15/2005\",\"8/22/2005\",\"8/29/2005\",\"9/5/2005\",\"9/12/2005\",\"9/19/2005\",\"9/26/2005\",\"10/3/2005\",\"10/10/2005\",\"10/17/2005\",\"10/24/2005\",\"11/7/2005\",\"11/14/2005\",\"11/21/2005\",\"11/28/2005\",\"12/5/2005\",\"12/12/2005\",\"12/19/2005\",\"12/26/2005\",\"1/2/2006\",\"1/9/2006\",\"1/16/2006\",\"1/23/2006\",\"1/30/2006\",\"2/6/2006\",\"2/13/2006\",\"2/20/2006\",\"2/27/2006\",\"3/6/2006\",\"3/13/2006\",\"3/20/2006\",\"3/27/2006\",\"4/3/2006\",\"4/10/2006\",\"4/18/2006\",\"4/24/2006\",\"5/1/2006\",\"5/8/2006\",\"5/15/2006\",\"5/22/2006\",\"5/29/2006\",\"6/5/2006\",\"6/12/2006\",\"6/19/2006\",\"6/26/2006\",\"7/3/2006\",\"7/10/2006\",\"7/17/2006\",\"7/24/2006\",\"7/31/2006\",\"8/7/2006\",\"8/14/2006\",\"8/21/2006\",\"8/28/2006\",\"9/4/2006\",\"9/11/2006\",\"9/18/2006\",\"9/25/2006\",\"10/2/2006\",\"10/9/2006\",\"10/16/2006\",\"10/23/2006\",\"10/30/2006\",\"11/6/2006\",\"11/13/2006\",\"11/27/2006\",\"12/4/2006\",\"12/11/2006\",\"12/18/2006\",\"12/25/2006\",\"1/1/2007\",\"1/8/2007\",\"1/15/2007\",\"1/22/2007\",\"1/29/2007\",\"2/5/2007\",\"2/12/2007\",\"2/19/2007\",\"2/26/2007\",\"3/5/2007\",\"3/12/2007\",\"3/19/2007\",\"3/26/2007\",\"4/2/2007\",\"4/10/2007\",\"4/16/2007\",\"4/23/2007\",\"4/30/2007\",\"5/7/2007\",\"5/14/2007\",\"5/21/2007\",\"5/28/2007\",\"6/4/2007\",\"6/11/2007\",\"6/18/2007\",\"6/25/2007\",\"7/2/2007\",\"7/9/2007\",\"7/16/2007\",\"7/23/2007\",\"7/30/2007\",\"8/6/2007\",\"8/13/2007\",\"8/20/2007\",\"8/27/2007\",\"9/3/2007\",\"9/10/2007\",\"9/17/2007\",\"9/24/2007\",\"10/1/2007\",\"10/8/2007\",\"10/15/2007\",\"10/22/2007\",\"10/29/2007\",\"11/5/2007\",\"11/12/2007\",\"11/19/2007\",\"11/26/2007\",\"12/3/2007\",\"12/10/2007\",\"12/17/2007\",\"12/24/2007\",\"12/31/2007\",\"1/7/2008\",\"1/14/2008\",\"1/21/2008\",\"1/28/2008\",\"2/4/2008\",\"2/11/2008\",\"2/18/2008\",\"2/25/2008\",\"3/3/2008\",\"3/10/2008\",\"3/17/2008\",\"3/24/2008\",\"3/31/2008\",\"4/7/2008\",\"4/14/2008\",\"4/21/2008\",\"4/28/2008\",\"5/5/2008\",\"5/12/2008\",\"5/19/2008\",\"5/26/2008\",\"6/2/2008\",\"6/9/2008\",\"6/16/2008\",\"6/23/2008\",\"6/30/2008\",\"7/7/2008\",\"7/14/2008\",\"7/21/2008\",\"7/28/2008\",\"8/4/2008\",\"8/11/2008\",\"8/18/2008\",\"8/25/2008\",\"9/1/2008\",\"9/8/2008\",\"9/15/2008\",\"9/22/2008\",\"9/29/2008\",\"10/6/2008\",\"10/13/2008\",\"10/20/2008\",\"10/27/2008\",\"11/3/2008\",\"11/10/2008\",\"11/17/2008\",\"11/24/2008\",\"12/1/2008\",\"12/8/2008\",\"12/15/2008\",\"12/22/2008\",\"12/29/2008\",\"1/5/2009\",\"1/12/2009\",\"1/19/2009\",\"1/26/2009\",\"2/2/2009\",\"2/9/2009\",\"2/16/2009\",\"2/23/2009\",\"3/2/2009\",\"3/9/2009\",\"3/16/2009\",\"3/23/2009\",\"3/30/2009\",\"4/6/2009\",\"4/13/2009\",\"4/20/2009\",\"4/27/2009\",\"5/4/2009\",\"5/11/2009\",\"5/18/2009\",\"5/25/2009\",\"6/1/2009\",\"6/8/2009\",\"6/15/2009\",\"6/22/2009\",\"6/29/2009\",\"7/6/2009\",\"7/13/2009\",\"7/20/2009\",\"7/27/2009\",\"8/3/2009\",\"8/10/2009\",\"8/17/2009\",\"8/24/2009\",\"8/31/2009\",\"9/7/2009\",\"9/14/2009\",\"9/21/2009\",\"9/28/2009\",\"10/5/2009\",\"10/12/2009\",\"10/19/2009\",\"10/26/2009\",\"11/2/2009\",\"11/9/2009\",\"11/16/2009\",\"11/23/2009\",\"11/30/2009\",\"12/7/2009\",\"12/14/2009\",\"12/21/2009\",\"12/28/2009\",\"1/4/2010\",\"1/11/2010\",\"1/18/2010\",\"1/25/2010\",\"2/1/2010\",\"2/8/2010\",\"2/15/2010\",\"2/22/2010\",\"3/1/2010\",\"3/8/2010\",\"3/15/2010\",\"3/22/2010\",\"3/29/2010\",\"4/5/2010\",\"4/12/2010\",\"4/19/2010\",\"4/26/2010\",\"5/3/2010\",\"5/10/2010\",\"5/17/2010\",\"5/24/2010\",\"5/31/2010\",\"6/7/2010\",\"6/14/2010\",\"6/21/2010\",\"6/28/2010\",\"7/5/2010\",\"7/12/2010\",\"7/19/2010\",\"7/26/2010\",\"8/2/2010\",\"8/9/2010\",\"8/16/2010\",\"8/23/2010\",\"8/30/2010\",\"9/6/2010\",\"9/13/2010\",\"9/20/2010\",\"9/27/2010\",\"10/4/2010\",\"10/11/2010\",\"10/18/2010\",\"10/25/2010\",\"11/1/2010\",\"11/8/2010\",\"11/15/2010\",\"11/22/2010\",\"11/29/2010\",\"12/6/2010\",\"12/13/2010\",\"12/20/2010\",\"12/27/2010\",\"1/3/2011\",\"1/10/2011\",\"1/17/2011\",\"1/24/2011\",\"1/31/2011\",\"2/7/2011\",\"2/14/2011\",\"2/21/2011\",\"2/28/2011\",\"3/7/2011\",\"3/14/2011\",\"3/21/2011\",\"3/28/2011\",\"4/4/2011\",\"4/11/2011\",\"4/18/2011\",\"4/25/2011\",\"5/2/2011\",\"5/9/2011\",\"5/16/2011\",\"5/23/2011\",\"5/30/2011\",\"6/6/2011\",\"6/13/2011\",\"6/20/2011\",\"6/27/2011\",\"7/4/2011\",\"7/11/2011\",\"7/18/2011\",\"7/25/2011\",\"8/1/2011\",\"8/8/2011\",\"8/15/2011\",\"8/22/2011\",\"8/29/2011\",\"9/5/2011\",\"9/12/2011\",\"9/19/2011\",\"9/26/2011\",\"10/3/2011\",\"10/10/2011\",\"10/17/2011\",\"10/24/2011\",\"10/31/2011\",\"11/7/2011\",\"11/14/2011\",\"11/21/2011\",\"11/28/2011\",\"12/5/2011\",\"12/12/2011\",\"12/19/2011\",\"12/26/2011\",\"1/2/2012\",\"1/9/2012\",\"1/16/2012\",\"1/23/2012\",\"1/30/2012\",\"2/6/2012\",\"2/13/2012\",\"2/20/2012\",\"2/27/2012\",\"3/5/2012\",\"3/12/2012\",\"3/19/2012\",\"3/26/2012\",\"4/2/2012\",\"4/9/2012\",\"4/16/2012\",\"4/23/2012\",\"4/30/2012\",\"5/7/2012\",\"5/14/2012\",\"5/21/2012\",\"5/28/2012\",\"6/4/2012\",\"6/11/2012\",\"6/18/2012\",\"6/25/2012\",\"7/2/2012\",\"7/9/2012\",\"7/16/2012\",\"7/23/2012\",\"7/30/2012\",\"8/6/2012\",\"8/13/2012\",\"8/20/2012\",\"8/27/2012\",\"9/3/2012\",\"9/10/2012\",\"9/17/2012\",\"9/24/2012\",\"10/1/2012\",\"10/8/2012\",\"10/15/2012\",\"10/22/2012\",\"10/29/2012\",\"11/5/2012\",\"11/12/2012\",\"11/19/2012\",\"11/26/2012\",\"12/3/2012\",\"12/10/2012\",\"12/17/2012\",\"12/24/2012\",\"12/31/2012\",\"1/7/2013\",\"1/14/2013\",\"1/21/2013\",\"1/28/2013\",\"2/4/2013\",\"2/11/2013\",\"2/18/2013\",\"2/25/2013\",\"3/4/2013\",\"3/11/2013\",\"3/18/2013\",\"3/25/2013\",\"4/1/2013\",\"4/8/2013\",\"4/15/2013\",\"4/22/2013\",\"4/29/2013\",\"5/6/2013\",\"5/13/2013\",\"5/20/2013\",\"5/27/2013\",\"6/3/2013\",\"6/10/2013\",\"6/17/2013\",\"6/24/2013\",\"7/1/2013\",\"7/8/2013\",\"7/15/2013\",\"7/22/2013\",\"7/29/2013\",\"8/5/2013\",\"8/12/2013\",\"8/19/2013\",\"8/28/2013\",\"9/2/2013\",\"9/9/2013\",\"9/16/2013\",\"9/23/2013\",\"9/30/2013\",\"10/7/2013\",\"10/14/2013\",\"10/21/2013\",\"10/28/2013\",\"11/4/2013\",\"11/11/2013\",\"11/18/2013\",\"11/25/2013\",\"12/2/2013\",\"12/9/2013\",\"12/16/2013\",\"12/23/2013\",\"12/30/2013\",\"1/6/2014\",\"1/13/2014\",\"1/20/2014\",\"1/27/2014\",\"2/3/2014\",\"2/10/2014\",\"2/17/2014\",\"2/24/2014\",\"3/3/2014\",\"3/10/2014\",\"3/17/2014\",\"3/24/2014\",\"3/31/2014\",\"4/7/2014\",\"4/14/2014\",\"4/21/2014\",\"4/28/2014\",\"5/5/2014\",\"5/12/2014\",\"5/19/2014\",\"5/26/2014\",\"6/2/2014\",\"6/9/2014\",\"6/16/2014\",\"6/23/2014\",\"6/30/2014\",\"7/7/2014\",\"7/14/2014\",\"7/21/2014\",\"7/28/2014\",\"8/4/2014\",\"8/11/2014\",\"8/18/2014\",\"8/25/2014\",\"9/1/2014\",\"9/8/2014\",\"9/15/2014\",\"9/22/2014\",\"9/29/2014\",\"10/6/2014\",\"10/13/2014\",\"10/20/2014\",\"10/27/2014\",\"11/3/2014\",\"11/10/2014\",\"11/17/2014\",\"11/24/2014\",\"12/1/2014\",\"12/8/2014\",\"12/15/2014\",\"12/22/2014\",\"12/29/2014\",\"1/5/2015\",\"1/12/2015\",\"1/19/2015\",\"1/26/2015\",\"2/2/2015\",\"2/9/2015\",\"2/16/2015\",\"2/23/2015\",\"3/2/2015\",\"3/9/2015\",\"3/16/2015\",\"3/23/2015\",\"3/30/2015\",\"4/6/2015\",\"4/13/2015\",\"4/20/2015\",\"4/27/2015\",\"5/4/2015\",\"5/11/2015\",\"5/18/2015\",\"5/25/2015\",\"6/1/2015\",\"6/8/2015\",\"6/15/2015\",\"6/22/2015\",\"6/29/2015\",\"7/6/2015\",\"7/13/2015\",\"7/20/2015\",\"7/27/2015\",\"8/3/2015\",\"8/10/2015\",\"8/17/2015\",\"8/24/2015\",\"8/31/2015\",\"9/7/2015\",\"9/14/2015\",\"9/21/2015\",\"9/28/2015\",\"10/5/2015\",\"10/12/2015\",\"10/19/2015\",\"10/26/2015\",\"11/2/2015\",\"11/9/2015\",\"11/16/2015\",\"11/23/2015\",\"11/30/2015\",\"12/7/2015\",\"12/14/2015\",\"12/21/2015\",\"12/28/2015\",\"1/4/2016\",\"1/11/2016\",\"1/18/2016\",\"1/25/2016\",\"2/1/2016\",\"2/8/2016\",\"2/15/2016\",\"2/22/2016\",\"2/29/2016\",\"3/7/2016\",\"3/14/2016\",\"3/21/2016\",\"3/28/2016\",\"4/4/2016\",\"4/11/2016\",\"4/18/2016\",\"4/25/2016\",\"5/2/2016\",\"5/9/2016\",\"5/16/2016\",\"5/23/2016\",\"5/30/2016\",\"6/6/2016\",\"6/13/2016\",\"6/20/2016\",\"6/27/2016\",\"7/4/2016\",\"7/11/2016\",\"7/18/2016\",\"7/25/2016\",\"8/1/2016\",\"8/8/2016\",\"8/15/2016\",\"8/22/2016\",\"8/29/2016\",\"9/5/2016\",\"9/12/2016\",\"9/19/2016\",\"9/26/2016\",\"10/3/2016\",\"10/10/2016\",\"10/17/2016\",\"10/24/2016\",\"10/31/2016\",\"11/7/2016\",\"11/14/2016\",\"11/21/2016\",\"11/28/2016\",\"12/5/2016\",\"12/12/2016\",\"12/19/2016\",\"12/26/2016\",\"1/2/2017\",\"1/9/2017\",\"1/16/2017\",\"1/23/2017\",\"1/30/2017\",\"2/6/2017\",\"2/13/2017\",\"2/20/2017\",\"2/27/2017\",\"3/6/2017\",\"3/13/2017\",\"3/20/2017\",\"3/27/2017\",\"4/3/2017\",\"4/10/2017\",\"4/17/2017\",\"4/24/2017\",\"5/1/2017\",\"5/8/2017\",\"5/15/2017\",\"5/22/2017\",\"5/29/2017\",\"6/5/2017\",\"6/12/2017\",\"6/19/2017\",\"6/26/2017\",\"7/3/2017\",\"7/10/2017\",\"7/17/2017\",\"7/24/2017\",\"7/31/2017\",\"8/7/2017\",\"8/14/2017\",\"8/21/2017\",\"8/28/2017\",\"9/4/2017\",\"9/11/2017\",\"9/18/2017\",\"9/25/2017\",\"10/2/2017\",\"10/9/2017\",\"10/16/2017\",\"10/23/2017\",\"10/30/2017\",\"11/6/2017\",\"11/13/2017\",\"11/20/2017\",\"11/27/2017\",\"12/4/2017\",\"12/11/2017\",\"12/18/2017\",\"12/25/2017\",\"1/1/2018\",\"1/8/2018\",\"1/15/2018\",\"1/22/2018\",\"1/29/2018\",\"2/5/2018\",\"2/12/2018\",\"2/19/2018\",\"2/26/2018\",\"3/5/2018\",\"3/12/2018\",\"3/19/2018\",\"3/26/2018\",\"4/2/2018\",\"4/9/2018\",\"4/16/2018\",\"4/23/2018\",\"4/30/2018\",\"5/7/2018\",\"5/14/2018\",\"5/21/2018\",\"5/28/2018\",\"6/4/2018\",\"6/11/2018\",\"6/18/2018\",\"6/25/2018\",\"7/2/2018\",\"7/9/2018\",\"7/16/2018\",\"7/23/2018\",\"7/30/2018\",\"8/6/2018\",\"8/13/2018\",\"8/20/2018\",\"8/27/2018\",\"9/3/2018\",\"9/10/2018\",\"9/17/2018\",\"9/24/2018\",\"10/1/2018\",\"10/8/2018\",\"10/15/2018\",\"10/22/2018\",\"10/29/2018\",\"11/5/2018\",\"11/12/2018\",\"11/19/2018\",\"11/26/2018\",\"12/3/2018\",\"12/10/2018\",\"12/17/2018\",\"12/24/2018\",\"12/31/2018\"],\"xaxis\":\"x\",\"y\":[74.59,74.47,74.42,74.35,74.28,74.21,75.07,75.1,75.12,75.44,75.81,76.05,76.13,76.23,76.2,76.15,76.08,76.43,75.9,76.05,76.0,76.0,75.94,75.93,76.02,76.0,75.97,75.96,75.92,75.94,75.88,75.9,76.36,76.44,76.48,76.5,76.44,76.38,76.32,76.73,77.39,77.44,77.59,77.86,77.88,78.04,78.4,79.28,80.3,81.49,82.13,82.35,82.44,81.54,81.04,80.41,79.87,80.34,80.84,80.87,80.86,81.18,81.25,81.51,81.53,81.37,81.31,81.28,81.63,82.05,83.11,83.35,83.94,84.27,84.34,84.26,81.46,84.17,84.06,182.73,81.46,81.2,81.17,79.84,78.93,78.93,79.54,79.84,80.03,80.15,80.45,81.16,81.64,82.7,83.4,83.91,85.61,85.63,85.51,85.44,85.36,85.27,84.77,84.18,84.01,84.99,85.52,86.73,87.49,87.73,88.55,89.0,89.25,89.67,90.56,90.77,91.42,94.37,95.07,94.41,93.33,93.51,94.25,94.14,93.47,92.47,90.53,88.61,87.35,87.35,87.2,87.56,87.88,88.03,88.56,89.01,89.55,89.88,89.73,89.65,89.6,189.51,89.37,89.55,90.19,91.16,91.78,92.77,94.23,95.35,96.13,96.46,96.39,96.1,95.36,95.24,95.49,95.44,94.97,95.27,95.69,96.88,97.78,97.83,98.05,97.82,95.74,94.4,92.88,91.48,89.78,88.2,86.95,86.6,85.91,85.74,85.6,85.54,85.49,85.47,85.46,87.44,87.7,87.9,87.85,87.66,87.1,86.28,85.66,85.62,86.12,86.6,87.07,87.74,88.48,88.93,89.32,90.47,91.18,91.99,92.93,93.45,94.43,95.07,95.71,96.16,96.51,96.61,96.56,96.54,96.36,96.2,96.21,96.23,96.2,96.15,96.0,95.31,95.0,94.8,94.63,94.65,94.91,96.39,97.14,97.19,97.81,98.26,99.36,100.74,101.47,102.13,102.58,102.67,102.6,102.53,102.66,103.37,103.82,104.22,104.22,104.03,103.67,103.7,104.65,105.24,105.96,106.41,106.9,107.1,107.24,107.61,108.57,109.5,110.3,111.04,112.96,114.79,116.03,116.86,117.69,118.44,118.84,119.28,119.44,119.4,116.91,115.06,113.92,112.22,112.02,112.2,112.55,112.51,110.81,109.85,109.45,107.04,102.66,98.62,97.4,95.89,94.83,92.79,91.47,90.16,89.07,88.01,87.34,85.42,86.02,86.19,87.42,88.16,89.28,90.12,90.33,90.28,90.15,90.16,90.16,91.35,93.72,94.11,94.62,95.13,95.6,96.59,97.54,98.9,99.39,100.59,101.98,102.81,103.3,103.57,102.78,102.22,102.17,102.36,103.01,103.96,104.7,105.11,106.85,106.43,105.96,105.44,104.87,104.71,105.08,106.76,107.43,108.1,108.48,108.73,108.79,108.64,108.5,107.47,107.44,109.34,110.72,111.6,111.87,111.91,111.95,111.89,111.56,112.42,113.71,115.46,116.59,117.28,119.29,119.94,120.55,120.99,121.18,121.31,121.3,119.93,118.54,118.2,117.87,117.8,117.88,117.91,117.39,116.85,116.61,116.51,116.35,116.34,115.64,114.98,114.59,114.66,115.06,115.39,116.01,116.78,117.28,117.74,118.18,118.67,118.8,118.99,119.21,120.54,121.68,122.31,123.44,124.85,127.4,127.87,128.35,128.55,128.64,128.73,128.92,129.72,131.28,132.18,133.11,132.44,132.81,133.68,135.06,135.62,136.29,137.05,136.4,136.11,135.57,135.62,135.86,136.03,134.86,133.43,134.18,134.97,135.66,136.07,136.46,135.95,134.56,134.32,134.62,135.0,135.4,135.65,135.02,134.47,134.49,134.66,134.73,134.41,133.68,133.38,133.17,132.78,132.53,132.49,132.41,132.4,132.68,133.29,133.72,134.1,134.25,134.9,135.21,136.21,137.3,137.9,138.96,139.48,140.99,141.97,142.17,141.76,141.0,140.14,138.29,135.77,134.37,134.06,133.67,131.99,131.55,130.5,131.06,131.49,132.21,132.78,133.39,134.27,135.72,137.1,138.03,138.91,139.42,139.54,138.43,138.24,138.35,138.29,136.98,136.43,135.09,134.56,134.38,133.05,132.55,131.98,131.95,131.92,131.86,132.0,132.21,132.95,134.38,135.56,136.86,138.5,139.47,140.0,137.58,137.09,137.3,137.31,137.11,135.68,134.66,133.42,133.12,133.17,133.64,134.04,134.3,134.46,134.52,133.44,133.77,134.95,136.04,136.87,137.02,137.13,137.0,136.83,137.14,137.6,137.47,136.95,133.4,131.62,131.67,131.53,131.42,129.92,129.71,129.89,130.03,130.25,130.76,130.96,130.05,130.03,130.26,130.36,129.37,129.02,128.85,128.81,129.16,129.2,129.36,129.39,128.76,128.57,128.76,128.71,128.89,129.11,129.09,129.27,129.5,129.42,129.51,129.63,129.69,129.88,130.14,130.69,131.1,131.11,131.04,130.83,129.63,129.41,129.29,128.34,128.01,128.34,128.43,128.62,128.59,126.78,126.5,125.4,125.11,123.94,122.94,122.5,122.29,121.18,119.83,116.3,113.66,113.16,111.06,108.87,106.83,106.32,106.04,106.35,107.26,108.34,109.2,110.07,111.04,111.65,112.06,112.37,112.52,112.87,113.55,114.27,115.1,115.74,116.02,116.13,116.26,116.39,116.6,116.55,116.34,116.41,116.79,116.44,116.12,115.48,114.58,113.23,111.21,110.9,110.6,110.61,109.47,108.94,108.97,109.01,108.04,107.21,107.14,107.36,107.29,106.97,106.75,104.0,102.33,102.11,102.0,101.89,101.8,101.42,101.36,101.51,101.45,101.39,101.42,101.46,101.71,102.58,103.4,104.51,105.39,106.41,107.14,107.82,108.19,108.53,109.12,109.79,110.4,111.03,111.22,111.44,111.65,111.89,111.92,111.69,111.05,109.75,109.28,109.63,110.43,110.97,111.31,111.29,111.36,111.65,112.35,113.72,115.2,116.02,116.56,116.5,114.71,113.72,113.66,114.23,115.0,115.45,117.0,117.98,118.63,119.43,120.01,120.18,120.15,120.2,120.12,120.02,119.8,118.95,118.03,116.93,117.02,117.54,118.15,118.08,117.06,115.6,115.67,115.79,115.82,115.69,115.12,114.43,113.74,113.58,113.89,113.99,114.16,114.78,115.53,116.04,116.4,116.95,118.14,118.85,118.87,118.13,117.16,117.01,117.04,117.06,117.57,118.91,119.67,120.13,119.75,119.91,119.98,120.0,120.19,120.52,120.96,121.5,121.69,121.73,121.58,120.52,119.55,119.29,119.11,119.17,119.23,119.43,119.96,120.56,121.44,122.22,123.27,124.32,125.93,127.58,128.43,128.61,127.92,127.18,126.54,126.97,127.47,127.5,127.54,128.02,128.39,128.79,129.18,129.76,130.24,130.59,130.59,129.98,130.15,130.81,130.98,130.64,130.11,128.94,127.4,125.77,124.3,122.37,121.02,120.61,120.18],\"yaxis\":\"y\",\"type\":\"scatter\"}],                        {\"template\":{\"data\":{\"bar\":[{\"error_x\":{\"color\":\"#2a3f5f\"},\"error_y\":{\"color\":\"#2a3f5f\"},\"marker\":{\"line\":{\"color\":\"#E5ECF6\",\"width\":0.5},\"pattern\":{\"fillmode\":\"overlay\",\"size\":10,\"solidity\":0.2}},\"type\":\"bar\"}],\"barpolar\":[{\"marker\":{\"line\":{\"color\":\"#E5ECF6\",\"width\":0.5},\"pattern\":{\"fillmode\":\"overlay\",\"size\":10,\"solidity\":0.2}},\"type\":\"barpolar\"}],\"carpet\":[{\"aaxis\":{\"endlinecolor\":\"#2a3f5f\",\"gridcolor\":\"white\",\"linecolor\":\"white\",\"minorgridcolor\":\"white\",\"startlinecolor\":\"#2a3f5f\"},\"baxis\":{\"endlinecolor\":\"#2a3f5f\",\"gridcolor\":\"white\",\"linecolor\":\"white\",\"minorgridcolor\":\"white\",\"startlinecolor\":\"#2a3f5f\"},\"type\":\"carpet\"}],\"choropleth\":[{\"colorbar\":{\"outlinewidth\":0,\"ticks\":\"\"},\"type\":\"choropleth\"}],\"contour\":[{\"colorbar\":{\"outlinewidth\":0,\"ticks\":\"\"},\"colorscale\":[[0.0,\"#0d0887\"],[0.1111111111111111,\"#46039f\"],[0.2222222222222222,\"#7201a8\"],[0.3333333333333333,\"#9c179e\"],[0.4444444444444444,\"#bd3786\"],[0.5555555555555556,\"#d8576b\"],[0.6666666666666666,\"#ed7953\"],[0.7777777777777778,\"#fb9f3a\"],[0.8888888888888888,\"#fdca26\"],[1.0,\"#f0f921\"]],\"type\":\"contour\"}],\"contourcarpet\":[{\"colorbar\":{\"outlinewidth\":0,\"ticks\":\"\"},\"type\":\"contourcarpet\"}],\"heatmap\":[{\"colorbar\":{\"outlinewidth\":0,\"ticks\":\"\"},\"colorscale\":[[0.0,\"#0d0887\"],[0.1111111111111111,\"#46039f\"],[0.2222222222222222,\"#7201a8\"],[0.3333333333333333,\"#9c179e\"],[0.4444444444444444,\"#bd3786\"],[0.5555555555555556,\"#d8576b\"],[0.6666666666666666,\"#ed7953\"],[0.7777777777777778,\"#fb9f3a\"],[0.8888888888888888,\"#fdca26\"],[1.0,\"#f0f921\"]],\"type\":\"heatmap\"}],\"heatmapgl\":[{\"colorbar\":{\"outlinewidth\":0,\"ticks\":\"\"},\"colorscale\":[[0.0,\"#0d0887\"],[0.1111111111111111,\"#46039f\"],[0.2222222222222222,\"#7201a8\"],[0.3333333333333333,\"#9c179e\"],[0.4444444444444444,\"#bd3786\"],[0.5555555555555556,\"#d8576b\"],[0.6666666666666666,\"#ed7953\"],[0.7777777777777778,\"#fb9f3a\"],[0.8888888888888888,\"#fdca26\"],[1.0,\"#f0f921\"]],\"type\":\"heatmapgl\"}],\"histogram\":[{\"marker\":{\"pattern\":{\"fillmode\":\"overlay\",\"size\":10,\"solidity\":0.2}},\"type\":\"histogram\"}],\"histogram2d\":[{\"colorbar\":{\"outlinewidth\":0,\"ticks\":\"\"},\"colorscale\":[[0.0,\"#0d0887\"],[0.1111111111111111,\"#46039f\"],[0.2222222222222222,\"#7201a8\"],[0.3333333333333333,\"#9c179e\"],[0.4444444444444444,\"#bd3786\"],[0.5555555555555556,\"#d8576b\"],[0.6666666666666666,\"#ed7953\"],[0.7777777777777778,\"#fb9f3a\"],[0.8888888888888888,\"#fdca26\"],[1.0,\"#f0f921\"]],\"type\":\"histogram2d\"}],\"histogram2dcontour\":[{\"colorbar\":{\"outlinewidth\":0,\"ticks\":\"\"},\"colorscale\":[[0.0,\"#0d0887\"],[0.1111111111111111,\"#46039f\"],[0.2222222222222222,\"#7201a8\"],[0.3333333333333333,\"#9c179e\"],[0.4444444444444444,\"#bd3786\"],[0.5555555555555556,\"#d8576b\"],[0.6666666666666666,\"#ed7953\"],[0.7777777777777778,\"#fb9f3a\"],[0.8888888888888888,\"#fdca26\"],[1.0,\"#f0f921\"]],\"type\":\"histogram2dcontour\"}],\"mesh3d\":[{\"colorbar\":{\"outlinewidth\":0,\"ticks\":\"\"},\"type\":\"mesh3d\"}],\"parcoords\":[{\"line\":{\"colorbar\":{\"outlinewidth\":0,\"ticks\":\"\"}},\"type\":\"parcoords\"}],\"pie\":[{\"automargin\":true,\"type\":\"pie\"}],\"scatter\":[{\"marker\":{\"colorbar\":{\"outlinewidth\":0,\"ticks\":\"\"}},\"type\":\"scatter\"}],\"scatter3d\":[{\"line\":{\"colorbar\":{\"outlinewidth\":0,\"ticks\":\"\"}},\"marker\":{\"colorbar\":{\"outlinewidth\":0,\"ticks\":\"\"}},\"type\":\"scatter3d\"}],\"scattercarpet\":[{\"marker\":{\"colorbar\":{\"outlinewidth\":0,\"ticks\":\"\"}},\"type\":\"scattercarpet\"}],\"scattergeo\":[{\"marker\":{\"colorbar\":{\"outlinewidth\":0,\"ticks\":\"\"}},\"type\":\"scattergeo\"}],\"scattergl\":[{\"marker\":{\"colorbar\":{\"outlinewidth\":0,\"ticks\":\"\"}},\"type\":\"scattergl\"}],\"scattermapbox\":[{\"marker\":{\"colorbar\":{\"outlinewidth\":0,\"ticks\":\"\"}},\"type\":\"scattermapbox\"}],\"scatterpolar\":[{\"marker\":{\"colorbar\":{\"outlinewidth\":0,\"ticks\":\"\"}},\"type\":\"scatterpolar\"}],\"scatterpolargl\":[{\"marker\":{\"colorbar\":{\"outlinewidth\":0,\"ticks\":\"\"}},\"type\":\"scatterpolargl\"}],\"scatterternary\":[{\"marker\":{\"colorbar\":{\"outlinewidth\":0,\"ticks\":\"\"}},\"type\":\"scatterternary\"}],\"surface\":[{\"colorbar\":{\"outlinewidth\":0,\"ticks\":\"\"},\"colorscale\":[[0.0,\"#0d0887\"],[0.1111111111111111,\"#46039f\"],[0.2222222222222222,\"#7201a8\"],[0.3333333333333333,\"#9c179e\"],[0.4444444444444444,\"#bd3786\"],[0.5555555555555556,\"#d8576b\"],[0.6666666666666666,\"#ed7953\"],[0.7777777777777778,\"#fb9f3a\"],[0.8888888888888888,\"#fdca26\"],[1.0,\"#f0f921\"]],\"type\":\"surface\"}],\"table\":[{\"cells\":{\"fill\":{\"color\":\"#EBF0F8\"},\"line\":{\"color\":\"white\"}},\"header\":{\"fill\":{\"color\":\"#C8D4E3\"},\"line\":{\"color\":\"white\"}},\"type\":\"table\"}]},\"layout\":{\"annotationdefaults\":{\"arrowcolor\":\"#2a3f5f\",\"arrowhead\":0,\"arrowwidth\":1},\"autotypenumbers\":\"strict\",\"coloraxis\":{\"colorbar\":{\"outlinewidth\":0,\"ticks\":\"\"}},\"colorscale\":{\"diverging\":[[0,\"#8e0152\"],[0.1,\"#c51b7d\"],[0.2,\"#de77ae\"],[0.3,\"#f1b6da\"],[0.4,\"#fde0ef\"],[0.5,\"#f7f7f7\"],[0.6,\"#e6f5d0\"],[0.7,\"#b8e186\"],[0.8,\"#7fbc41\"],[0.9,\"#4d9221\"],[1,\"#276419\"]],\"sequential\":[[0.0,\"#0d0887\"],[0.1111111111111111,\"#46039f\"],[0.2222222222222222,\"#7201a8\"],[0.3333333333333333,\"#9c179e\"],[0.4444444444444444,\"#bd3786\"],[0.5555555555555556,\"#d8576b\"],[0.6666666666666666,\"#ed7953\"],[0.7777777777777778,\"#fb9f3a\"],[0.8888888888888888,\"#fdca26\"],[1.0,\"#f0f921\"]],\"sequentialminus\":[[0.0,\"#0d0887\"],[0.1111111111111111,\"#46039f\"],[0.2222222222222222,\"#7201a8\"],[0.3333333333333333,\"#9c179e\"],[0.4444444444444444,\"#bd3786\"],[0.5555555555555556,\"#d8576b\"],[0.6666666666666666,\"#ed7953\"],[0.7777777777777778,\"#fb9f3a\"],[0.8888888888888888,\"#fdca26\"],[1.0,\"#f0f921\"]]},\"colorway\":[\"#636efa\",\"#EF553B\",\"#00cc96\",\"#ab63fa\",\"#FFA15A\",\"#19d3f3\",\"#FF6692\",\"#B6E880\",\"#FF97FF\",\"#FECB52\"],\"font\":{\"color\":\"#2a3f5f\"},\"geo\":{\"bgcolor\":\"white\",\"lakecolor\":\"white\",\"landcolor\":\"#E5ECF6\",\"showlakes\":true,\"showland\":true,\"subunitcolor\":\"white\"},\"hoverlabel\":{\"align\":\"left\"},\"hovermode\":\"closest\",\"mapbox\":{\"style\":\"light\"},\"paper_bgcolor\":\"white\",\"plot_bgcolor\":\"#E5ECF6\",\"polar\":{\"angularaxis\":{\"gridcolor\":\"white\",\"linecolor\":\"white\",\"ticks\":\"\"},\"bgcolor\":\"#E5ECF6\",\"radialaxis\":{\"gridcolor\":\"white\",\"linecolor\":\"white\",\"ticks\":\"\"}},\"scene\":{\"xaxis\":{\"backgroundcolor\":\"#E5ECF6\",\"gridcolor\":\"white\",\"gridwidth\":2,\"linecolor\":\"white\",\"showbackground\":true,\"ticks\":\"\",\"zerolinecolor\":\"white\"},\"yaxis\":{\"backgroundcolor\":\"#E5ECF6\",\"gridcolor\":\"white\",\"gridwidth\":2,\"linecolor\":\"white\",\"showbackground\":true,\"ticks\":\"\",\"zerolinecolor\":\"white\"},\"zaxis\":{\"backgroundcolor\":\"#E5ECF6\",\"gridcolor\":\"white\",\"gridwidth\":2,\"linecolor\":\"white\",\"showbackground\":true,\"ticks\":\"\",\"zerolinecolor\":\"white\"}},\"shapedefaults\":{\"line\":{\"color\":\"#2a3f5f\"}},\"ternary\":{\"aaxis\":{\"gridcolor\":\"white\",\"linecolor\":\"white\",\"ticks\":\"\"},\"baxis\":{\"gridcolor\":\"white\",\"linecolor\":\"white\",\"ticks\":\"\"},\"bgcolor\":\"#E5ECF6\",\"caxis\":{\"gridcolor\":\"white\",\"linecolor\":\"white\",\"ticks\":\"\"}},\"title\":{\"x\":0.05},\"xaxis\":{\"automargin\":true,\"gridcolor\":\"white\",\"linecolor\":\"white\",\"ticks\":\"\",\"title\":{\"standoff\":15},\"zerolinecolor\":\"white\",\"zerolinewidth\":2},\"yaxis\":{\"automargin\":true,\"gridcolor\":\"white\",\"linecolor\":\"white\",\"ticks\":\"\",\"title\":{\"standoff\":15},\"zerolinecolor\":\"white\",\"zerolinewidth\":2}}},\"xaxis\":{\"anchor\":\"y\",\"domain\":[0.0,1.0],\"title\":{\"text\":\"x\"}},\"yaxis\":{\"anchor\":\"x\",\"domain\":[0.0,1.0],\"title\":{\"text\":\"y\"}},\"legend\":{\"tracegroupgap\":0},\"margin\":{\"t\":60}},                        {\"responsive\": true}                    ).then(function(){\n",
              "                            \n",
              "var gd = document.getElementById('cbc51453-a2b0-48d0-a846-527b285ee315');\n",
              "var x = new MutationObserver(function (mutations, observer) {{\n",
              "        var display = window.getComputedStyle(gd).display;\n",
              "        if (!display || display === 'none') {{\n",
              "            console.log([gd, 'removed!']);\n",
              "            Plotly.purge(gd);\n",
              "            observer.disconnect();\n",
              "        }}\n",
              "}});\n",
              "\n",
              "// Listen for the removal of the full notebook cells\n",
              "var notebookContainer = gd.closest('#notebook-container');\n",
              "if (notebookContainer) {{\n",
              "    x.observe(notebookContainer, {childList: true});\n",
              "}}\n",
              "\n",
              "// Listen for the clearing of the current output cell\n",
              "var outputEl = gd.closest('.output');\n",
              "if (outputEl) {{\n",
              "    x.observe(outputEl, {childList: true});\n",
              "}}\n",
              "\n",
              "                        })                };                            </script>        </div>\n",
              "</body>\n",
              "</html>"
            ]
          },
          "metadata": {}
        }
      ],
      "source": [
        "import plotly.express as px\n",
        "fig = px.scatter(x=df2.Date, y=df2.Petrol)\n",
        "fig.show()"
      ]
    },
    {
      "cell_type": "code",
      "execution_count": 12,
      "id": "538544df",
      "metadata": {
        "id": "538544df",
        "colab": {
          "base_uri": "https://localhost:8080/",
          "height": 542
        },
        "outputId": "97cd6c23-163e-49fd-e670-09bd9e9db699"
      },
      "outputs": [
        {
          "output_type": "display_data",
          "data": {
            "text/html": [
              "<html>\n",
              "<head><meta charset=\"utf-8\" /></head>\n",
              "<body>\n",
              "    <div>            <script src=\"https://cdnjs.cloudflare.com/ajax/libs/mathjax/2.7.5/MathJax.js?config=TeX-AMS-MML_SVG\"></script><script type=\"text/javascript\">if (window.MathJax) {MathJax.Hub.Config({SVG: {font: \"STIX-Web\"}});}</script>                <script type=\"text/javascript\">window.PlotlyConfig = {MathJaxConfig: 'local'};</script>\n",
              "        <script src=\"https://cdn.plot.ly/plotly-2.8.3.min.js\"></script>                <div id=\"385ac1ba-6f26-499b-b6bc-1c7aadce51d4\" class=\"plotly-graph-div\" style=\"height:525px; width:100%;\"></div>            <script type=\"text/javascript\">                                    window.PLOTLYENV=window.PLOTLYENV || {};                                    if (document.getElementById(\"385ac1ba-6f26-499b-b6bc-1c7aadce51d4\")) {                    Plotly.newPlot(                        \"385ac1ba-6f26-499b-b6bc-1c7aadce51d4\",                        [{\"hovertemplate\":\"x=%{x}<br>y=%{y}<extra></extra>\",\"legendgroup\":\"\",\"marker\":{\"color\":\"#636efa\",\"symbol\":\"circle\"},\"mode\":\"markers\",\"name\":\"\",\"orientation\":\"v\",\"showlegend\":false,\"x\":[\"6/9/2003\",\"6/16/2003\",\"6/23/2003\",\"6/30/2003\",\"7/7/2003\",\"7/14/2003\",\"7/21/2003\",\"7/28/2003\",\"8/4/2003\",\"8/11/2003\",\"8/18/2003\",\"8/26/2003\",\"9/1/2003\",\"9/8/2003\",\"9/15/2003\",\"9/22/2003\",\"9/29/2003\",\"10/6/2003\",\"10/13/2003\",\"10/20/2003\",\"10/27/2003\",\"11/3/2003\",\"11/10/2003\",\"11/17/2003\",\"11/24/2003\",\"12/1/2003\",\"12/8/2003\",\"12/15/2003\",\"12/22/2003\",\"12/29/2003\",\"1/5/2004\",\"1/12/2004\",\"1/19/2004\",\"1/26/2004\",\"2/2/2004\",\"2/9/2004\",\"2/16/2004\",\"2/23/2004\",\"3/1/2004\",\"3/8/2004\",\"3/15/2004\",\"3/22/2004\",\"3/29/2004\",\"4/5/2004\",\"4/12/2004\",\"4/19/2004\",\"4/26/2004\",\"5/4/2004\",\"5/10/2004\",\"5/17/2004\",\"5/24/2004\",\"5/31/2004\",\"6/7/2004\",\"6/14/2004\",\"6/21/2004\",\"6/28/2004\",\"7/5/2004\",\"7/12/2004\",\"7/19/2004\",\"7/26/2004\",\"8/2/2004\",\"8/9/2004\",\"8/16/2004\",\"8/23/2004\",\"8/31/2004\",\"9/6/2004\",\"9/13/2004\",\"9/20/2004\",\"9/27/2004\",\"10/4/2004\",\"10/11/2004\",\"10/18/2004\",\"10/25/2004\",\"11/1/2004\",\"11/8/2004\",\"11/15/2004\",\"11/22/2004\",\"11/29/2004\",\"12/6/2004\",\"12/20/2004\",\"12/27/2004\",\"1/3/2005\",\"1/10/2005\",\"1/17/2005\",\"1/24/2005\",\"1/31/2005\",\"2/7/2005\",\"2/14/2005\",\"2/21/2005\",\"2/28/2005\",\"3/7/2005\",\"3/14/2005\",\"3/21/2005\",\"3/28/2005\",\"4/4/2005\",\"4/11/2005\",\"4/18/2005\",\"4/25/2005\",\"5/2/2005\",\"5/9/2005\",\"5/16/2005\",\"5/23/2005\",\"5/30/2005\",\"6/6/2005\",\"6/13/2005\",\"6/20/2005\",\"6/27/2005\",\"7/4/2005\",\"7/11/2005\",\"7/18/2005\",\"7/25/2005\",\"8/1/2005\",\"8/8/2005\",\"8/15/2005\",\"8/22/2005\",\"8/29/2005\",\"9/5/2005\",\"9/12/2005\",\"9/19/2005\",\"9/26/2005\",\"10/3/2005\",\"10/10/2005\",\"10/17/2005\",\"10/24/2005\",\"11/7/2005\",\"11/14/2005\",\"11/21/2005\",\"11/28/2005\",\"12/5/2005\",\"12/12/2005\",\"12/19/2005\",\"12/26/2005\",\"1/2/2006\",\"1/9/2006\",\"1/16/2006\",\"1/23/2006\",\"1/30/2006\",\"2/6/2006\",\"2/13/2006\",\"2/20/2006\",\"3/6/2006\",\"3/13/2006\",\"3/20/2006\",\"3/27/2006\",\"4/3/2006\",\"4/10/2006\",\"4/18/2006\",\"4/24/2006\",\"5/1/2006\",\"5/8/2006\",\"5/15/2006\",\"5/22/2006\",\"5/29/2006\",\"6/5/2006\",\"6/12/2006\",\"6/19/2006\",\"6/26/2006\",\"7/3/2006\",\"7/10/2006\",\"7/17/2006\",\"7/24/2006\",\"7/31/2006\",\"8/7/2006\",\"8/14/2006\",\"8/21/2006\",\"8/28/2006\",\"9/4/2006\",\"9/11/2006\",\"9/18/2006\",\"9/25/2006\",\"10/2/2006\",\"10/9/2006\",\"10/16/2006\",\"10/23/2006\",\"10/30/2006\",\"11/6/2006\",\"11/13/2006\",\"11/27/2006\",\"12/4/2006\",\"12/11/2006\",\"12/18/2006\",\"12/25/2006\",\"1/1/2007\",\"1/8/2007\",\"1/15/2007\",\"1/22/2007\",\"1/29/2007\",\"2/5/2007\",\"2/12/2007\",\"2/19/2007\",\"2/26/2007\",\"3/5/2007\",\"3/12/2007\",\"3/19/2007\",\"3/26/2007\",\"4/2/2007\",\"4/10/2007\",\"4/16/2007\",\"4/23/2007\",\"4/30/2007\",\"5/7/2007\",\"5/14/2007\",\"5/21/2007\",\"5/28/2007\",\"6/4/2007\",\"6/11/2007\",\"6/18/2007\",\"6/25/2007\",\"7/2/2007\",\"7/9/2007\",\"7/16/2007\",\"7/23/2007\",\"7/30/2007\",\"8/6/2007\",\"8/13/2007\",\"8/20/2007\",\"8/27/2007\",\"9/3/2007\",\"9/10/2007\",\"9/17/2007\",\"9/24/2007\",\"10/1/2007\",\"10/8/2007\",\"10/15/2007\",\"10/22/2007\",\"10/29/2007\",\"11/5/2007\",\"11/12/2007\",\"11/19/2007\",\"11/26/2007\",\"12/3/2007\",\"12/10/2007\",\"12/17/2007\",\"12/24/2007\",\"12/31/2007\",\"1/7/2008\",\"1/14/2008\",\"1/21/2008\",\"1/28/2008\",\"2/4/2008\",\"2/11/2008\",\"2/18/2008\",\"2/25/2008\",\"3/3/2008\",\"3/10/2008\",\"3/17/2008\",\"3/24/2008\",\"3/31/2008\",\"4/7/2008\",\"4/14/2008\",\"4/21/2008\",\"4/28/2008\",\"5/5/2008\",\"5/12/2008\",\"5/19/2008\",\"5/26/2008\",\"6/2/2008\",\"6/9/2008\",\"6/16/2008\",\"6/23/2008\",\"6/30/2008\",\"7/7/2008\",\"7/14/2008\",\"7/21/2008\",\"7/28/2008\",\"8/4/2008\",\"8/11/2008\",\"8/18/2008\",\"8/25/2008\",\"9/1/2008\",\"9/8/2008\",\"9/15/2008\",\"9/22/2008\",\"9/29/2008\",\"10/6/2008\",\"10/13/2008\",\"10/20/2008\",\"10/27/2008\",\"11/3/2008\",\"11/10/2008\",\"11/17/2008\",\"11/24/2008\",\"12/1/2008\",\"12/8/2008\",\"12/15/2008\",\"12/22/2008\",\"12/29/2008\",\"1/5/2009\",\"1/12/2009\",\"1/19/2009\",\"1/26/2009\",\"2/2/2009\",\"2/9/2009\",\"2/16/2009\",\"2/23/2009\",\"3/2/2009\",\"3/9/2009\",\"3/16/2009\",\"3/23/2009\",\"3/30/2009\",\"4/6/2009\",\"4/13/2009\",\"4/20/2009\",\"4/27/2009\",\"5/4/2009\",\"5/11/2009\",\"5/18/2009\",\"5/25/2009\",\"6/1/2009\",\"6/8/2009\",\"6/15/2009\",\"6/22/2009\",\"6/29/2009\",\"7/6/2009\",\"7/13/2009\",\"7/20/2009\",\"7/27/2009\",\"8/3/2009\",\"8/10/2009\",\"8/17/2009\",\"8/24/2009\",\"8/31/2009\",\"9/7/2009\",\"9/14/2009\",\"9/21/2009\",\"9/28/2009\",\"10/5/2009\",\"10/12/2009\",\"10/19/2009\",\"10/26/2009\",\"11/2/2009\",\"11/9/2009\",\"11/16/2009\",\"11/23/2009\",\"11/30/2009\",\"12/7/2009\",\"12/14/2009\",\"12/21/2009\",\"12/28/2009\",\"1/4/2010\",\"1/11/2010\",\"1/18/2010\",\"1/25/2010\",\"2/1/2010\",\"2/8/2010\",\"2/15/2010\",\"2/22/2010\",\"3/1/2010\",\"3/8/2010\",\"3/15/2010\",\"3/22/2010\",\"3/29/2010\",\"4/5/2010\",\"4/12/2010\",\"4/19/2010\",\"4/26/2010\",\"5/3/2010\",\"5/10/2010\",\"5/17/2010\",\"5/24/2010\",\"5/31/2010\",\"6/7/2010\",\"6/14/2010\",\"6/21/2010\",\"6/28/2010\",\"7/5/2010\",\"7/12/2010\",\"7/19/2010\",\"7/26/2010\",\"8/2/2010\",\"8/9/2010\",\"8/16/2010\",\"8/23/2010\",\"8/30/2010\",\"9/6/2010\",\"9/13/2010\",\"9/20/2010\",\"9/27/2010\",\"10/4/2010\",\"10/11/2010\",\"10/18/2010\",\"10/25/2010\",\"11/1/2010\",\"11/8/2010\",\"11/15/2010\",\"11/22/2010\",\"11/29/2010\",\"12/6/2010\",\"12/13/2010\",\"12/20/2010\",\"12/27/2010\",\"1/3/2011\",\"1/10/2011\",\"1/17/2011\",\"1/24/2011\",\"1/31/2011\",\"2/7/2011\",\"2/14/2011\",\"2/21/2011\",\"2/28/2011\",\"3/7/2011\",\"3/14/2011\",\"3/21/2011\",\"3/28/2011\",\"4/4/2011\",\"4/11/2011\",\"4/18/2011\",\"4/25/2011\",\"5/2/2011\",\"5/9/2011\",\"5/16/2011\",\"5/23/2011\",\"5/30/2011\",\"6/6/2011\",\"6/13/2011\",\"6/20/2011\",\"6/27/2011\",\"7/4/2011\",\"7/11/2011\",\"7/18/2011\",\"7/25/2011\",\"8/1/2011\",\"8/8/2011\",\"8/15/2011\",\"8/22/2011\",\"8/29/2011\",\"9/5/2011\",\"9/12/2011\",\"9/19/2011\",\"9/26/2011\",\"10/3/2011\",\"10/10/2011\",\"10/17/2011\",\"10/24/2011\",\"10/31/2011\",\"11/7/2011\",\"11/14/2011\",\"11/21/2011\",\"11/28/2011\",\"12/5/2011\",\"12/12/2011\",\"12/19/2011\",\"12/26/2011\",\"1/2/2012\",\"1/9/2012\",\"1/16/2012\",\"1/23/2012\",\"1/30/2012\",\"2/6/2012\",\"2/13/2012\",\"2/20/2012\",\"2/27/2012\",\"3/5/2012\",\"3/12/2012\",\"3/19/2012\",\"3/26/2012\",\"4/2/2012\",\"4/9/2012\",\"4/16/2012\",\"4/23/2012\",\"4/30/2012\",\"5/7/2012\",\"5/14/2012\",\"5/21/2012\",\"5/28/2012\",\"6/4/2012\",\"6/11/2012\",\"6/18/2012\",\"6/25/2012\",\"7/2/2012\",\"7/9/2012\",\"7/16/2012\",\"7/23/2012\",\"7/30/2012\",\"8/6/2012\",\"8/13/2012\",\"8/20/2012\",\"8/27/2012\",\"9/3/2012\",\"9/10/2012\",\"9/17/2012\",\"9/24/2012\",\"10/1/2012\",\"10/8/2012\",\"10/15/2012\",\"10/22/2012\",\"10/29/2012\",\"11/5/2012\",\"11/12/2012\",\"11/19/2012\",\"11/26/2012\",\"12/3/2012\",\"12/10/2012\",\"12/17/2012\",\"12/24/2012\",\"12/31/2012\",\"1/7/2013\",\"1/14/2013\",\"1/21/2013\",\"1/28/2013\",\"2/4/2013\",\"2/11/2013\",\"2/18/2013\",\"2/25/2013\",\"3/4/2013\",\"3/11/2013\",\"3/18/2013\",\"3/25/2013\",\"4/1/2013\",\"4/8/2013\",\"4/15/2013\",\"4/22/2013\",\"4/29/2013\",\"5/6/2013\",\"5/13/2013\",\"5/20/2013\",\"5/27/2013\",\"6/3/2013\",\"6/10/2013\",\"6/17/2013\",\"6/24/2013\",\"7/1/2013\",\"7/8/2013\",\"7/15/2013\",\"7/22/2013\",\"7/29/2013\",\"8/5/2013\",\"8/12/2013\",\"8/19/2013\",\"8/28/2013\",\"9/2/2013\",\"9/9/2013\",\"9/16/2013\",\"9/23/2013\",\"9/30/2013\",\"10/7/2013\",\"10/14/2013\",\"10/21/2013\",\"10/28/2013\",\"11/4/2013\",\"11/11/2013\",\"11/18/2013\",\"11/25/2013\",\"12/2/2013\",\"12/9/2013\",\"12/16/2013\",\"12/23/2013\",\"12/30/2013\",\"1/6/2014\",\"1/13/2014\",\"1/20/2014\",\"1/27/2014\",\"2/3/2014\",\"2/10/2014\",\"2/17/2014\",\"2/24/2014\",\"3/3/2014\",\"3/10/2014\",\"3/17/2014\",\"3/24/2014\",\"3/31/2014\",\"4/7/2014\",\"4/14/2014\",\"4/21/2014\",\"4/28/2014\",\"5/5/2014\",\"5/12/2014\",\"5/19/2014\",\"5/26/2014\",\"6/2/2014\",\"6/9/2014\",\"6/16/2014\",\"6/23/2014\",\"6/30/2014\",\"7/7/2014\",\"7/14/2014\",\"7/21/2014\",\"7/28/2014\",\"8/4/2014\",\"8/11/2014\",\"8/18/2014\",\"8/25/2014\",\"9/1/2014\",\"9/8/2014\",\"9/15/2014\",\"9/22/2014\",\"9/29/2014\",\"10/6/2014\",\"10/13/2014\",\"10/20/2014\",\"10/27/2014\",\"11/3/2014\",\"11/10/2014\",\"11/17/2014\",\"11/24/2014\",\"12/1/2014\",\"12/8/2014\",\"12/15/2014\",\"12/22/2014\",\"12/29/2014\",\"1/5/2015\",\"1/12/2015\",\"1/19/2015\",\"1/26/2015\",\"2/2/2015\",\"2/9/2015\",\"2/16/2015\",\"2/23/2015\",\"3/2/2015\",\"3/9/2015\",\"3/16/2015\",\"3/23/2015\",\"3/30/2015\",\"4/6/2015\",\"4/13/2015\",\"4/20/2015\",\"4/27/2015\",\"5/4/2015\",\"5/11/2015\",\"5/18/2015\",\"5/25/2015\",\"6/1/2015\",\"6/8/2015\",\"6/15/2015\",\"6/22/2015\",\"6/29/2015\",\"7/6/2015\",\"7/13/2015\",\"7/20/2015\",\"7/27/2015\",\"8/3/2015\",\"8/10/2015\",\"8/17/2015\",\"8/24/2015\",\"8/31/2015\",\"9/7/2015\",\"9/14/2015\",\"9/21/2015\",\"9/28/2015\",\"10/5/2015\",\"10/12/2015\",\"10/19/2015\",\"10/26/2015\",\"11/2/2015\",\"11/9/2015\",\"11/16/2015\",\"11/23/2015\",\"11/30/2015\",\"12/7/2015\",\"12/14/2015\",\"12/21/2015\",\"12/28/2015\",\"1/4/2016\",\"1/11/2016\",\"1/18/2016\",\"1/25/2016\",\"2/1/2016\",\"2/8/2016\",\"2/15/2016\",\"2/22/2016\",\"2/29/2016\",\"3/7/2016\",\"3/14/2016\",\"3/21/2016\",\"3/28/2016\",\"4/4/2016\",\"4/11/2016\",\"4/18/2016\",\"4/25/2016\",\"5/2/2016\",\"5/9/2016\",\"5/16/2016\",\"5/23/2016\",\"5/30/2016\",\"6/6/2016\",\"6/13/2016\",\"6/20/2016\",\"6/27/2016\",\"7/4/2016\",\"7/11/2016\",\"7/18/2016\",\"7/25/2016\",\"8/1/2016\",\"8/8/2016\",\"8/15/2016\",\"8/22/2016\",\"8/29/2016\",\"9/5/2016\",\"9/12/2016\",\"9/19/2016\",\"9/26/2016\",\"10/3/2016\",\"10/10/2016\",\"10/17/2016\",\"10/24/2016\",\"10/31/2016\",\"11/7/2016\",\"11/14/2016\",\"11/21/2016\",\"11/28/2016\",\"12/5/2016\",\"12/12/2016\",\"12/19/2016\",\"12/26/2016\",\"1/2/2017\",\"1/9/2017\",\"1/16/2017\",\"1/23/2017\",\"1/30/2017\",\"2/6/2017\",\"2/13/2017\",\"2/20/2017\",\"2/27/2017\",\"3/6/2017\",\"3/13/2017\",\"3/20/2017\",\"3/27/2017\",\"4/3/2017\",\"4/10/2017\",\"4/17/2017\",\"4/24/2017\",\"5/1/2017\",\"5/8/2017\",\"5/15/2017\",\"5/22/2017\",\"5/29/2017\",\"6/5/2017\",\"6/12/2017\",\"6/19/2017\",\"6/26/2017\",\"7/3/2017\",\"7/10/2017\",\"7/17/2017\",\"7/24/2017\",\"7/31/2017\",\"8/7/2017\",\"8/14/2017\",\"8/21/2017\",\"8/28/2017\",\"9/4/2017\",\"9/11/2017\",\"9/18/2017\",\"9/25/2017\",\"10/2/2017\",\"10/9/2017\",\"10/16/2017\",\"10/23/2017\",\"10/30/2017\",\"11/6/2017\",\"11/13/2017\",\"11/20/2017\",\"11/27/2017\",\"12/4/2017\",\"12/11/2017\",\"12/18/2017\",\"12/25/2017\",\"1/1/2018\",\"1/8/2018\",\"1/15/2018\",\"1/22/2018\",\"1/29/2018\",\"2/5/2018\",\"2/12/2018\",\"2/19/2018\",\"2/26/2018\",\"3/5/2018\",\"3/12/2018\",\"3/19/2018\",\"3/26/2018\",\"4/2/2018\",\"4/9/2018\",\"4/16/2018\",\"4/23/2018\",\"4/30/2018\",\"5/7/2018\",\"5/14/2018\",\"5/21/2018\",\"5/28/2018\",\"6/4/2018\",\"6/11/2018\",\"6/18/2018\",\"6/25/2018\",\"7/2/2018\",\"7/9/2018\",\"7/16/2018\",\"7/23/2018\",\"7/30/2018\",\"8/6/2018\",\"8/13/2018\",\"8/20/2018\",\"8/27/2018\",\"9/3/2018\",\"9/10/2018\",\"9/17/2018\",\"9/24/2018\",\"10/1/2018\",\"10/8/2018\",\"10/15/2018\",\"10/22/2018\",\"10/29/2018\",\"11/5/2018\",\"11/12/2018\",\"11/19/2018\",\"11/26/2018\",\"12/3/2018\",\"12/10/2018\",\"12/17/2018\",\"12/24/2018\",\"12/31/2018\"],\"xaxis\":\"x\",\"y\":[74.59,74.47,74.42,74.35,74.28,74.21,75.07,75.1,75.12,75.44,75.81,76.05,76.13,76.23,76.2,76.15,76.08,76.43,75.9,76.05,76.0,76.0,75.94,75.93,76.02,76.0,75.97,75.96,75.92,75.94,75.88,75.9,76.36,76.44,76.48,76.5,76.44,76.38,76.32,76.73,77.39,77.44,77.59,77.86,77.88,78.04,78.4,79.28,80.3,81.49,82.13,82.35,82.44,81.54,81.04,80.41,79.87,80.34,80.84,80.87,80.86,81.18,81.25,81.51,81.53,81.37,81.31,81.28,81.63,82.05,83.11,83.35,83.94,84.27,84.34,84.26,81.46,84.17,84.06,81.46,81.2,81.17,79.84,78.93,78.93,79.54,79.84,80.03,80.15,80.45,81.16,81.64,82.7,83.4,83.91,85.61,85.63,85.51,85.44,85.36,85.27,84.77,84.18,84.01,84.99,85.52,86.73,87.49,87.73,88.55,89.0,89.25,89.67,90.56,90.77,91.42,94.37,95.07,94.41,93.33,93.51,94.25,94.14,93.47,92.47,90.53,88.61,87.35,87.35,87.2,87.56,87.88,88.03,88.56,89.01,89.55,89.88,89.73,89.65,89.6,89.37,89.55,90.19,91.16,91.78,92.77,94.23,95.35,96.13,96.46,96.39,96.1,95.36,95.24,95.49,95.44,94.97,95.27,95.69,96.88,97.78,97.83,98.05,97.82,95.74,94.4,92.88,91.48,89.78,88.2,86.95,86.6,85.91,85.74,85.6,85.54,85.49,85.47,85.46,87.44,87.7,87.9,87.85,87.66,87.1,86.28,85.66,85.62,86.12,86.6,87.07,87.74,88.48,88.93,89.32,90.47,91.18,91.99,92.93,93.45,94.43,95.07,95.71,96.16,96.51,96.61,96.56,96.54,96.36,96.2,96.21,96.23,96.2,96.15,96.0,95.31,95.0,94.8,94.63,94.65,94.91,96.39,97.14,97.19,97.81,98.26,99.36,100.74,101.47,102.13,102.58,102.67,102.6,102.53,102.66,103.37,103.82,104.22,104.22,104.03,103.67,103.7,104.65,105.24,105.96,106.41,106.9,107.1,107.24,107.61,108.57,109.5,110.3,111.04,112.96,114.79,116.03,116.86,117.69,118.44,118.84,119.28,119.44,119.4,116.91,115.06,113.92,112.22,112.02,112.2,112.55,112.51,110.81,109.85,109.45,107.04,102.66,98.62,97.4,95.89,94.83,92.79,91.47,90.16,89.07,88.01,87.34,85.42,86.02,86.19,87.42,88.16,89.28,90.12,90.33,90.28,90.15,90.16,90.16,91.35,93.72,94.11,94.62,95.13,95.6,96.59,97.54,98.9,99.39,100.59,101.98,102.81,103.3,103.57,102.78,102.22,102.17,102.36,103.01,103.96,104.7,105.11,106.85,106.43,105.96,105.44,104.87,104.71,105.08,106.76,107.43,108.1,108.48,108.73,108.79,108.64,108.5,107.47,107.44,109.34,110.72,111.6,111.87,111.91,111.95,111.89,111.56,112.42,113.71,115.46,116.59,117.28,119.29,119.94,120.55,120.99,121.18,121.31,121.3,119.93,118.54,118.2,117.87,117.8,117.88,117.91,117.39,116.85,116.61,116.51,116.35,116.34,115.64,114.98,114.59,114.66,115.06,115.39,116.01,116.78,117.28,117.74,118.18,118.67,118.8,118.99,119.21,120.54,121.68,122.31,123.44,124.85,127.4,127.87,128.35,128.55,128.64,128.73,128.92,129.72,131.28,132.18,133.11,132.44,132.81,133.68,135.06,135.62,136.29,137.05,136.4,136.11,135.57,135.62,135.86,136.03,134.86,133.43,134.18,134.97,135.66,136.07,136.46,135.95,134.56,134.32,134.62,135.0,135.4,135.65,135.02,134.47,134.49,134.66,134.73,134.41,133.68,133.38,133.17,132.78,132.53,132.49,132.41,132.4,132.68,133.29,133.72,134.1,134.25,134.9,135.21,136.21,137.3,137.9,138.96,139.48,140.99,141.97,142.17,141.76,141.0,140.14,138.29,135.77,134.37,134.06,133.67,131.99,131.55,130.5,131.06,131.49,132.21,132.78,133.39,134.27,135.72,137.1,138.03,138.91,139.42,139.54,138.43,138.24,138.35,138.29,136.98,136.43,135.09,134.56,134.38,133.05,132.55,131.98,131.95,131.92,131.86,132.0,132.21,132.95,134.38,135.56,136.86,138.5,139.47,140.0,137.58,137.09,137.3,137.31,137.11,135.68,134.66,133.42,133.12,133.17,133.64,134.04,134.3,134.46,134.52,133.44,133.77,134.95,136.04,136.87,137.02,137.13,137.0,136.83,137.14,137.6,137.47,136.95,133.4,131.62,131.67,131.53,131.42,129.92,129.71,129.89,130.03,130.25,130.76,130.96,130.05,130.03,130.26,130.36,129.37,129.02,128.85,128.81,129.16,129.2,129.36,129.39,128.76,128.57,128.76,128.71,128.89,129.11,129.09,129.27,129.5,129.42,129.51,129.63,129.69,129.88,130.14,130.69,131.1,131.11,131.04,130.83,129.63,129.41,129.29,128.34,128.01,128.34,128.43,128.62,128.59,126.78,126.5,125.4,125.11,123.94,122.94,122.5,122.29,121.18,119.83,116.3,113.66,113.16,111.06,108.87,106.83,106.32,106.04,106.35,107.26,108.34,109.2,110.07,111.04,111.65,112.06,112.37,112.52,112.87,113.55,114.27,115.1,115.74,116.02,116.13,116.26,116.39,116.6,116.55,116.34,116.41,116.79,116.44,116.12,115.48,114.58,113.23,111.21,110.9,110.6,110.61,109.47,108.94,108.97,109.01,108.04,107.21,107.14,107.36,107.29,106.97,106.75,104.0,102.33,102.11,102.0,101.89,101.8,101.42,101.36,101.51,101.45,101.39,101.42,101.46,101.71,102.58,103.4,104.51,105.39,106.41,107.14,107.82,108.19,108.53,109.12,109.79,110.4,111.03,111.22,111.44,111.65,111.89,111.92,111.69,111.05,109.75,109.28,109.63,110.43,110.97,111.31,111.29,111.36,111.65,112.35,113.72,115.2,116.02,116.56,116.5,114.71,113.72,113.66,114.23,115.0,115.45,117.0,117.98,118.63,119.43,120.01,120.18,120.15,120.2,120.12,120.02,119.8,118.95,118.03,116.93,117.02,117.54,118.15,118.08,117.06,115.6,115.67,115.79,115.82,115.69,115.12,114.43,113.74,113.58,113.89,113.99,114.16,114.78,115.53,116.04,116.4,116.95,118.14,118.85,118.87,118.13,117.16,117.01,117.04,117.06,117.57,118.91,119.67,120.13,119.75,119.91,119.98,120.0,120.19,120.52,120.96,121.5,121.69,121.73,121.58,120.52,119.55,119.29,119.11,119.17,119.23,119.43,119.96,120.56,121.44,122.22,123.27,124.32,125.93,127.58,128.43,128.61,127.92,127.18,126.54,126.97,127.47,127.5,127.54,128.02,128.39,128.79,129.18,129.76,130.24,130.59,130.59,129.98,130.15,130.81,130.98,130.64,130.11,128.94,127.4,125.77,124.3,122.37,121.02,120.61,120.18],\"yaxis\":\"y\",\"type\":\"scatter\"}],                        {\"template\":{\"data\":{\"bar\":[{\"error_x\":{\"color\":\"#2a3f5f\"},\"error_y\":{\"color\":\"#2a3f5f\"},\"marker\":{\"line\":{\"color\":\"#E5ECF6\",\"width\":0.5},\"pattern\":{\"fillmode\":\"overlay\",\"size\":10,\"solidity\":0.2}},\"type\":\"bar\"}],\"barpolar\":[{\"marker\":{\"line\":{\"color\":\"#E5ECF6\",\"width\":0.5},\"pattern\":{\"fillmode\":\"overlay\",\"size\":10,\"solidity\":0.2}},\"type\":\"barpolar\"}],\"carpet\":[{\"aaxis\":{\"endlinecolor\":\"#2a3f5f\",\"gridcolor\":\"white\",\"linecolor\":\"white\",\"minorgridcolor\":\"white\",\"startlinecolor\":\"#2a3f5f\"},\"baxis\":{\"endlinecolor\":\"#2a3f5f\",\"gridcolor\":\"white\",\"linecolor\":\"white\",\"minorgridcolor\":\"white\",\"startlinecolor\":\"#2a3f5f\"},\"type\":\"carpet\"}],\"choropleth\":[{\"colorbar\":{\"outlinewidth\":0,\"ticks\":\"\"},\"type\":\"choropleth\"}],\"contour\":[{\"colorbar\":{\"outlinewidth\":0,\"ticks\":\"\"},\"colorscale\":[[0.0,\"#0d0887\"],[0.1111111111111111,\"#46039f\"],[0.2222222222222222,\"#7201a8\"],[0.3333333333333333,\"#9c179e\"],[0.4444444444444444,\"#bd3786\"],[0.5555555555555556,\"#d8576b\"],[0.6666666666666666,\"#ed7953\"],[0.7777777777777778,\"#fb9f3a\"],[0.8888888888888888,\"#fdca26\"],[1.0,\"#f0f921\"]],\"type\":\"contour\"}],\"contourcarpet\":[{\"colorbar\":{\"outlinewidth\":0,\"ticks\":\"\"},\"type\":\"contourcarpet\"}],\"heatmap\":[{\"colorbar\":{\"outlinewidth\":0,\"ticks\":\"\"},\"colorscale\":[[0.0,\"#0d0887\"],[0.1111111111111111,\"#46039f\"],[0.2222222222222222,\"#7201a8\"],[0.3333333333333333,\"#9c179e\"],[0.4444444444444444,\"#bd3786\"],[0.5555555555555556,\"#d8576b\"],[0.6666666666666666,\"#ed7953\"],[0.7777777777777778,\"#fb9f3a\"],[0.8888888888888888,\"#fdca26\"],[1.0,\"#f0f921\"]],\"type\":\"heatmap\"}],\"heatmapgl\":[{\"colorbar\":{\"outlinewidth\":0,\"ticks\":\"\"},\"colorscale\":[[0.0,\"#0d0887\"],[0.1111111111111111,\"#46039f\"],[0.2222222222222222,\"#7201a8\"],[0.3333333333333333,\"#9c179e\"],[0.4444444444444444,\"#bd3786\"],[0.5555555555555556,\"#d8576b\"],[0.6666666666666666,\"#ed7953\"],[0.7777777777777778,\"#fb9f3a\"],[0.8888888888888888,\"#fdca26\"],[1.0,\"#f0f921\"]],\"type\":\"heatmapgl\"}],\"histogram\":[{\"marker\":{\"pattern\":{\"fillmode\":\"overlay\",\"size\":10,\"solidity\":0.2}},\"type\":\"histogram\"}],\"histogram2d\":[{\"colorbar\":{\"outlinewidth\":0,\"ticks\":\"\"},\"colorscale\":[[0.0,\"#0d0887\"],[0.1111111111111111,\"#46039f\"],[0.2222222222222222,\"#7201a8\"],[0.3333333333333333,\"#9c179e\"],[0.4444444444444444,\"#bd3786\"],[0.5555555555555556,\"#d8576b\"],[0.6666666666666666,\"#ed7953\"],[0.7777777777777778,\"#fb9f3a\"],[0.8888888888888888,\"#fdca26\"],[1.0,\"#f0f921\"]],\"type\":\"histogram2d\"}],\"histogram2dcontour\":[{\"colorbar\":{\"outlinewidth\":0,\"ticks\":\"\"},\"colorscale\":[[0.0,\"#0d0887\"],[0.1111111111111111,\"#46039f\"],[0.2222222222222222,\"#7201a8\"],[0.3333333333333333,\"#9c179e\"],[0.4444444444444444,\"#bd3786\"],[0.5555555555555556,\"#d8576b\"],[0.6666666666666666,\"#ed7953\"],[0.7777777777777778,\"#fb9f3a\"],[0.8888888888888888,\"#fdca26\"],[1.0,\"#f0f921\"]],\"type\":\"histogram2dcontour\"}],\"mesh3d\":[{\"colorbar\":{\"outlinewidth\":0,\"ticks\":\"\"},\"type\":\"mesh3d\"}],\"parcoords\":[{\"line\":{\"colorbar\":{\"outlinewidth\":0,\"ticks\":\"\"}},\"type\":\"parcoords\"}],\"pie\":[{\"automargin\":true,\"type\":\"pie\"}],\"scatter\":[{\"marker\":{\"colorbar\":{\"outlinewidth\":0,\"ticks\":\"\"}},\"type\":\"scatter\"}],\"scatter3d\":[{\"line\":{\"colorbar\":{\"outlinewidth\":0,\"ticks\":\"\"}},\"marker\":{\"colorbar\":{\"outlinewidth\":0,\"ticks\":\"\"}},\"type\":\"scatter3d\"}],\"scattercarpet\":[{\"marker\":{\"colorbar\":{\"outlinewidth\":0,\"ticks\":\"\"}},\"type\":\"scattercarpet\"}],\"scattergeo\":[{\"marker\":{\"colorbar\":{\"outlinewidth\":0,\"ticks\":\"\"}},\"type\":\"scattergeo\"}],\"scattergl\":[{\"marker\":{\"colorbar\":{\"outlinewidth\":0,\"ticks\":\"\"}},\"type\":\"scattergl\"}],\"scattermapbox\":[{\"marker\":{\"colorbar\":{\"outlinewidth\":0,\"ticks\":\"\"}},\"type\":\"scattermapbox\"}],\"scatterpolar\":[{\"marker\":{\"colorbar\":{\"outlinewidth\":0,\"ticks\":\"\"}},\"type\":\"scatterpolar\"}],\"scatterpolargl\":[{\"marker\":{\"colorbar\":{\"outlinewidth\":0,\"ticks\":\"\"}},\"type\":\"scatterpolargl\"}],\"scatterternary\":[{\"marker\":{\"colorbar\":{\"outlinewidth\":0,\"ticks\":\"\"}},\"type\":\"scatterternary\"}],\"surface\":[{\"colorbar\":{\"outlinewidth\":0,\"ticks\":\"\"},\"colorscale\":[[0.0,\"#0d0887\"],[0.1111111111111111,\"#46039f\"],[0.2222222222222222,\"#7201a8\"],[0.3333333333333333,\"#9c179e\"],[0.4444444444444444,\"#bd3786\"],[0.5555555555555556,\"#d8576b\"],[0.6666666666666666,\"#ed7953\"],[0.7777777777777778,\"#fb9f3a\"],[0.8888888888888888,\"#fdca26\"],[1.0,\"#f0f921\"]],\"type\":\"surface\"}],\"table\":[{\"cells\":{\"fill\":{\"color\":\"#EBF0F8\"},\"line\":{\"color\":\"white\"}},\"header\":{\"fill\":{\"color\":\"#C8D4E3\"},\"line\":{\"color\":\"white\"}},\"type\":\"table\"}]},\"layout\":{\"annotationdefaults\":{\"arrowcolor\":\"#2a3f5f\",\"arrowhead\":0,\"arrowwidth\":1},\"autotypenumbers\":\"strict\",\"coloraxis\":{\"colorbar\":{\"outlinewidth\":0,\"ticks\":\"\"}},\"colorscale\":{\"diverging\":[[0,\"#8e0152\"],[0.1,\"#c51b7d\"],[0.2,\"#de77ae\"],[0.3,\"#f1b6da\"],[0.4,\"#fde0ef\"],[0.5,\"#f7f7f7\"],[0.6,\"#e6f5d0\"],[0.7,\"#b8e186\"],[0.8,\"#7fbc41\"],[0.9,\"#4d9221\"],[1,\"#276419\"]],\"sequential\":[[0.0,\"#0d0887\"],[0.1111111111111111,\"#46039f\"],[0.2222222222222222,\"#7201a8\"],[0.3333333333333333,\"#9c179e\"],[0.4444444444444444,\"#bd3786\"],[0.5555555555555556,\"#d8576b\"],[0.6666666666666666,\"#ed7953\"],[0.7777777777777778,\"#fb9f3a\"],[0.8888888888888888,\"#fdca26\"],[1.0,\"#f0f921\"]],\"sequentialminus\":[[0.0,\"#0d0887\"],[0.1111111111111111,\"#46039f\"],[0.2222222222222222,\"#7201a8\"],[0.3333333333333333,\"#9c179e\"],[0.4444444444444444,\"#bd3786\"],[0.5555555555555556,\"#d8576b\"],[0.6666666666666666,\"#ed7953\"],[0.7777777777777778,\"#fb9f3a\"],[0.8888888888888888,\"#fdca26\"],[1.0,\"#f0f921\"]]},\"colorway\":[\"#636efa\",\"#EF553B\",\"#00cc96\",\"#ab63fa\",\"#FFA15A\",\"#19d3f3\",\"#FF6692\",\"#B6E880\",\"#FF97FF\",\"#FECB52\"],\"font\":{\"color\":\"#2a3f5f\"},\"geo\":{\"bgcolor\":\"white\",\"lakecolor\":\"white\",\"landcolor\":\"#E5ECF6\",\"showlakes\":true,\"showland\":true,\"subunitcolor\":\"white\"},\"hoverlabel\":{\"align\":\"left\"},\"hovermode\":\"closest\",\"mapbox\":{\"style\":\"light\"},\"paper_bgcolor\":\"white\",\"plot_bgcolor\":\"#E5ECF6\",\"polar\":{\"angularaxis\":{\"gridcolor\":\"white\",\"linecolor\":\"white\",\"ticks\":\"\"},\"bgcolor\":\"#E5ECF6\",\"radialaxis\":{\"gridcolor\":\"white\",\"linecolor\":\"white\",\"ticks\":\"\"}},\"scene\":{\"xaxis\":{\"backgroundcolor\":\"#E5ECF6\",\"gridcolor\":\"white\",\"gridwidth\":2,\"linecolor\":\"white\",\"showbackground\":true,\"ticks\":\"\",\"zerolinecolor\":\"white\"},\"yaxis\":{\"backgroundcolor\":\"#E5ECF6\",\"gridcolor\":\"white\",\"gridwidth\":2,\"linecolor\":\"white\",\"showbackground\":true,\"ticks\":\"\",\"zerolinecolor\":\"white\"},\"zaxis\":{\"backgroundcolor\":\"#E5ECF6\",\"gridcolor\":\"white\",\"gridwidth\":2,\"linecolor\":\"white\",\"showbackground\":true,\"ticks\":\"\",\"zerolinecolor\":\"white\"}},\"shapedefaults\":{\"line\":{\"color\":\"#2a3f5f\"}},\"ternary\":{\"aaxis\":{\"gridcolor\":\"white\",\"linecolor\":\"white\",\"ticks\":\"\"},\"baxis\":{\"gridcolor\":\"white\",\"linecolor\":\"white\",\"ticks\":\"\"},\"bgcolor\":\"#E5ECF6\",\"caxis\":{\"gridcolor\":\"white\",\"linecolor\":\"white\",\"ticks\":\"\"}},\"title\":{\"x\":0.05},\"xaxis\":{\"automargin\":true,\"gridcolor\":\"white\",\"linecolor\":\"white\",\"ticks\":\"\",\"title\":{\"standoff\":15},\"zerolinecolor\":\"white\",\"zerolinewidth\":2},\"yaxis\":{\"automargin\":true,\"gridcolor\":\"white\",\"linecolor\":\"white\",\"ticks\":\"\",\"title\":{\"standoff\":15},\"zerolinecolor\":\"white\",\"zerolinewidth\":2}}},\"xaxis\":{\"anchor\":\"y\",\"domain\":[0.0,1.0],\"title\":{\"text\":\"x\"}},\"yaxis\":{\"anchor\":\"x\",\"domain\":[0.0,1.0],\"title\":{\"text\":\"y\"}},\"legend\":{\"tracegroupgap\":0},\"margin\":{\"t\":60}},                        {\"responsive\": true}                    ).then(function(){\n",
              "                            \n",
              "var gd = document.getElementById('385ac1ba-6f26-499b-b6bc-1c7aadce51d4');\n",
              "var x = new MutationObserver(function (mutations, observer) {{\n",
              "        var display = window.getComputedStyle(gd).display;\n",
              "        if (!display || display === 'none') {{\n",
              "            console.log([gd, 'removed!']);\n",
              "            Plotly.purge(gd);\n",
              "            observer.disconnect();\n",
              "        }}\n",
              "}});\n",
              "\n",
              "// Listen for the removal of the full notebook cells\n",
              "var notebookContainer = gd.closest('#notebook-container');\n",
              "if (notebookContainer) {{\n",
              "    x.observe(notebookContainer, {childList: true});\n",
              "}}\n",
              "\n",
              "// Listen for the clearing of the current output cell\n",
              "var outputEl = gd.closest('.output');\n",
              "if (outputEl) {{\n",
              "    x.observe(outputEl, {childList: true});\n",
              "}}\n",
              "\n",
              "                        })                };                            </script>        </div>\n",
              "</body>\n",
              "</html>"
            ]
          },
          "metadata": {}
        }
      ],
      "source": [
        "df3=df2[df2.Petrol<160]\n",
        "fig = px.scatter(x=df3.Date, y=df3.Petrol)\n",
        "fig.show()\n"
      ]
    },
    {
      "cell_type": "code",
      "execution_count": 13,
      "id": "3670d115",
      "metadata": {
        "id": "3670d115",
        "colab": {
          "base_uri": "https://localhost:8080/"
        },
        "outputId": "8402477d-2000-4cec-e697-f391620ed616"
      },
      "outputs": [
        {
          "output_type": "execute_result",
          "data": {
            "text/plain": [
              "0    74.59\n",
              "1    74.47\n",
              "2    74.42\n",
              "3    74.35\n",
              "4    74.28\n",
              "Name: Petrol, dtype: float64"
            ]
          },
          "metadata": {},
          "execution_count": 13
        }
      ],
      "source": [
        "df4=df3.reset_index()['Petrol']\n",
        "df4.head()"
      ]
    },
    {
      "cell_type": "code",
      "execution_count": 14,
      "id": "2d8aa241",
      "metadata": {
        "id": "2d8aa241"
      },
      "outputs": [],
      "source": [
        "from sklearn.preprocessing import MinMaxScaler\n",
        "scaler=MinMaxScaler(feature_range=(0,1))\n",
        "df4=scaler.fit_transform(np.array(df4).reshape(-1,1))"
      ]
    },
    {
      "cell_type": "code",
      "execution_count": 11,
      "id": "B713sYwzOf-r",
      "metadata": {
        "id": "B713sYwzOf-r",
        "colab": {
          "base_uri": "https://localhost:8080/"
        },
        "outputId": "8e084f59-39fc-4b53-8e28-7e3e80a30686"
      },
      "outputs": [
        {
          "output_type": "execute_result",
          "data": {
            "text/plain": [
              "array([[0.00559152],\n",
              "       [0.00382578],\n",
              "       [0.00309005],\n",
              "       [0.00206004],\n",
              "       [0.00103002],\n",
              "       [0.        ],\n",
              "       [0.0126545 ],\n",
              "       [0.01309594],\n",
              "       [0.01339023],\n",
              "       [0.01809888]])"
            ]
          },
          "metadata": {},
          "execution_count": 11
        }
      ],
      "source": [
        "df4[0:10]"
      ]
    },
    {
      "cell_type": "code",
      "execution_count": 15,
      "id": "1a123c80",
      "metadata": {
        "id": "1a123c80"
      },
      "outputs": [],
      "source": [
        "training_size=int(len(df4)*0.65)\n",
        "test_size=len(df4)-training_size\n",
        "train_data,test_data=df4[0:training_size,:],df4[training_size:len(df4),:1]"
      ]
    },
    {
      "cell_type": "code",
      "execution_count": 16,
      "id": "IQfKh3_yTwhE",
      "metadata": {
        "id": "IQfKh3_yTwhE",
        "colab": {
          "base_uri": "https://localhost:8080/"
        },
        "outputId": "566c88a6-c607-4a39-d6bf-c55ba16ed641"
      },
      "outputs": [
        {
          "output_type": "stream",
          "name": "stdout",
          "text": [
            "(525, 1)\n",
            "(284, 1)\n"
          ]
        }
      ],
      "source": [
        "print(train_data.shape)\n",
        "print(test_data.shape)"
      ]
    },
    {
      "cell_type": "markdown",
      "id": "tYDEjWEoZauH",
      "metadata": {
        "id": "tYDEjWEoZauH"
      },
      "source": [
        "**Data Preprocessing**"
      ]
    },
    {
      "cell_type": "code",
      "execution_count": 17,
      "id": "0dc8a949",
      "metadata": {
        "id": "0dc8a949"
      },
      "outputs": [],
      "source": [
        " import numpy\n",
        "# convert an array of values into a dataset matrix\n",
        "def create_dataset(dataset, time_step=1):\n",
        "\tdataX, dataY = [], []\n",
        "\tfor i in range(len(dataset)-time_step-1):\n",
        "\t\ta = dataset[i:(i+time_step), 0]   ###i=0, 0,1,2,3-----99   100 \n",
        "\t\tdataX.append(a)\n",
        "\t\tdataY.append(dataset[i + time_step, 0])\n",
        "\treturn numpy.array(dataX), numpy.array(dataY)"
      ]
    },
    {
      "cell_type": "code",
      "execution_count": 18,
      "id": "39785275",
      "metadata": {
        "id": "39785275"
      },
      "outputs": [],
      "source": [
        "# reshape into X=t,t+1,t+2,t+3 and Y=t+4\n",
        "time_step = 100\n",
        "X_train, y_train = create_dataset(train_data, time_step)\n",
        "X_test, ytest = create_dataset(test_data, time_step)"
      ]
    },
    {
      "cell_type": "code",
      "execution_count": 16,
      "id": "mLHLpdmpcBlC",
      "metadata": {
        "id": "mLHLpdmpcBlC",
        "colab": {
          "base_uri": "https://localhost:8080/"
        },
        "outputId": "1b305772-89f9-4ce0-9aa3-e91cb01f89d2"
      },
      "outputs": [
        {
          "output_type": "execute_result",
          "data": {
            "text/plain": [
              "array([[0.00559152, 0.00382578, 0.00309005, ..., 0.16627428, 0.16524426,\n",
              "        0.1640671 ],\n",
              "       [0.00382578, 0.00309005, 0.00206004, ..., 0.16524426, 0.1640671 ,\n",
              "        0.16274279],\n",
              "       [0.00309005, 0.00206004, 0.00103002, ..., 0.1640671 , 0.16274279,\n",
              "        0.15538552],\n",
              "       ...,\n",
              "       [0.91024132, 0.91597999, 0.90847557, ..., 0.88419659, 0.88655091,\n",
              "        0.88743378],\n",
              "       [0.91597999, 0.90847557, 0.88802237, ..., 0.88655091, 0.88743378,\n",
              "        0.87154208],\n",
              "       [0.90847557, 0.88802237, 0.88449088, ..., 0.88743378, 0.87154208,\n",
              "        0.87639788]])"
            ]
          },
          "metadata": {},
          "execution_count": 16
        }
      ],
      "source": [
        "X_train"
      ]
    },
    {
      "cell_type": "code",
      "execution_count": 17,
      "id": "8o7UzuZEcFhl",
      "metadata": {
        "id": "8o7UzuZEcFhl",
        "colab": {
          "base_uri": "https://localhost:8080/"
        },
        "outputId": "6b3618de-b501-4ece-89d0-edd55b1e5f8b"
      },
      "outputs": [
        {
          "output_type": "execute_result",
          "data": {
            "text/plain": [
              "array([0.16274279, 0.15538552, 0.14670394, 0.14420247, 0.15862272,\n",
              "       0.16642142, 0.18422602, 0.19540906, 0.19894055, 0.21100647,\n",
              "       0.21762802, 0.22130665, 0.22748676, 0.2405827 , 0.24367275,\n",
              "       0.2532372 , 0.29664509, 0.30694526, 0.29723367, 0.28134197,\n",
              "       0.28399058, 0.29487934, 0.29326074, 0.283402  , 0.26868746,\n",
              "       0.24014126, 0.21188935, 0.19334903, 0.19334903, 0.19114185,\n",
              "       0.19643908, 0.20114773, 0.20335491, 0.21115362, 0.21777516,\n",
              "       0.22572101, 0.23057681, 0.22836963, 0.22719247, 0.22645674,\n",
              "       0.2230724 , 0.22572101, 0.23513832, 0.24941142, 0.25853443,\n",
              "       0.27310182, 0.29458505, 0.31106533, 0.32254267, 0.32739847,\n",
              "       0.32636845, 0.32210124, 0.31121248, 0.30944673, 0.31312537,\n",
              "       0.31238964, 0.30547381, 0.30988817, 0.31606828, 0.33357858,\n",
              "       0.34682166, 0.34755739, 0.35079459, 0.34741024, 0.316804  ,\n",
              "       0.29708652, 0.27472042, 0.25412007, 0.22910536, 0.20585639,\n",
              "       0.18746321, 0.18231313, 0.17216009, 0.16965862, 0.16759859,\n",
              "       0.16671572, 0.16597999, 0.1656857 , 0.16553855, 0.19467334,\n",
              "       0.19849912, 0.20144202, 0.2007063 , 0.19791054, 0.18967039,\n",
              "       0.17760447, 0.16848146, 0.16789288, 0.17525015, 0.18231313,\n",
              "       0.18922896, 0.1990877 , 0.20997646, 0.216598  , 0.22233667,\n",
              "       0.23925839, 0.24970571, 0.26162448, 0.27545615, 0.28310771,\n",
              "       0.29752796, 0.30694526, 0.31636257, 0.32298411, 0.3281342 ,\n",
              "       0.32960565, 0.32886992, 0.32857563, 0.32592702, 0.32357269,\n",
              "       0.32371984, 0.32401413, 0.32357269, 0.32283696, 0.32062978,\n",
              "       0.31047675, 0.30591524, 0.30297234, 0.30047087, 0.30076516,\n",
              "       0.30459094, 0.32636845, 0.33740436, 0.33814008, 0.3472631 ,\n",
              "       0.35388464, 0.37007063, 0.39037669, 0.4011183 , 0.4108299 ,\n",
              "       0.41745144, 0.41877575, 0.41774573, 0.41671572, 0.41862861,\n",
              "       0.42907593, 0.43569747, 0.44158328, 0.44158328, 0.43878752,\n",
              "       0.43349029, 0.43393172, 0.44791054, 0.45659211, 0.46718658,\n",
              "       0.47380812, 0.48101825, 0.48396115, 0.48602119, 0.49146557,\n",
              "       0.50559152, 0.51927604, 0.53104768, 0.54193643, 0.57018835,\n",
              "       0.59711595, 0.61536198, 0.62757504, 0.63978811, 0.65082401,\n",
              "       0.65670983, 0.66318423, 0.66553855, 0.66494997, 0.62831077,\n",
              "       0.60108888, 0.5843143 , 0.55929959, 0.55635668, 0.5590053 ,\n",
              "       0.56415539, 0.5635668 , 0.53855209, 0.52442613, 0.51854032,\n",
              "       0.48307828, 0.41862861, 0.35918187, 0.34123014, 0.31901118,\n",
              "       0.30341377, 0.27339612, 0.25397293, 0.23469688, 0.21865803,\n",
              "       0.20306062, 0.19320188, 0.16494997, 0.17377869, 0.17628016,\n",
              "       0.19437905, 0.2052678 , 0.22174809, 0.2341083 , 0.23719835,\n",
              "       0.23646263, 0.23454974, 0.23469688, 0.23469688, 0.25220718,\n",
              "       0.28708064, 0.29281931, 0.30032372, 0.30782813, 0.31474397,\n",
              "       0.32931136, 0.34329017, 0.36330194, 0.37051207, 0.38816951,\n",
              "       0.40862272, 0.42083579, 0.42804591, 0.43201883, 0.42039435,\n",
              "       0.41215421, 0.41141848, 0.41421424, 0.42377869, 0.4377575 ,\n",
              "       0.44864626, 0.45467922, 0.48028252, 0.47410241, 0.46718658,\n",
              "       0.45953502, 0.45114773, 0.44879341, 0.45423779, 0.47895821,\n",
              "       0.48881695, 0.49867569, 0.50426722, 0.50794585, 0.50882872,\n",
              "       0.50662154, 0.50456151, 0.48940553, 0.4889641 , 0.51692172,\n",
              "       0.53722778, 0.55017657, 0.5541495 , 0.55473808, 0.55532666,\n",
              "       0.55444379, 0.54958799, 0.5622425 , 0.58122425, 0.60697469,\n",
              "       0.62360212, 0.63375515, 0.66333137, 0.67289582, 0.68187169,\n",
              "       0.68834609, 0.69114185, 0.69305474, 0.69290759, 0.67274868,\n",
              "       0.65229547, 0.64729253, 0.64243673, 0.64140671, 0.64258387,\n",
              "       0.64302531, 0.63537375, 0.6274279 , 0.62389641, 0.62242496,\n",
              "       0.62007063, 0.61992348, 0.60962331, 0.59991171, 0.59417304,\n",
              "       0.59520306, 0.60108888, 0.60594467, 0.61506769, 0.62639788,\n",
              "       0.63375515, 0.64052384, 0.64699823, 0.65420836, 0.65612125,\n",
              "       0.65891701, 0.66215421, 0.68172454, 0.69849912, 0.70776928,\n",
              "       0.7243967 , 0.7451442 , 0.78266627, 0.78958211, 0.79664509,\n",
              "       0.79958799, 0.8009123 , 0.80223661, 0.80503237, 0.816804  ,\n",
              "       0.83975868, 0.85300177, 0.86668629, 0.85682755, 0.86227192,\n",
              "       0.87507357, 0.89537964, 0.90361978, 0.91347852, 0.92466157,\n",
              "       0.91509712, 0.9108299 , 0.90288405, 0.90361978, 0.90715127,\n",
              "       0.90965274, 0.89243673, 0.87139494, 0.88243084, 0.89405533,\n",
              "       0.90420836, 0.91024132, 0.91597999, 0.90847557, 0.88802237,\n",
              "       0.88449088, 0.88890524, 0.89449676, 0.90038258, 0.90406121,\n",
              "       0.89479105, 0.88669806, 0.88699235, 0.88949382, 0.89052384,\n",
              "       0.88581519, 0.87507357, 0.87065921, 0.86756916, 0.86183049,\n",
              "       0.85815185, 0.85756327, 0.85638611, 0.85623896, 0.86035903,\n",
              "       0.8693349 , 0.87566215, 0.88125368, 0.88346086, 0.89302531,\n",
              "       0.89758682, 0.91230135, 0.9283402 , 0.93716892, 0.95276633,\n",
              "       0.96041789, 0.98263685, 0.99705709, 1.        , 0.99396704,\n",
              "       0.98278399, 0.97012949, 0.94290759, 0.90582696, 0.8852266 ,\n",
              "       0.8806651 , 0.87492643, 0.850206  , 0.84373161, 0.82828134,\n",
              "       0.83652148, 0.84284873, 0.8534432 , 0.86183049, 0.87080636,\n",
              "       0.88375515, 0.90509123, 0.92539729, 0.93908181, 0.95203061,\n",
              "       0.95953502, 0.96130077, 0.94496763, 0.94217187, 0.94379046,\n",
              "       0.94290759, 0.92363155, 0.91553855, 0.89582107, 0.88802237,\n",
              "       0.88537375, 0.86580341, 0.85844614, 0.85005886, 0.84961742,\n",
              "       0.84917599, 0.84829311, 0.85035315, 0.8534432 , 0.86433196,\n",
              "       0.88537375, 0.9027369 , 0.9218658 , 0.94599765, 0.96027075,\n",
              "       0.96806945, 0.93246027, 0.92525015, 0.9283402 , 0.92848735,\n",
              "       0.92554444, 0.90450265, 0.88949382, 0.87124779, 0.86683343,\n",
              "       0.86756916, 0.87448499, 0.88037081, 0.88419659, 0.88655091,\n",
              "       0.88743378, 0.87154208, 0.87639788, 0.89376104])"
            ]
          },
          "metadata": {},
          "execution_count": 17
        }
      ],
      "source": [
        "y_train"
      ]
    },
    {
      "cell_type": "code",
      "execution_count": 19,
      "id": "005e586d",
      "metadata": {
        "id": "005e586d",
        "colab": {
          "base_uri": "https://localhost:8080/"
        },
        "outputId": "1129ad01-f3be-44fd-bc77-6e183d5881a7"
      },
      "outputs": [
        {
          "output_type": "stream",
          "name": "stdout",
          "text": [
            "(424, 100)\n",
            "(424,)\n"
          ]
        },
        {
          "output_type": "execute_result",
          "data": {
            "text/plain": [
              "(None, None)"
            ]
          },
          "metadata": {},
          "execution_count": 19
        }
      ],
      "source": [
        "print(X_train.shape), print(y_train.shape)"
      ]
    },
    {
      "cell_type": "markdown",
      "id": "bJLSlRVajL9P",
      "metadata": {
        "id": "bJLSlRVajL9P"
      },
      "source": [
        "# LSTM "
      ]
    },
    {
      "cell_type": "code",
      "execution_count": 19,
      "id": "5a9aae2a",
      "metadata": {
        "id": "5a9aae2a"
      },
      "outputs": [],
      "source": [
        "X_train =X_train.reshape(X_train.shape[0],X_train.shape[1] , 1)\n",
        "X_test = X_test.reshape(X_test.shape[0],X_test.shape[1] , 1)"
      ]
    },
    {
      "cell_type": "code",
      "execution_count": 20,
      "id": "869c9a75",
      "metadata": {
        "id": "869c9a75"
      },
      "outputs": [],
      "source": [
        "from tensorflow.keras.models import Sequential\n",
        "\n",
        "from tensorflow.keras.layers import Dense\n",
        "from tensorflow.keras.layers import LSTM\n",
        "model=Sequential()\n",
        "model.add(LSTM(50,return_sequences=True,input_shape=(100,1)))\n",
        "model.add(LSTM(50,return_sequences=True))\n",
        "model.add(LSTM(50))\n",
        "model.add(Dense(1))\n",
        "model.compile(loss='mean_squared_error',optimizer='adam')"
      ]
    },
    {
      "cell_type": "code",
      "execution_count": 21,
      "id": "baa8cd08",
      "metadata": {
        "id": "baa8cd08",
        "colab": {
          "base_uri": "https://localhost:8080/"
        },
        "outputId": "e9dc75f9-9749-44f6-b47c-22822364431b"
      },
      "outputs": [
        {
          "output_type": "stream",
          "name": "stdout",
          "text": [
            "Epoch 1/100\n",
            "7/7 [==============================] - 17s 758ms/step - loss: 0.1334 - val_loss: 0.0871\n",
            "Epoch 2/100\n",
            "7/7 [==============================] - 3s 410ms/step - loss: 0.0297 - val_loss: 0.0205\n",
            "Epoch 3/100\n",
            "7/7 [==============================] - 3s 381ms/step - loss: 0.0211 - val_loss: 0.0043\n",
            "Epoch 4/100\n",
            "7/7 [==============================] - 3s 376ms/step - loss: 0.0109 - val_loss: 0.0065\n",
            "Epoch 5/100\n",
            "7/7 [==============================] - 3s 376ms/step - loss: 0.0077 - val_loss: 0.0043\n",
            "Epoch 6/100\n",
            "7/7 [==============================] - 2s 335ms/step - loss: 0.0075 - val_loss: 0.0043\n",
            "Epoch 7/100\n",
            "7/7 [==============================] - 2s 345ms/step - loss: 0.0064 - val_loss: 0.0032\n",
            "Epoch 8/100\n",
            "7/7 [==============================] - 2s 265ms/step - loss: 0.0060 - val_loss: 0.0030\n",
            "Epoch 9/100\n",
            "7/7 [==============================] - 1s 198ms/step - loss: 0.0058 - val_loss: 0.0034\n",
            "Epoch 10/100\n",
            "7/7 [==============================] - 1s 195ms/step - loss: 0.0057 - val_loss: 0.0029\n",
            "Epoch 11/100\n",
            "7/7 [==============================] - 1s 194ms/step - loss: 0.0055 - val_loss: 0.0030\n",
            "Epoch 12/100\n",
            "7/7 [==============================] - 1s 201ms/step - loss: 0.0053 - val_loss: 0.0029\n",
            "Epoch 13/100\n",
            "7/7 [==============================] - 1s 194ms/step - loss: 0.0052 - val_loss: 0.0028\n",
            "Epoch 14/100\n",
            "7/7 [==============================] - 1s 196ms/step - loss: 0.0050 - val_loss: 0.0027\n",
            "Epoch 15/100\n",
            "7/7 [==============================] - 1s 195ms/step - loss: 0.0049 - val_loss: 0.0026\n",
            "Epoch 16/100\n",
            "7/7 [==============================] - 1s 196ms/step - loss: 0.0048 - val_loss: 0.0028\n",
            "Epoch 17/100\n",
            "7/7 [==============================] - 1s 197ms/step - loss: 0.0046 - val_loss: 0.0024\n",
            "Epoch 18/100\n",
            "7/7 [==============================] - 1s 197ms/step - loss: 0.0045 - val_loss: 0.0023\n",
            "Epoch 19/100\n",
            "7/7 [==============================] - 1s 198ms/step - loss: 0.0045 - val_loss: 0.0022\n",
            "Epoch 20/100\n",
            "7/7 [==============================] - 1s 201ms/step - loss: 0.0044 - val_loss: 0.0026\n",
            "Epoch 21/100\n",
            "7/7 [==============================] - 1s 197ms/step - loss: 0.0042 - val_loss: 0.0022\n",
            "Epoch 22/100\n",
            "7/7 [==============================] - 1s 198ms/step - loss: 0.0038 - val_loss: 0.0021\n",
            "Epoch 23/100\n",
            "7/7 [==============================] - 1s 195ms/step - loss: 0.0037 - val_loss: 0.0022\n",
            "Epoch 24/100\n",
            "7/7 [==============================] - 1s 196ms/step - loss: 0.0035 - val_loss: 0.0018\n",
            "Epoch 25/100\n",
            "7/7 [==============================] - 1s 196ms/step - loss: 0.0034 - val_loss: 0.0018\n",
            "Epoch 26/100\n",
            "7/7 [==============================] - 1s 198ms/step - loss: 0.0032 - val_loss: 0.0019\n",
            "Epoch 27/100\n",
            "7/7 [==============================] - 1s 201ms/step - loss: 0.0032 - val_loss: 0.0016\n",
            "Epoch 28/100\n",
            "7/7 [==============================] - 1s 195ms/step - loss: 0.0029 - val_loss: 0.0016\n",
            "Epoch 29/100\n",
            "7/7 [==============================] - 1s 196ms/step - loss: 0.0029 - val_loss: 0.0015\n",
            "Epoch 30/100\n",
            "7/7 [==============================] - 1s 198ms/step - loss: 0.0026 - val_loss: 0.0016\n",
            "Epoch 31/100\n",
            "7/7 [==============================] - 1s 198ms/step - loss: 0.0025 - val_loss: 0.0018\n",
            "Epoch 32/100\n",
            "7/7 [==============================] - 1s 197ms/step - loss: 0.0027 - val_loss: 0.0017\n",
            "Epoch 33/100\n",
            "7/7 [==============================] - 1s 196ms/step - loss: 0.0025 - val_loss: 0.0015\n",
            "Epoch 34/100\n",
            "7/7 [==============================] - 1s 194ms/step - loss: 0.0024 - val_loss: 0.0015\n",
            "Epoch 35/100\n",
            "7/7 [==============================] - 1s 197ms/step - loss: 0.0023 - val_loss: 0.0018\n",
            "Epoch 36/100\n",
            "7/7 [==============================] - 1s 198ms/step - loss: 0.0022 - val_loss: 0.0016\n",
            "Epoch 37/100\n",
            "7/7 [==============================] - 1s 195ms/step - loss: 0.0022 - val_loss: 0.0013\n",
            "Epoch 38/100\n",
            "7/7 [==============================] - 1s 198ms/step - loss: 0.0020 - val_loss: 0.0016\n",
            "Epoch 39/100\n",
            "7/7 [==============================] - 1s 200ms/step - loss: 0.0019 - val_loss: 0.0014\n",
            "Epoch 40/100\n",
            "7/7 [==============================] - 1s 195ms/step - loss: 0.0018 - val_loss: 0.0014\n",
            "Epoch 41/100\n",
            "7/7 [==============================] - 1s 198ms/step - loss: 0.0018 - val_loss: 0.0021\n",
            "Epoch 42/100\n",
            "7/7 [==============================] - 1s 197ms/step - loss: 0.0019 - val_loss: 0.0020\n",
            "Epoch 43/100\n",
            "7/7 [==============================] - 1s 198ms/step - loss: 0.0020 - val_loss: 0.0014\n",
            "Epoch 44/100\n",
            "7/7 [==============================] - 1s 200ms/step - loss: 0.0016 - val_loss: 0.0011\n",
            "Epoch 45/100\n",
            "7/7 [==============================] - 1s 199ms/step - loss: 0.0015 - val_loss: 0.0010\n",
            "Epoch 46/100\n",
            "7/7 [==============================] - 1s 197ms/step - loss: 0.0014 - val_loss: 0.0010\n",
            "Epoch 47/100\n",
            "7/7 [==============================] - 1s 201ms/step - loss: 0.0014 - val_loss: 0.0011\n",
            "Epoch 48/100\n",
            "7/7 [==============================] - 1s 198ms/step - loss: 0.0014 - val_loss: 0.0014\n",
            "Epoch 49/100\n",
            "7/7 [==============================] - 1s 202ms/step - loss: 0.0016 - val_loss: 0.0011\n",
            "Epoch 50/100\n",
            "7/7 [==============================] - 1s 199ms/step - loss: 0.0013 - val_loss: 9.6853e-04\n",
            "Epoch 51/100\n",
            "7/7 [==============================] - 1s 199ms/step - loss: 0.0013 - val_loss: 9.3808e-04\n",
            "Epoch 52/100\n",
            "7/7 [==============================] - 1s 195ms/step - loss: 0.0013 - val_loss: 8.7258e-04\n",
            "Epoch 53/100\n",
            "7/7 [==============================] - 1s 197ms/step - loss: 0.0013 - val_loss: 8.6324e-04\n",
            "Epoch 54/100\n",
            "7/7 [==============================] - 1s 198ms/step - loss: 0.0013 - val_loss: 8.5999e-04\n",
            "Epoch 55/100\n",
            "7/7 [==============================] - 1s 197ms/step - loss: 0.0012 - val_loss: 8.2601e-04\n",
            "Epoch 56/100\n",
            "7/7 [==============================] - 1s 197ms/step - loss: 0.0012 - val_loss: 8.1465e-04\n",
            "Epoch 57/100\n",
            "7/7 [==============================] - 1s 199ms/step - loss: 0.0012 - val_loss: 8.0419e-04\n",
            "Epoch 58/100\n",
            "7/7 [==============================] - 1s 195ms/step - loss: 0.0012 - val_loss: 7.8676e-04\n",
            "Epoch 59/100\n",
            "7/7 [==============================] - 1s 202ms/step - loss: 0.0011 - val_loss: 7.6101e-04\n",
            "Epoch 60/100\n",
            "7/7 [==============================] - 1s 201ms/step - loss: 0.0012 - val_loss: 7.6017e-04\n",
            "Epoch 61/100\n",
            "7/7 [==============================] - 1s 200ms/step - loss: 0.0012 - val_loss: 0.0016\n",
            "Epoch 62/100\n",
            "7/7 [==============================] - 1s 198ms/step - loss: 0.0015 - val_loss: 0.0014\n",
            "Epoch 63/100\n",
            "7/7 [==============================] - 1s 199ms/step - loss: 0.0013 - val_loss: 0.0011\n",
            "Epoch 64/100\n",
            "7/7 [==============================] - 1s 197ms/step - loss: 0.0013 - val_loss: 7.3831e-04\n",
            "Epoch 65/100\n",
            "7/7 [==============================] - 1s 199ms/step - loss: 0.0011 - val_loss: 8.0207e-04\n",
            "Epoch 66/100\n",
            "7/7 [==============================] - 1s 201ms/step - loss: 0.0011 - val_loss: 7.0869e-04\n",
            "Epoch 67/100\n",
            "7/7 [==============================] - 2s 353ms/step - loss: 0.0012 - val_loss: 6.7860e-04\n",
            "Epoch 68/100\n",
            "7/7 [==============================] - 3s 418ms/step - loss: 0.0011 - val_loss: 6.6929e-04\n",
            "Epoch 69/100\n",
            "7/7 [==============================] - 2s 267ms/step - loss: 0.0011 - val_loss: 7.2252e-04\n",
            "Epoch 70/100\n",
            "7/7 [==============================] - 1s 197ms/step - loss: 0.0010 - val_loss: 7.0784e-04\n",
            "Epoch 71/100\n",
            "7/7 [==============================] - 1s 199ms/step - loss: 0.0011 - val_loss: 6.3085e-04\n",
            "Epoch 72/100\n",
            "7/7 [==============================] - 1s 201ms/step - loss: 9.9781e-04 - val_loss: 6.2588e-04\n",
            "Epoch 73/100\n",
            "7/7 [==============================] - 1s 199ms/step - loss: 9.1976e-04 - val_loss: 6.7390e-04\n",
            "Epoch 74/100\n",
            "7/7 [==============================] - 1s 198ms/step - loss: 9.0164e-04 - val_loss: 6.3160e-04\n",
            "Epoch 75/100\n",
            "7/7 [==============================] - 1s 195ms/step - loss: 8.7813e-04 - val_loss: 7.0565e-04\n",
            "Epoch 76/100\n",
            "7/7 [==============================] - 1s 200ms/step - loss: 8.6017e-04 - val_loss: 6.3450e-04\n",
            "Epoch 77/100\n",
            "7/7 [==============================] - 1s 197ms/step - loss: 8.8839e-04 - val_loss: 6.7683e-04\n",
            "Epoch 78/100\n",
            "7/7 [==============================] - 1s 195ms/step - loss: 8.6844e-04 - val_loss: 6.1060e-04\n",
            "Epoch 79/100\n",
            "7/7 [==============================] - 1s 199ms/step - loss: 8.8527e-04 - val_loss: 5.6541e-04\n",
            "Epoch 80/100\n",
            "7/7 [==============================] - 1s 200ms/step - loss: 8.7345e-04 - val_loss: 6.7372e-04\n",
            "Epoch 81/100\n",
            "7/7 [==============================] - 1s 198ms/step - loss: 8.7356e-04 - val_loss: 8.3311e-04\n",
            "Epoch 82/100\n",
            "7/7 [==============================] - 1s 198ms/step - loss: 8.5530e-04 - val_loss: 5.5149e-04\n",
            "Epoch 83/100\n",
            "7/7 [==============================] - 1s 197ms/step - loss: 8.0682e-04 - val_loss: 5.9206e-04\n",
            "Epoch 84/100\n",
            "7/7 [==============================] - 1s 199ms/step - loss: 8.5524e-04 - val_loss: 5.5235e-04\n",
            "Epoch 85/100\n",
            "7/7 [==============================] - 1s 197ms/step - loss: 8.7846e-04 - val_loss: 5.9732e-04\n",
            "Epoch 86/100\n",
            "7/7 [==============================] - 1s 197ms/step - loss: 7.8748e-04 - val_loss: 6.8867e-04\n",
            "Epoch 87/100\n",
            "7/7 [==============================] - 1s 199ms/step - loss: 7.5630e-04 - val_loss: 7.2512e-04\n",
            "Epoch 88/100\n",
            "7/7 [==============================] - 1s 200ms/step - loss: 8.2762e-04 - val_loss: 5.2030e-04\n",
            "Epoch 89/100\n",
            "7/7 [==============================] - 1s 199ms/step - loss: 9.1030e-04 - val_loss: 6.8778e-04\n",
            "Epoch 90/100\n",
            "7/7 [==============================] - 1s 200ms/step - loss: 9.4553e-04 - val_loss: 5.4863e-04\n",
            "Epoch 91/100\n",
            "7/7 [==============================] - 1s 200ms/step - loss: 9.5596e-04 - val_loss: 6.6295e-04\n",
            "Epoch 92/100\n",
            "7/7 [==============================] - 1s 199ms/step - loss: 9.1322e-04 - val_loss: 0.0014\n",
            "Epoch 93/100\n",
            "7/7 [==============================] - 1s 199ms/step - loss: 9.0641e-04 - val_loss: 0.0011\n",
            "Epoch 94/100\n",
            "7/7 [==============================] - 1s 196ms/step - loss: 8.1605e-04 - val_loss: 5.9765e-04\n",
            "Epoch 95/100\n",
            "7/7 [==============================] - 1s 198ms/step - loss: 7.0931e-04 - val_loss: 5.0132e-04\n",
            "Epoch 96/100\n",
            "7/7 [==============================] - 1s 201ms/step - loss: 7.4476e-04 - val_loss: 5.2555e-04\n",
            "Epoch 97/100\n",
            "7/7 [==============================] - 1s 198ms/step - loss: 6.9473e-04 - val_loss: 4.8990e-04\n",
            "Epoch 98/100\n",
            "7/7 [==============================] - 1s 197ms/step - loss: 6.6372e-04 - val_loss: 4.8826e-04\n",
            "Epoch 99/100\n",
            "7/7 [==============================] - 1s 197ms/step - loss: 7.2029e-04 - val_loss: 4.9760e-04\n",
            "Epoch 100/100\n",
            "7/7 [==============================] - 1s 199ms/step - loss: 7.1667e-04 - val_loss: 6.7887e-04\n"
          ]
        },
        {
          "output_type": "execute_result",
          "data": {
            "text/plain": [
              "<keras.callbacks.History at 0x7fda77f60190>"
            ]
          },
          "metadata": {},
          "execution_count": 21
        }
      ],
      "source": [
        "model.fit(X_train,y_train,validation_data=(X_test,ytest),epochs=100,batch_size=64,verbose=1)"
      ]
    },
    {
      "cell_type": "code",
      "execution_count": 22,
      "id": "62dabcc0",
      "metadata": {
        "id": "62dabcc0"
      },
      "outputs": [],
      "source": [
        "### Lets Do the prediction and check performance metrics\n",
        "train_predict=model.predict(X_train)\n",
        "test_predict=model.predict(X_test)"
      ]
    },
    {
      "cell_type": "code",
      "execution_count": 23,
      "id": "b9fccd41",
      "metadata": {
        "id": "b9fccd41"
      },
      "outputs": [],
      "source": [
        "##Transformback to original form\n",
        "train_predict=scaler.inverse_transform(train_predict)\n",
        "test_predict=scaler.inverse_transform(test_predict)"
      ]
    },
    {
      "cell_type": "code",
      "execution_count": 24,
      "id": "be5b24de",
      "metadata": {
        "id": "be5b24de",
        "colab": {
          "base_uri": "https://localhost:8080/",
          "height": 265
        },
        "outputId": "71f3d3f5-ef23-4928-e217-5c0d5e973666"
      },
      "outputs": [
        {
          "output_type": "display_data",
          "data": {
            "image/png": "[encoded data removed]",
            "text/plain": [
              "<Figure size 432x288 with 1 Axes>"
            ]
          },
          "metadata": {
            "needs_background": "light"
          }
        }
      ],
      "source": [
        "### Plotting \n",
        "# shift train predictions for plotting\n",
        "look_back=100\n",
        "trainPredictPlot = numpy.empty_like(df4)\n",
        "trainPredictPlot[:, :] = np.nan\n",
        "trainPredictPlot[look_back:len(train_predict)+look_back, :] = train_predict\n",
        "# shift test predictions for plotting\n",
        "testPredictPlot = numpy.empty_like(df4)\n",
        "testPredictPlot[:, :] = numpy.nan\n",
        "testPredictPlot[len(train_predict)+(look_back*2)+1:len(df4)-1, :] = test_predict\n",
        "# plot baseline and predictions\n",
        "plt.plot(scaler.inverse_transform(df4))\n",
        "plt.plot(trainPredictPlot)\n",
        "plt.plot(testPredictPlot)\n",
        "plt.show()"
      ]
    },
    {
      "cell_type": "code",
      "execution_count": 25,
      "id": "7b036aac",
      "metadata": {
        "id": "7b036aac",
        "colab": {
          "base_uri": "https://localhost:8080/",
          "height": 206
        },
        "outputId": "50611566-d5d3-4c15-a159-9204b8dd17e1"
      },
      "outputs": [
        {
          "output_type": "execute_result",
          "data": {
            "text/html": [
              "\n",
              "  <div id=\"df-81c40225-5f05-44a8-8df5-c6e6b619974a\">\n",
              "    <div class=\"colab-df-container\">\n",
              "      <div>\n",
              "<style scoped>\n",
              "    .dataframe tbody tr th:only-of-type {\n",
              "        vertical-align: middle;\n",
              "    }\n",
              "\n",
              "    .dataframe tbody tr th {\n",
              "        vertical-align: top;\n",
              "    }\n",
              "\n",
              "    .dataframe thead th {\n",
              "        text-align: right;\n",
              "    }\n",
              "</style>\n",
              "<table border=\"1\" class=\"dataframe\">\n",
              "  <thead>\n",
              "    <tr style=\"text-align: right;\">\n",
              "      <th></th>\n",
              "      <th>Date</th>\n",
              "      <th>Prediction</th>\n",
              "    </tr>\n",
              "  </thead>\n",
              "  <tbody>\n",
              "    <tr>\n",
              "      <th>0</th>\n",
              "      <td>1/1/2019</td>\n",
              "      <td>NaN</td>\n",
              "    </tr>\n",
              "    <tr>\n",
              "      <th>1</th>\n",
              "      <td>1/2/2019</td>\n",
              "      <td>NaN</td>\n",
              "    </tr>\n",
              "    <tr>\n",
              "      <th>2</th>\n",
              "      <td>1/3/2019</td>\n",
              "      <td>NaN</td>\n",
              "    </tr>\n",
              "    <tr>\n",
              "      <th>3</th>\n",
              "      <td>1/4/2019</td>\n",
              "      <td>NaN</td>\n",
              "    </tr>\n",
              "    <tr>\n",
              "      <th>4</th>\n",
              "      <td>1/5/2019</td>\n",
              "      <td>NaN</td>\n",
              "    </tr>\n",
              "  </tbody>\n",
              "</table>\n",
              "</div>\n",
              "      <button class=\"colab-df-convert\" onclick=\"convertToInteractive('df-81c40225-5f05-44a8-8df5-c6e6b619974a')\"\n",
              "              title=\"Convert this dataframe to an interactive table.\"\n",
              "              style=\"display:none;\">\n",
              "        \n",
              "  <svg xmlns=\"http://www.w3.org/2000/svg\" height=\"24px\"viewBox=\"0 0 24 24\"\n",
              "       width=\"24px\">\n",
              "    <path d=\"M0 0h24v24H0V0z\" fill=\"none\"/>\n",
              "    <path d=\"M18.56 5.44l.94 2.06.94-2.06 2.06-.94-2.06-.94-.94-2.06-.94 2.06-2.06.94zm-11 1L8.5 8.5l.94-2.06 2.06-.94-2.06-.94L8.5 2.5l-.94 2.06-2.06.94zm10 10l.94 2.06.94-2.06 2.06-.94-2.06-.94-.94-2.06-.94 2.06-2.06.94z\"/><path d=\"M17.41 7.96l-1.37-1.37c-.4-.4-.92-.59-1.43-.59-.52 0-1.04.2-1.43.59L10.3 9.45l-7.72 7.72c-.78.78-.78 2.05 0 2.83L4 21.41c.39.39.9.59 1.41.59.51 0 1.02-.2 1.41-.59l7.78-7.78 2.81-2.81c.8-.78.8-2.07 0-2.86zM5.41 20L4 18.59l7.72-7.72 1.47 1.35L5.41 20z\"/>\n",
              "  </svg>\n",
              "      </button>\n",
              "      \n",
              "  <style>\n",
              "    .colab-df-container {\n",
              "      display:flex;\n",
              "      flex-wrap:wrap;\n",
              "      gap: 12px;\n",
              "    }\n",
              "\n",
              "    .colab-df-convert {\n",
              "      background-color: #E8F0FE;\n",
              "      border: none;\n",
              "      border-radius: 50%;\n",
              "      cursor: pointer;\n",
              "      display: none;\n",
              "      fill: #1967D2;\n",
              "      height: 32px;\n",
              "      padding: 0 0 0 0;\n",
              "      width: 32px;\n",
              "    }\n",
              "\n",
              "    .colab-df-convert:hover {\n",
              "      background-color: #E2EBFA;\n",
              "      box-shadow: 0px 1px 2px rgba(60, 64, 67, 0.3), 0px 1px 3px 1px rgba(60, 64, 67, 0.15);\n",
              "      fill: #174EA6;\n",
              "    }\n",
              "\n",
              "    [theme=dark] .colab-df-convert {\n",
              "      background-color: #3B4455;\n",
              "      fill: #D2E3FC;\n",
              "    }\n",
              "\n",
              "    [theme=dark] .colab-df-convert:hover {\n",
              "      background-color: #434B5C;\n",
              "      box-shadow: 0px 1px 3px 1px rgba(0, 0, 0, 0.15);\n",
              "      filter: drop-shadow(0px 1px 2px rgba(0, 0, 0, 0.3));\n",
              "      fill: #FFFFFF;\n",
              "    }\n",
              "  </style>\n",
              "\n",
              "      <script>\n",
              "        const buttonEl =\n",
              "          document.querySelector('#df-81c40225-5f05-44a8-8df5-c6e6b619974a button.colab-df-convert');\n",
              "        buttonEl.style.display =\n",
              "          google.colab.kernel.accessAllowed ? 'block' : 'none';\n",
              "\n",
              "        async function convertToInteractive(key) {\n",
              "          const element = document.querySelector('#df-81c40225-5f05-44a8-8df5-c6e6b619974a');\n",
              "          const dataTable =\n",
              "            await google.colab.kernel.invokeFunction('convertToInteractive',\n",
              "                                                     [key], {});\n",
              "          if (!dataTable) return;\n",
              "\n",
              "          const docLinkHtml = 'Like what you see? Visit the ' +\n",
              "            '<a target=\"_blank\" href=https://colab.research.google.com/notebooks/data_table.ipynb>data table notebook</a>'\n",
              "            + ' to learn more about interactive tables.';\n",
              "          element.innerHTML = '';\n",
              "          dataTable['output_type'] = 'display_data';\n",
              "          await google.colab.output.renderOutput(dataTable, element);\n",
              "          const docLink = document.createElement('div');\n",
              "          docLink.innerHTML = docLinkHtml;\n",
              "          element.appendChild(docLink);\n",
              "        }\n",
              "      </script>\n",
              "    </div>\n",
              "  </div>\n",
              "  "
            ],
            "text/plain": [
              "       Date  Prediction\n",
              "0  1/1/2019         NaN\n",
              "1  1/2/2019         NaN\n",
              "2  1/3/2019         NaN\n",
              "3  1/4/2019         NaN\n",
              "4  1/5/2019         NaN"
            ]
          },
          "metadata": {},
          "execution_count": 25
        }
      ],
      "source": [
        "df_test=pd.read_csv(\"/content/drive/MyDrive/Petrol+Price+Forecasting-+Auto+Kearas/test_data.csv\")\n",
        "df_test.head()"
      ]
    },
    {
      "cell_type": "code",
      "execution_count": 26,
      "id": "00d514c6",
      "metadata": {
        "id": "00d514c6",
        "colab": {
          "base_uri": "https://localhost:8080/"
        },
        "outputId": "128e4442-c840-45ad-8168-6117cfc869e8"
      },
      "outputs": [
        {
          "output_type": "stream",
          "name": "stderr",
          "text": [
            "WARNING:absl:Found untraced functions such as lstm_cell_layer_call_fn, lstm_cell_layer_call_and_return_conditional_losses, lstm_cell_1_layer_call_fn, lstm_cell_1_layer_call_and_return_conditional_losses, lstm_cell_2_layer_call_fn while saving (showing 5 of 15). These functions will not be directly callable after loading.\n"
          ]
        },
        {
          "output_type": "stream",
          "name": "stdout",
          "text": [
            "INFO:tensorflow:Assets written to: prtrol price prediction/assets\n"
          ]
        },
        {
          "output_type": "stream",
          "name": "stderr",
          "text": [
            "INFO:tensorflow:Assets written to: prtrol price prediction/assets\n",
            "WARNING:absl:<keras.layers.recurrent.LSTMCell object at 0x7fda7b8dbf50> has the same name 'LSTMCell' as a built-in Keras object. Consider renaming <class 'keras.layers.recurrent.LSTMCell'> to avoid naming conflicts when loading with `tf.keras.models.load_model`. If renaming is not possible, pass the object in the `custom_objects` parameter of the load function.\n",
            "WARNING:absl:<keras.layers.recurrent.LSTMCell object at 0x7fda7b86cfd0> has the same name 'LSTMCell' as a built-in Keras object. Consider renaming <class 'keras.layers.recurrent.LSTMCell'> to avoid naming conflicts when loading with `tf.keras.models.load_model`. If renaming is not possible, pass the object in the `custom_objects` parameter of the load function.\n",
            "WARNING:absl:<keras.layers.recurrent.LSTMCell object at 0x7fda78049450> has the same name 'LSTMCell' as a built-in Keras object. Consider renaming <class 'keras.layers.recurrent.LSTMCell'> to avoid naming conflicts when loading with `tf.keras.models.load_model`. If renaming is not possible, pass the object in the `custom_objects` parameter of the load function.\n"
          ]
        }
      ],
      "source": [
        "model.save(\"prtrol price prediction\")"
      ]
    },
    {
      "cell_type": "markdown",
      "id": "hpAqppG-OFe7",
      "metadata": {
        "id": "hpAqppG-OFe7"
      },
      "source": [
        "## **Using ARIMA**"
      ]
    },
    {
      "cell_type": "code",
      "execution_count": 27,
      "id": "RZPU8JPWnZSy",
      "metadata": {
        "id": "RZPU8JPWnZSy",
        "colab": {
          "base_uri": "https://localhost:8080/"
        },
        "outputId": "c24c17cc-9590-4dcf-faa0-cc742947728e"
      },
      "outputs": [
        {
          "output_type": "stream",
          "name": "stdout",
          "text": [
            "Requirement already satisfied: patsy in /usr/local/lib/python3.7/dist-packages (0.5.2)\n",
            "Requirement already satisfied: six in /usr/local/lib/python3.7/dist-packages (from patsy) (1.15.0)\n",
            "Requirement already satisfied: numpy>=1.4 in /usr/local/lib/python3.7/dist-packages (from patsy) (1.19.5)\n"
          ]
        }
      ],
      "source": [
        "!pip install --upgrade patsy"
      ]
    },
    {
      "cell_type": "code",
      "execution_count": 31,
      "id": "gD6Y2IDNl0os",
      "metadata": {
        "id": "gD6Y2IDNl0os",
        "colab": {
          "base_uri": "https://localhost:8080/"
        },
        "outputId": "b3337a47-e8b5-421e-be7c-7ac6f52b8050"
      },
      "outputs": [
        {
          "output_type": "stream",
          "name": "stdout",
          "text": [
            "Requirement already satisfied: statsmodels in /usr/local/lib/python3.7/dist-packages (0.10.2)\n",
            "Requirement already satisfied: numpy>=1.11 in /usr/local/lib/python3.7/dist-packages (from statsmodels) (1.19.5)\n",
            "Requirement already satisfied: patsy>=0.4.0 in /usr/local/lib/python3.7/dist-packages (from statsmodels) (0.5.2)\n",
            "Requirement already satisfied: scipy>=0.18 in /usr/local/lib/python3.7/dist-packages (from statsmodels) (1.4.1)\n",
            "Requirement already satisfied: pandas>=0.19 in /usr/local/lib/python3.7/dist-packages (from statsmodels) (1.3.5)\n",
            "Requirement already satisfied: pytz>=2017.3 in /usr/local/lib/python3.7/dist-packages (from pandas>=0.19->statsmodels) (2018.9)\n",
            "Requirement already satisfied: python-dateutil>=2.7.3 in /usr/local/lib/python3.7/dist-packages (from pandas>=0.19->statsmodels) (2.8.2)\n",
            "Requirement already satisfied: six in /usr/local/lib/python3.7/dist-packages (from patsy>=0.4.0->statsmodels) (1.15.0)\n"
          ]
        }
      ],
      "source": [
        "pip install statsmodels"
      ]
    },
    {
      "cell_type": "code",
      "execution_count": 29,
      "id": "Y5dPBU9Enk85",
      "metadata": {
        "id": "Y5dPBU9Enk85",
        "colab": {
          "base_uri": "https://localhost:8080/"
        },
        "outputId": "47bebafa-f37b-4187-ea60-e5b46f0f5068"
      },
      "outputs": [
        {
          "output_type": "stream",
          "name": "stdout",
          "text": [
            "Requirement already satisfied: statsmodels in /usr/local/lib/python3.7/dist-packages (0.10.2)\n",
            "Collecting statsmodels\n",
            "  Using cached statsmodels-0.13.2.tar.gz (17.9 MB)\n",
            "  Installing build dependencies ... \u001b[?25l\u001b[?25hcanceled\n",
            "\u001b[31mERROR: Operation cancelled by user\u001b[0m\n"
          ]
        }
      ],
      "source": [
        "!pip install --upgrade --no-deps statsmodels"
      ]
    },
    {
      "cell_type": "code",
      "execution_count": 33,
      "id": "ajeghoPZDx7C",
      "metadata": {
        "id": "ajeghoPZDx7C",
        "colab": {
          "base_uri": "https://localhost:8080/"
        },
        "outputId": "a657f6f9-0bfd-4552-8587-9b074f400b14"
      },
      "outputs": [
        {
          "output_type": "stream",
          "name": "stderr",
          "text": [
            "/usr/local/lib/python3.7/dist-packages/ipykernel_launcher.py:5: FutureWarning:\n",
            "\n",
            "The pandas.datetime class is deprecated and will be removed from pandas in a future version. Import from datetime module instead.\n",
            "\n"
          ]
        }
      ],
      "source": [
        "import pandas as pd\n",
        "from statsmodels.tsa.arima_model import ARIMA\n",
        "from matplotlib import pyplot as plt\n",
        "from pandas import read_csv\n",
        "from pandas import datetime \n",
        "from matplotlib import pyplot\n",
        "\n",
        "from sklearn.metrics import mean_squared_error\n",
        "from math import sqrt"
      ]
    },
    {
      "cell_type": "code",
      "execution_count": 34,
      "id": "ZWaJ03yno2SX",
      "metadata": {
        "id": "ZWaJ03yno2SX",
        "colab": {
          "base_uri": "https://localhost:8080/",
          "height": 206
        },
        "outputId": "9606b079-d7ce-4bde-99a3-231be7e6bf65"
      },
      "outputs": [
        {
          "output_type": "execute_result",
          "data": {
            "text/html": [
              "\n",
              "  <div id=\"df-3e590ceb-8076-47f2-9d69-47894080f4ea\">\n",
              "    <div class=\"colab-df-container\">\n",
              "      <div>\n",
              "<style scoped>\n",
              "    .dataframe tbody tr th:only-of-type {\n",
              "        vertical-align: middle;\n",
              "    }\n",
              "\n",
              "    .dataframe tbody tr th {\n",
              "        vertical-align: top;\n",
              "    }\n",
              "\n",
              "    .dataframe thead th {\n",
              "        text-align: right;\n",
              "    }\n",
              "</style>\n",
              "<table border=\"1\" class=\"dataframe\">\n",
              "  <thead>\n",
              "    <tr style=\"text-align: right;\">\n",
              "      <th></th>\n",
              "      <th>Date</th>\n",
              "      <th>Petrol (USD)</th>\n",
              "    </tr>\n",
              "  </thead>\n",
              "  <tbody>\n",
              "    <tr>\n",
              "      <th>0</th>\n",
              "      <td>6/9/2003</td>\n",
              "      <td>74.59</td>\n",
              "    </tr>\n",
              "    <tr>\n",
              "      <th>1</th>\n",
              "      <td>6/16/2003</td>\n",
              "      <td>74.47</td>\n",
              "    </tr>\n",
              "    <tr>\n",
              "      <th>2</th>\n",
              "      <td>6/23/2003</td>\n",
              "      <td>74.42</td>\n",
              "    </tr>\n",
              "    <tr>\n",
              "      <th>3</th>\n",
              "      <td>6/30/2003</td>\n",
              "      <td>74.35</td>\n",
              "    </tr>\n",
              "    <tr>\n",
              "      <th>4</th>\n",
              "      <td>7/7/2003</td>\n",
              "      <td>74.28</td>\n",
              "    </tr>\n",
              "  </tbody>\n",
              "</table>\n",
              "</div>\n",
              "      <button class=\"colab-df-convert\" onclick=\"convertToInteractive('df-3e590ceb-8076-47f2-9d69-47894080f4ea')\"\n",
              "              title=\"Convert this dataframe to an interactive table.\"\n",
              "              style=\"display:none;\">\n",
              "        \n",
              "  <svg xmlns=\"http://www.w3.org/2000/svg\" height=\"24px\"viewBox=\"0 0 24 24\"\n",
              "       width=\"24px\">\n",
              "    <path d=\"M0 0h24v24H0V0z\" fill=\"none\"/>\n",
              "    <path d=\"M18.56 5.44l.94 2.06.94-2.06 2.06-.94-2.06-.94-.94-2.06-.94 2.06-2.06.94zm-11 1L8.5 8.5l.94-2.06 2.06-.94-2.06-.94L8.5 2.5l-.94 2.06-2.06.94zm10 10l.94 2.06.94-2.06 2.06-.94-2.06-.94-.94-2.06-.94 2.06-2.06.94z\"/><path d=\"M17.41 7.96l-1.37-1.37c-.4-.4-.92-.59-1.43-.59-.52 0-1.04.2-1.43.59L10.3 9.45l-7.72 7.72c-.78.78-.78 2.05 0 2.83L4 21.41c.39.39.9.59 1.41.59.51 0 1.02-.2 1.41-.59l7.78-7.78 2.81-2.81c.8-.78.8-2.07 0-2.86zM5.41 20L4 18.59l7.72-7.72 1.47 1.35L5.41 20z\"/>\n",
              "  </svg>\n",
              "      </button>\n",
              "      \n",
              "  <style>\n",
              "    .colab-df-container {\n",
              "      display:flex;\n",
              "      flex-wrap:wrap;\n",
              "      gap: 12px;\n",
              "    }\n",
              "\n",
              "    .colab-df-convert {\n",
              "      background-color: #E8F0FE;\n",
              "      border: none;\n",
              "      border-radius: 50%;\n",
              "      cursor: pointer;\n",
              "      display: none;\n",
              "      fill: #1967D2;\n",
              "      height: 32px;\n",
              "      padding: 0 0 0 0;\n",
              "      width: 32px;\n",
              "    }\n",
              "\n",
              "    .colab-df-convert:hover {\n",
              "      background-color: #E2EBFA;\n",
              "      box-shadow: 0px 1px 2px rgba(60, 64, 67, 0.3), 0px 1px 3px 1px rgba(60, 64, 67, 0.15);\n",
              "      fill: #174EA6;\n",
              "    }\n",
              "\n",
              "    [theme=dark] .colab-df-convert {\n",
              "      background-color: #3B4455;\n",
              "      fill: #D2E3FC;\n",
              "    }\n",
              "\n",
              "    [theme=dark] .colab-df-convert:hover {\n",
              "      background-color: #434B5C;\n",
              "      box-shadow: 0px 1px 3px 1px rgba(0, 0, 0, 0.15);\n",
              "      filter: drop-shadow(0px 1px 2px rgba(0, 0, 0, 0.3));\n",
              "      fill: #FFFFFF;\n",
              "    }\n",
              "  </style>\n",
              "\n",
              "      <script>\n",
              "        const buttonEl =\n",
              "          document.querySelector('#df-3e590ceb-8076-47f2-9d69-47894080f4ea button.colab-df-convert');\n",
              "        buttonEl.style.display =\n",
              "          google.colab.kernel.accessAllowed ? 'block' : 'none';\n",
              "\n",
              "        async function convertToInteractive(key) {\n",
              "          const element = document.querySelector('#df-3e590ceb-8076-47f2-9d69-47894080f4ea');\n",
              "          const dataTable =\n",
              "            await google.colab.kernel.invokeFunction('convertToInteractive',\n",
              "                                                     [key], {});\n",
              "          if (!dataTable) return;\n",
              "\n",
              "          const docLinkHtml = 'Like what you see? Visit the ' +\n",
              "            '<a target=\"_blank\" href=https://colab.research.google.com/notebooks/data_table.ipynb>data table notebook</a>'\n",
              "            + ' to learn more about interactive tables.';\n",
              "          element.innerHTML = '';\n",
              "          dataTable['output_type'] = 'display_data';\n",
              "          await google.colab.output.renderOutput(dataTable, element);\n",
              "          const docLink = document.createElement('div');\n",
              "          docLink.innerHTML = docLinkHtml;\n",
              "          element.appendChild(docLink);\n",
              "        }\n",
              "      </script>\n",
              "    </div>\n",
              "  </div>\n",
              "  "
            ],
            "text/plain": [
              "        Date  Petrol (USD)\n",
              "0   6/9/2003         74.59\n",
              "1  6/16/2003         74.47\n",
              "2  6/23/2003         74.42\n",
              "3  6/30/2003         74.35\n",
              "4   7/7/2003         74.28"
            ]
          },
          "metadata": {},
          "execution_count": 34
        }
      ],
      "source": [
        "df = pd.read_csv(\"/content/drive/MyDrive/Petrol+Price+Forecasting-+Auto+Kearas/train_data.csv\")\n",
        "df.head()"
      ]
    },
    {
      "cell_type": "code",
      "execution_count": 35,
      "id": "9iVm6Jl1pruM",
      "metadata": {
        "id": "9iVm6Jl1pruM",
        "colab": {
          "base_uri": "https://localhost:8080/",
          "height": 206
        },
        "outputId": "ef66c083-1af0-4abd-b88b-a31cb839fa30"
      },
      "outputs": [
        {
          "output_type": "execute_result",
          "data": {
            "text/html": [
              "\n",
              "  <div id=\"df-2f4dcd37-7fc4-476a-ace9-80d2a1e9136e\">\n",
              "    <div class=\"colab-df-container\">\n",
              "      <div>\n",
              "<style scoped>\n",
              "    .dataframe tbody tr th:only-of-type {\n",
              "        vertical-align: middle;\n",
              "    }\n",
              "\n",
              "    .dataframe tbody tr th {\n",
              "        vertical-align: top;\n",
              "    }\n",
              "\n",
              "    .dataframe thead th {\n",
              "        text-align: right;\n",
              "    }\n",
              "</style>\n",
              "<table border=\"1\" class=\"dataframe\">\n",
              "  <thead>\n",
              "    <tr style=\"text-align: right;\">\n",
              "      <th></th>\n",
              "      <th>Date</th>\n",
              "      <th>Petrol</th>\n",
              "    </tr>\n",
              "  </thead>\n",
              "  <tbody>\n",
              "    <tr>\n",
              "      <th>0</th>\n",
              "      <td>6/9/2003</td>\n",
              "      <td>74.59</td>\n",
              "    </tr>\n",
              "    <tr>\n",
              "      <th>1</th>\n",
              "      <td>6/16/2003</td>\n",
              "      <td>74.47</td>\n",
              "    </tr>\n",
              "    <tr>\n",
              "      <th>2</th>\n",
              "      <td>6/23/2003</td>\n",
              "      <td>74.42</td>\n",
              "    </tr>\n",
              "    <tr>\n",
              "      <th>3</th>\n",
              "      <td>6/30/2003</td>\n",
              "      <td>74.35</td>\n",
              "    </tr>\n",
              "    <tr>\n",
              "      <th>4</th>\n",
              "      <td>7/7/2003</td>\n",
              "      <td>74.28</td>\n",
              "    </tr>\n",
              "  </tbody>\n",
              "</table>\n",
              "</div>\n",
              "      <button class=\"colab-df-convert\" onclick=\"convertToInteractive('df-2f4dcd37-7fc4-476a-ace9-80d2a1e9136e')\"\n",
              "              title=\"Convert this dataframe to an interactive table.\"\n",
              "              style=\"display:none;\">\n",
              "        \n",
              "  <svg xmlns=\"http://www.w3.org/2000/svg\" height=\"24px\"viewBox=\"0 0 24 24\"\n",
              "       width=\"24px\">\n",
              "    <path d=\"M0 0h24v24H0V0z\" fill=\"none\"/>\n",
              "    <path d=\"M18.56 5.44l.94 2.06.94-2.06 2.06-.94-2.06-.94-.94-2.06-.94 2.06-2.06.94zm-11 1L8.5 8.5l.94-2.06 2.06-.94-2.06-.94L8.5 2.5l-.94 2.06-2.06.94zm10 10l.94 2.06.94-2.06 2.06-.94-2.06-.94-.94-2.06-.94 2.06-2.06.94z\"/><path d=\"M17.41 7.96l-1.37-1.37c-.4-.4-.92-.59-1.43-.59-.52 0-1.04.2-1.43.59L10.3 9.45l-7.72 7.72c-.78.78-.78 2.05 0 2.83L4 21.41c.39.39.9.59 1.41.59.51 0 1.02-.2 1.41-.59l7.78-7.78 2.81-2.81c.8-.78.8-2.07 0-2.86zM5.41 20L4 18.59l7.72-7.72 1.47 1.35L5.41 20z\"/>\n",
              "  </svg>\n",
              "      </button>\n",
              "      \n",
              "  <style>\n",
              "    .colab-df-container {\n",
              "      display:flex;\n",
              "      flex-wrap:wrap;\n",
              "      gap: 12px;\n",
              "    }\n",
              "\n",
              "    .colab-df-convert {\n",
              "      background-color: #E8F0FE;\n",
              "      border: none;\n",
              "      border-radius: 50%;\n",
              "      cursor: pointer;\n",
              "      display: none;\n",
              "      fill: #1967D2;\n",
              "      height: 32px;\n",
              "      padding: 0 0 0 0;\n",
              "      width: 32px;\n",
              "    }\n",
              "\n",
              "    .colab-df-convert:hover {\n",
              "      background-color: #E2EBFA;\n",
              "      box-shadow: 0px 1px 2px rgba(60, 64, 67, 0.3), 0px 1px 3px 1px rgba(60, 64, 67, 0.15);\n",
              "      fill: #174EA6;\n",
              "    }\n",
              "\n",
              "    [theme=dark] .colab-df-convert {\n",
              "      background-color: #3B4455;\n",
              "      fill: #D2E3FC;\n",
              "    }\n",
              "\n",
              "    [theme=dark] .colab-df-convert:hover {\n",
              "      background-color: #434B5C;\n",
              "      box-shadow: 0px 1px 3px 1px rgba(0, 0, 0, 0.15);\n",
              "      filter: drop-shadow(0px 1px 2px rgba(0, 0, 0, 0.3));\n",
              "      fill: #FFFFFF;\n",
              "    }\n",
              "  </style>\n",
              "\n",
              "      <script>\n",
              "        const buttonEl =\n",
              "          document.querySelector('#df-2f4dcd37-7fc4-476a-ace9-80d2a1e9136e button.colab-df-convert');\n",
              "        buttonEl.style.display =\n",
              "          google.colab.kernel.accessAllowed ? 'block' : 'none';\n",
              "\n",
              "        async function convertToInteractive(key) {\n",
              "          const element = document.querySelector('#df-2f4dcd37-7fc4-476a-ace9-80d2a1e9136e');\n",
              "          const dataTable =\n",
              "            await google.colab.kernel.invokeFunction('convertToInteractive',\n",
              "                                                     [key], {});\n",
              "          if (!dataTable) return;\n",
              "\n",
              "          const docLinkHtml = 'Like what you see? Visit the ' +\n",
              "            '<a target=\"_blank\" href=https://colab.research.google.com/notebooks/data_table.ipynb>data table notebook</a>'\n",
              "            + ' to learn more about interactive tables.';\n",
              "          element.innerHTML = '';\n",
              "          dataTable['output_type'] = 'display_data';\n",
              "          await google.colab.output.renderOutput(dataTable, element);\n",
              "          const docLink = document.createElement('div');\n",
              "          docLink.innerHTML = docLinkHtml;\n",
              "          element.appendChild(docLink);\n",
              "        }\n",
              "      </script>\n",
              "    </div>\n",
              "  </div>\n",
              "  "
            ],
            "text/plain": [
              "        Date  Petrol\n",
              "0   6/9/2003   74.59\n",
              "1  6/16/2003   74.47\n",
              "2  6/23/2003   74.42\n",
              "3  6/30/2003   74.35\n",
              "4   7/7/2003   74.28"
            ]
          },
          "metadata": {},
          "execution_count": 35
        }
      ],
      "source": [
        "df.rename(columns={\"Petrol (USD)\": \"Petrol\"}, inplace = True)\n",
        "df.head()"
      ]
    },
    {
      "cell_type": "code",
      "execution_count": 36,
      "id": "nCDqO0KUD2Tq",
      "metadata": {
        "id": "nCDqO0KUD2Tq",
        "colab": {
          "base_uri": "https://localhost:8080/",
          "height": 206
        },
        "outputId": "42b275e3-0736-4e7f-83fe-bb9db4a783b1"
      },
      "outputs": [
        {
          "output_type": "execute_result",
          "data": {
            "text/html": [
              "\n",
              "  <div id=\"df-50ee3bf7-fca6-417f-9d52-f854920d10ba\">\n",
              "    <div class=\"colab-df-container\">\n",
              "      <div>\n",
              "<style scoped>\n",
              "    .dataframe tbody tr th:only-of-type {\n",
              "        vertical-align: middle;\n",
              "    }\n",
              "\n",
              "    .dataframe tbody tr th {\n",
              "        vertical-align: top;\n",
              "    }\n",
              "\n",
              "    .dataframe thead th {\n",
              "        text-align: right;\n",
              "    }\n",
              "</style>\n",
              "<table border=\"1\" class=\"dataframe\">\n",
              "  <thead>\n",
              "    <tr style=\"text-align: right;\">\n",
              "      <th></th>\n",
              "      <th>Date</th>\n",
              "      <th>Petrol</th>\n",
              "    </tr>\n",
              "  </thead>\n",
              "  <tbody>\n",
              "    <tr>\n",
              "      <th>0</th>\n",
              "      <td>6/9/2003</td>\n",
              "      <td>74.59</td>\n",
              "    </tr>\n",
              "    <tr>\n",
              "      <th>1</th>\n",
              "      <td>6/16/2003</td>\n",
              "      <td>74.47</td>\n",
              "    </tr>\n",
              "    <tr>\n",
              "      <th>2</th>\n",
              "      <td>6/23/2003</td>\n",
              "      <td>74.42</td>\n",
              "    </tr>\n",
              "    <tr>\n",
              "      <th>3</th>\n",
              "      <td>6/30/2003</td>\n",
              "      <td>74.35</td>\n",
              "    </tr>\n",
              "    <tr>\n",
              "      <th>4</th>\n",
              "      <td>7/7/2003</td>\n",
              "      <td>74.28</td>\n",
              "    </tr>\n",
              "  </tbody>\n",
              "</table>\n",
              "</div>\n",
              "      <button class=\"colab-df-convert\" onclick=\"convertToInteractive('df-50ee3bf7-fca6-417f-9d52-f854920d10ba')\"\n",
              "              title=\"Convert this dataframe to an interactive table.\"\n",
              "              style=\"display:none;\">\n",
              "        \n",
              "  <svg xmlns=\"http://www.w3.org/2000/svg\" height=\"24px\"viewBox=\"0 0 24 24\"\n",
              "       width=\"24px\">\n",
              "    <path d=\"M0 0h24v24H0V0z\" fill=\"none\"/>\n",
              "    <path d=\"M18.56 5.44l.94 2.06.94-2.06 2.06-.94-2.06-.94-.94-2.06-.94 2.06-2.06.94zm-11 1L8.5 8.5l.94-2.06 2.06-.94-2.06-.94L8.5 2.5l-.94 2.06-2.06.94zm10 10l.94 2.06.94-2.06 2.06-.94-2.06-.94-.94-2.06-.94 2.06-2.06.94z\"/><path d=\"M17.41 7.96l-1.37-1.37c-.4-.4-.92-.59-1.43-.59-.52 0-1.04.2-1.43.59L10.3 9.45l-7.72 7.72c-.78.78-.78 2.05 0 2.83L4 21.41c.39.39.9.59 1.41.59.51 0 1.02-.2 1.41-.59l7.78-7.78 2.81-2.81c.8-.78.8-2.07 0-2.86zM5.41 20L4 18.59l7.72-7.72 1.47 1.35L5.41 20z\"/>\n",
              "  </svg>\n",
              "      </button>\n",
              "      \n",
              "  <style>\n",
              "    .colab-df-container {\n",
              "      display:flex;\n",
              "      flex-wrap:wrap;\n",
              "      gap: 12px;\n",
              "    }\n",
              "\n",
              "    .colab-df-convert {\n",
              "      background-color: #E8F0FE;\n",
              "      border: none;\n",
              "      border-radius: 50%;\n",
              "      cursor: pointer;\n",
              "      display: none;\n",
              "      fill: #1967D2;\n",
              "      height: 32px;\n",
              "      padding: 0 0 0 0;\n",
              "      width: 32px;\n",
              "    }\n",
              "\n",
              "    .colab-df-convert:hover {\n",
              "      background-color: #E2EBFA;\n",
              "      box-shadow: 0px 1px 2px rgba(60, 64, 67, 0.3), 0px 1px 3px 1px rgba(60, 64, 67, 0.15);\n",
              "      fill: #174EA6;\n",
              "    }\n",
              "\n",
              "    [theme=dark] .colab-df-convert {\n",
              "      background-color: #3B4455;\n",
              "      fill: #D2E3FC;\n",
              "    }\n",
              "\n",
              "    [theme=dark] .colab-df-convert:hover {\n",
              "      background-color: #434B5C;\n",
              "      box-shadow: 0px 1px 3px 1px rgba(0, 0, 0, 0.15);\n",
              "      filter: drop-shadow(0px 1px 2px rgba(0, 0, 0, 0.3));\n",
              "      fill: #FFFFFF;\n",
              "    }\n",
              "  </style>\n",
              "\n",
              "      <script>\n",
              "        const buttonEl =\n",
              "          document.querySelector('#df-50ee3bf7-fca6-417f-9d52-f854920d10ba button.colab-df-convert');\n",
              "        buttonEl.style.display =\n",
              "          google.colab.kernel.accessAllowed ? 'block' : 'none';\n",
              "\n",
              "        async function convertToInteractive(key) {\n",
              "          const element = document.querySelector('#df-50ee3bf7-fca6-417f-9d52-f854920d10ba');\n",
              "          const dataTable =\n",
              "            await google.colab.kernel.invokeFunction('convertToInteractive',\n",
              "                                                     [key], {});\n",
              "          if (!dataTable) return;\n",
              "\n",
              "          const docLinkHtml = 'Like what you see? Visit the ' +\n",
              "            '<a target=\"_blank\" href=https://colab.research.google.com/notebooks/data_table.ipynb>data table notebook</a>'\n",
              "            + ' to learn more about interactive tables.';\n",
              "          element.innerHTML = '';\n",
              "          dataTable['output_type'] = 'display_data';\n",
              "          await google.colab.output.renderOutput(dataTable, element);\n",
              "          const docLink = document.createElement('div');\n",
              "          docLink.innerHTML = docLinkHtml;\n",
              "          element.appendChild(docLink);\n",
              "        }\n",
              "      </script>\n",
              "    </div>\n",
              "  </div>\n",
              "  "
            ],
            "text/plain": [
              "        Date  Petrol\n",
              "0   6/9/2003   74.59\n",
              "1  6/16/2003   74.47\n",
              "2  6/23/2003   74.42\n",
              "3  6/30/2003   74.35\n",
              "4   7/7/2003   74.28"
            ]
          },
          "metadata": {},
          "execution_count": 36
        }
      ],
      "source": [
        "df2 = df.dropna()\n",
        "df3=df2[df2.Petrol<160]\n",
        "df3.head()\n"
      ]
    },
    {
      "cell_type": "code",
      "execution_count": 37,
      "id": "rgmu2cLaqDCE",
      "metadata": {
        "id": "rgmu2cLaqDCE",
        "colab": {
          "base_uri": "https://localhost:8080/"
        },
        "outputId": "478ba9e8-e619-4614-c1f5-20cbfc597800"
      },
      "outputs": [
        {
          "output_type": "execute_result",
          "data": {
            "text/plain": [
              "0    74.59\n",
              "1    74.47\n",
              "2    74.42\n",
              "3    74.35\n",
              "4    74.28\n",
              "Name: Petrol, dtype: float64"
            ]
          },
          "metadata": {},
          "execution_count": 37
        }
      ],
      "source": [
        "df4=df3.reset_index()['Petrol']\n",
        "df4.head()"
      ]
    },
    {
      "cell_type": "code",
      "source": [
        "df4.head()"
      ],
      "metadata": {
        "colab": {
          "base_uri": "https://localhost:8080/"
        },
        "id": "s5FHPby_itIb",
        "outputId": "e48fe71c-6b68-47c1-949e-61a3b97dc58b"
      },
      "id": "s5FHPby_itIb",
      "execution_count": 40,
      "outputs": [
        {
          "output_type": "execute_result",
          "data": {
            "text/plain": [
              "0    74.59\n",
              "1    74.47\n",
              "2    74.42\n",
              "3    74.35\n",
              "4    74.28\n",
              "Name: Petrol, dtype: float64"
            ]
          },
          "metadata": {},
          "execution_count": 40
        }
      ]
    },
    {
      "cell_type": "code",
      "execution_count": 38,
      "id": "vks4TdPaD6OS",
      "metadata": {
        "id": "vks4TdPaD6OS",
        "colab": {
          "base_uri": "https://localhost:8080/"
        },
        "outputId": "3f6eeefb-d48e-43aa-8bbe-d7204e2fc160"
      },
      "outputs": [
        {
          "output_type": "execute_result",
          "data": {
            "text/plain": [
              "(array([119.82692174, 119.57463623, 119.39905793, 119.28423516,\n",
              "        119.21166681, 119.17013079, 119.15225034, 119.15224172,\n",
              "        119.16567806, 119.18919529, 119.22027298, 119.25702896,\n",
              "        119.29805054, 119.34227587, 119.38890711, 119.43734505,\n",
              "        119.48713977, 119.53795341, 119.58953226, 119.64168575,\n",
              "        119.69427079, 119.74717992, 119.80033243, 119.85366771,\n",
              "        119.90714026, 119.96071588, 120.01436892, 120.06808009,\n",
              "        120.12183492, 120.17562254]),\n",
              " array([0.62715362, 1.20388708, 1.74478785, 2.25846805, 2.74675597,\n",
              "        3.2116405 , 3.65310842, 4.07154515, 4.46820798, 4.84470166,\n",
              "        5.20269989, 5.54382156, 5.86958352, 6.18138225, 6.48048633,\n",
              "        6.76803752, 7.04505755, 7.31245769, 7.57104936, 7.82155473,\n",
              "        8.06461681, 8.30080868, 8.53064192, 8.75457406, 8.97301518,\n",
              "        9.18633371, 9.3948615 , 9.5988982 , 9.79871511, 9.99455851]),\n",
              " array([[118.59772324, 121.05612024],\n",
              "        [117.21506091, 121.93421155],\n",
              "        [115.97933658, 122.81877929],\n",
              "        [114.85771913, 123.71075119],\n",
              "        [113.82812405, 124.59520958],\n",
              "        [112.87543107, 125.46483051],\n",
              "        [111.9922894 , 126.31221128],\n",
              "        [111.17215988, 127.13232357],\n",
              "        [110.40815134, 127.92320478],\n",
              "        [109.69375451, 128.68463606],\n",
              "        [109.02316856, 129.41737739],\n",
              "        [108.39133837, 130.12271955],\n",
              "        [107.79387824, 130.80222283],\n",
              "        [107.22698929, 131.45756245],\n",
              "        [106.6873873 , 132.09042692],\n",
              "        [106.17223526, 132.70245484],\n",
              "        [105.67908069, 133.29519884],\n",
              "        [105.2057997 , 133.87010712],\n",
              "        [104.75054819, 134.42851632],\n",
              "        [104.31172018, 134.97165132],\n",
              "        [103.8879123 , 135.50062928],\n",
              "        [103.47789387, 136.01646597],\n",
              "        [103.0805815 , 136.52008335],\n",
              "        [102.69501786, 137.01231756],\n",
              "        [102.32035368, 137.49392684],\n",
              "        [101.95583265, 137.96559911],\n",
              "        [101.60077873, 138.42795911],\n",
              "        [101.25458532, 138.88157486],\n",
              "        [100.91670621, 139.32696363],\n",
              "        [100.58664782, 139.76459725]]))"
            ]
          },
          "metadata": {},
          "execution_count": 38
        }
      ],
      "source": [
        "model1 = ARIMA(df4.values, order=(5,1,0))\n",
        "model_fit1 = model1.fit()\n",
        "output1= model_fit1.forecast(steps=30)\n",
        "output1"
      ]
    },
    {
      "cell_type": "markdown",
      "id": "iVKwRTmDnxwd",
      "metadata": {
        "id": "iVKwRTmDnxwd"
      },
      "source": [
        "# Using Auto ML"
      ]
    },
    {
      "cell_type": "markdown",
      "id": "uNVmRVGun23V",
      "metadata": {
        "id": "uNVmRVGun23V"
      },
      "source": [
        " ![download.png](data:image/png;base64,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)"
      ]
    },
    {
      "cell_type": "markdown",
      "id": "5nEy2U0hoGEZ",
      "metadata": {
        "id": "5nEy2U0hoGEZ"
      },
      "source": [
        "## AutoKeras: An AutoML system based on Keras. It is developed by DATA Lab at Texas A&M University"
      ]
    },
    {
      "cell_type": "markdown",
      "id": "lThRUPGnoIZZ",
      "metadata": {
        "id": "lThRUPGnoIZZ"
      },
      "source": [
        "## Installing Auto Keras"
      ]
    },
    {
      "cell_type": "code",
      "execution_count": 42,
      "id": "dfe88bcc",
      "metadata": {
        "id": "dfe88bcc",
        "colab": {
          "base_uri": "https://localhost:8080/"
        },
        "outputId": "0fcead9b-ba6d-44ed-b865-2b0cc7e29dae"
      },
      "outputs": [
        {
          "output_type": "stream",
          "name": "stdout",
          "text": [
            "Collecting git+https://github.com/keras-team/keras-tuner.git\n",
            "  Cloning https://github.com/keras-team/keras-tuner.git to /tmp/pip-req-build-auj7mq6g\n",
            "  Running command git clone -q https://github.com/keras-team/keras-tuner.git /tmp/pip-req-build-auj7mq6g\n",
            "Requirement already satisfied: packaging in /usr/local/lib/python3.7/dist-packages (from keras-tuner===master) (21.3)\n",
            "Requirement already satisfied: numpy in /usr/local/lib/python3.7/dist-packages (from keras-tuner===master) (1.19.5)\n",
            "Requirement already satisfied: requests in /usr/local/lib/python3.7/dist-packages (from keras-tuner===master) (2.23.0)\n",
            "Requirement already satisfied: scipy in /usr/local/lib/python3.7/dist-packages (from keras-tuner===master) (1.4.1)\n",
            "Requirement already satisfied: tensorboard in /usr/local/lib/python3.7/dist-packages (from keras-tuner===master) (2.7.0)\n",
            "Requirement already satisfied: ipython in /usr/local/lib/python3.7/dist-packages (from keras-tuner===master) (5.5.0)\n",
            "Collecting kt-legacy\n",
            "  Downloading kt_legacy-1.0.4-py3-none-any.whl (9.6 kB)\n",
            "Requirement already satisfied: prompt-toolkit<2.0.0,>=1.0.4 in /usr/local/lib/python3.7/dist-packages (from ipython->keras-tuner===master) (1.0.18)\n",
            "Requirement already satisfied: pygments in /usr/local/lib/python3.7/dist-packages (from ipython->keras-tuner===master) (2.6.1)\n",
            "Requirement already satisfied: setuptools>=18.5 in /usr/local/lib/python3.7/dist-packages (from ipython->keras-tuner===master) (57.4.0)\n",
            "Requirement already satisfied: traitlets>=4.2 in /usr/local/lib/python3.7/dist-packages (from ipython->keras-tuner===master) (5.1.1)\n",
            "Requirement already satisfied: pexpect in /usr/local/lib/python3.7/dist-packages (from ipython->keras-tuner===master) (4.8.0)\n",
            "Requirement already satisfied: decorator in /usr/local/lib/python3.7/dist-packages (from ipython->keras-tuner===master) (4.4.2)\n",
            "Requirement already satisfied: pickleshare in /usr/local/lib/python3.7/dist-packages (from ipython->keras-tuner===master) (0.7.5)\n",
            "Requirement already satisfied: simplegeneric>0.8 in /usr/local/lib/python3.7/dist-packages (from ipython->keras-tuner===master) (0.8.1)\n",
            "Requirement already satisfied: six>=1.9.0 in /usr/local/lib/python3.7/dist-packages (from prompt-toolkit<2.0.0,>=1.0.4->ipython->keras-tuner===master) (1.15.0)\n",
            "Requirement already satisfied: wcwidth in /usr/local/lib/python3.7/dist-packages (from prompt-toolkit<2.0.0,>=1.0.4->ipython->keras-tuner===master) (0.2.5)\n",
            "Requirement already satisfied: pyparsing!=3.0.5,>=2.0.2 in /usr/local/lib/python3.7/dist-packages (from packaging->keras-tuner===master) (3.0.7)\n",
            "Requirement already satisfied: ptyprocess>=0.5 in /usr/local/lib/python3.7/dist-packages (from pexpect->ipython->keras-tuner===master) (0.7.0)\n",
            "Requirement already satisfied: certifi>=2017.4.17 in /usr/local/lib/python3.7/dist-packages (from requests->keras-tuner===master) (2021.10.8)\n",
            "Requirement already satisfied: chardet<4,>=3.0.2 in /usr/local/lib/python3.7/dist-packages (from requests->keras-tuner===master) (3.0.4)\n",
            "Requirement already satisfied: urllib3!=1.25.0,!=1.25.1,<1.26,>=1.21.1 in /usr/local/lib/python3.7/dist-packages (from requests->keras-tuner===master) (1.24.3)\n",
            "Requirement already satisfied: idna<3,>=2.5 in /usr/local/lib/python3.7/dist-packages (from requests->keras-tuner===master) (2.10)\n",
            "Requirement already satisfied: absl-py>=0.4 in /usr/local/lib/python3.7/dist-packages (from tensorboard->keras-tuner===master) (1.0.0)\n",
            "Requirement already satisfied: tensorboard-data-server<0.7.0,>=0.6.0 in /usr/local/lib/python3.7/dist-packages (from tensorboard->keras-tuner===master) (0.6.1)\n",
            "Requirement already satisfied: tensorboard-plugin-wit>=1.6.0 in /usr/local/lib/python3.7/dist-packages (from tensorboard->keras-tuner===master) (1.8.1)\n",
            "Requirement already satisfied: markdown>=2.6.8 in /usr/local/lib/python3.7/dist-packages (from tensorboard->keras-tuner===master) (3.3.6)\n",
            "Requirement already satisfied: google-auth-oauthlib<0.5,>=0.4.1 in /usr/local/lib/python3.7/dist-packages (from tensorboard->keras-tuner===master) (0.4.6)\n",
            "Requirement already satisfied: grpcio>=1.24.3 in /usr/local/lib/python3.7/dist-packages (from tensorboard->keras-tuner===master) (1.43.0)\n",
            "Requirement already satisfied: protobuf>=3.6.0 in /usr/local/lib/python3.7/dist-packages (from tensorboard->keras-tuner===master) (3.17.3)\n",
            "Requirement already satisfied: wheel>=0.26 in /usr/local/lib/python3.7/dist-packages (from tensorboard->keras-tuner===master) (0.37.1)\n",
            "Requirement already satisfied: werkzeug>=0.11.15 in /usr/local/lib/python3.7/dist-packages (from tensorboard->keras-tuner===master) (1.0.1)\n",
            "Requirement already satisfied: google-auth<3,>=1.6.3 in /usr/local/lib/python3.7/dist-packages (from tensorboard->keras-tuner===master) (1.35.0)\n",
            "Requirement already satisfied: cachetools<5.0,>=2.0.0 in /usr/local/lib/python3.7/dist-packages (from google-auth<3,>=1.6.3->tensorboard->keras-tuner===master) (4.2.4)\n",
            "Requirement already satisfied: pyasn1-modules>=0.2.1 in /usr/local/lib/python3.7/dist-packages (from google-auth<3,>=1.6.3->tensorboard->keras-tuner===master) (0.2.8)\n",
            "Requirement already satisfied: rsa<5,>=3.1.4 in /usr/local/lib/python3.7/dist-packages (from google-auth<3,>=1.6.3->tensorboard->keras-tuner===master) (4.8)\n",
            "Requirement already satisfied: requests-oauthlib>=0.7.0 in /usr/local/lib/python3.7/dist-packages (from google-auth-oauthlib<0.5,>=0.4.1->tensorboard->keras-tuner===master) (1.3.1)\n",
            "Requirement already satisfied: importlib-metadata>=4.4 in /usr/local/lib/python3.7/dist-packages (from markdown>=2.6.8->tensorboard->keras-tuner===master) (4.10.1)\n",
            "Requirement already satisfied: zipp>=0.5 in /usr/local/lib/python3.7/dist-packages (from importlib-metadata>=4.4->markdown>=2.6.8->tensorboard->keras-tuner===master) (3.7.0)\n",
            "Requirement already satisfied: typing-extensions>=3.6.4 in /usr/local/lib/python3.7/dist-packages (from importlib-metadata>=4.4->markdown>=2.6.8->tensorboard->keras-tuner===master) (3.10.0.2)\n",
            "Requirement already satisfied: pyasn1<0.5.0,>=0.4.6 in /usr/local/lib/python3.7/dist-packages (from pyasn1-modules>=0.2.1->google-auth<3,>=1.6.3->tensorboard->keras-tuner===master) (0.4.8)\n",
            "Requirement already satisfied: oauthlib>=3.0.0 in /usr/local/lib/python3.7/dist-packages (from requests-oauthlib>=0.7.0->google-auth-oauthlib<0.5,>=0.4.1->tensorboard->keras-tuner===master) (3.2.0)\n",
            "Building wheels for collected packages: keras-tuner\n",
            "  Building wheel for keras-tuner (setup.py) ... \u001b[?25l\u001b[?25hdone\n",
            "  Created wheel for keras-tuner: filename=keras_tuner-master-py3-none-any.whl size=132636 sha256=935359eec9712eb36de502c9611a8275198df4a1765fc072865bdd7e745e4367\n",
            "  Stored in directory: /tmp/pip-ephem-wheel-cache-2cqstq8_/wheels/e1/66/9f/f6c4d78f995ffaab8f76f55725a28cdcaa9b25910f7ac0326a\n",
            "\u001b[33m  WARNING: Built wheel for keras-tuner is invalid: Metadata 1.2 mandates PEP 440 version, but 'master' is not\u001b[0m\n",
            "Failed to build keras-tuner\n",
            "Installing collected packages: kt-legacy, keras-tuner\n",
            "    Running setup.py install for keras-tuner ... \u001b[?25l\u001b[?25hdone\n",
            "\u001b[33m  DEPRECATION: keras-tuner was installed using the legacy 'setup.py install' method, because a wheel could not be built for it. A possible replacement is to fix the wheel build issue reported above. You can find discussion regarding this at https://github.com/pypa/pip/issues/8368.\u001b[0m\n",
            "Successfully installed keras-tuner-master kt-legacy-1.0.4\n"
          ]
        }
      ],
      "source": [
        "!pip install git+https://github.com/keras-team/keras-tuner.git"
      ]
    },
    {
      "cell_type": "code",
      "execution_count": 43,
      "id": "b1ea1595",
      "metadata": {
        "id": "b1ea1595",
        "colab": {
          "base_uri": "https://localhost:8080/",
          "height": 1000
        },
        "outputId": "eb3ef1e1-6661-4506-bff3-6953e678b686"
      },
      "outputs": [
        {
          "output_type": "stream",
          "name": "stdout",
          "text": [
            "Collecting autokeras\n",
            "  Downloading autokeras-1.0.17-py3-none-any.whl (160 kB)\n",
            "\u001b[?25l\r\u001b[K     |██                              | 10 kB 20.2 MB/s eta 0:00:01\r\u001b[K     |████                            | 20 kB 25.6 MB/s eta 0:00:01\r\u001b[K     |██████▏                         | 30 kB 24.9 MB/s eta 0:00:01\r\u001b[K     |████████▏                       | 40 kB 18.9 MB/s eta 0:00:01\r\u001b[K     |██████████▏                     | 51 kB 13.0 MB/s eta 0:00:01\r\u001b[K     |████████████▎                   | 61 kB 14.4 MB/s eta 0:00:01\r\u001b[K     |██████████████▎                 | 71 kB 12.9 MB/s eta 0:00:01\r\u001b[K     |████████████████▎               | 81 kB 14.2 MB/s eta 0:00:01\r\u001b[K     |██████████████████▍             | 92 kB 13.9 MB/s eta 0:00:01\r\u001b[K     |████████████████████▍           | 102 kB 13.5 MB/s eta 0:00:01\r\u001b[K     |██████████████████████▍         | 112 kB 13.5 MB/s eta 0:00:01\r\u001b[K     |████████████████████████▌       | 122 kB 13.5 MB/s eta 0:00:01\r\u001b[K     |██████████████████████████▌     | 133 kB 13.5 MB/s eta 0:00:01\r\u001b[K     |████████████████████████████▌   | 143 kB 13.5 MB/s eta 0:00:01\r\u001b[K     |██████████████████████████████▋ | 153 kB 13.5 MB/s eta 0:00:01\r\u001b[K     |████████████████████████████████| 160 kB 13.5 MB/s \n",
            "\u001b[?25hCollecting keras-tuner>=1.1.0\n",
            "  Downloading keras_tuner-1.1.0-py3-none-any.whl (98 kB)\n",
            "\u001b[K     |████████████████████████████████| 98 kB 7.3 MB/s \n",
            "\u001b[?25hCollecting tensorflow>=2.8.0\n",
            "  Downloading tensorflow-2.8.0-cp37-cp37m-manylinux2010_x86_64.whl (497.5 MB)\n",
            "\u001b[K     |████████████████████████████████| 497.5 MB 22 kB/s \n",
            "\u001b[?25hRequirement already satisfied: packaging in /usr/local/lib/python3.7/dist-packages (from autokeras) (21.3)\n",
            "Requirement already satisfied: pandas in /usr/local/lib/python3.7/dist-packages (from autokeras) (1.3.5)\n",
            "Requirement already satisfied: requests in /usr/local/lib/python3.7/dist-packages (from keras-tuner>=1.1.0->autokeras) (2.23.0)\n",
            "Requirement already satisfied: kt-legacy in /usr/local/lib/python3.7/dist-packages (from keras-tuner>=1.1.0->autokeras) (1.0.4)\n",
            "Requirement already satisfied: ipython in /usr/local/lib/python3.7/dist-packages (from keras-tuner>=1.1.0->autokeras) (5.5.0)\n",
            "Requirement already satisfied: scipy in /usr/local/lib/python3.7/dist-packages (from keras-tuner>=1.1.0->autokeras) (1.4.1)\n",
            "Requirement already satisfied: tensorboard in /usr/local/lib/python3.7/dist-packages (from keras-tuner>=1.1.0->autokeras) (2.7.0)\n",
            "Requirement already satisfied: numpy in /usr/local/lib/python3.7/dist-packages (from keras-tuner>=1.1.0->autokeras) (1.19.5)\n",
            "Requirement already satisfied: google-pasta>=0.1.1 in /usr/local/lib/python3.7/dist-packages (from tensorflow>=2.8.0->autokeras) (0.2.0)\n",
            "Requirement already satisfied: protobuf>=3.9.2 in /usr/local/lib/python3.7/dist-packages (from tensorflow>=2.8.0->autokeras) (3.17.3)\n",
            "Requirement already satisfied: h5py>=2.9.0 in /usr/local/lib/python3.7/dist-packages (from tensorflow>=2.8.0->autokeras) (3.1.0)\n",
            "Requirement already satisfied: typing-extensions>=3.6.6 in /usr/local/lib/python3.7/dist-packages (from tensorflow>=2.8.0->autokeras) (3.10.0.2)\n",
            "Requirement already satisfied: keras-preprocessing>=1.1.1 in /usr/local/lib/python3.7/dist-packages (from tensorflow>=2.8.0->autokeras) (1.1.2)\n",
            "Requirement already satisfied: flatbuffers>=1.12 in /usr/local/lib/python3.7/dist-packages (from tensorflow>=2.8.0->autokeras) (2.0)\n",
            "Collecting tensorboard\n",
            "  Downloading tensorboard-2.8.0-py3-none-any.whl (5.8 MB)\n",
            "\u001b[K     |████████████████████████████████| 5.8 MB 11.4 MB/s \n",
            "\u001b[?25hRequirement already satisfied: tensorflow-io-gcs-filesystem>=0.23.1 in /usr/local/lib/python3.7/dist-packages (from tensorflow>=2.8.0->autokeras) (0.24.0)\n",
            "Collecting keras<2.9,>=2.8.0rc0\n",
            "  Downloading keras-2.8.0-py2.py3-none-any.whl (1.4 MB)\n",
            "\u001b[K     |████████████████████████████████| 1.4 MB 41.9 MB/s \n",
            "\u001b[?25hCollecting tf-estimator-nightly==2.8.0.dev2021122109\n",
            "  Downloading tf_estimator_nightly-2.8.0.dev2021122109-py2.py3-none-any.whl (462 kB)\n",
            "\u001b[K     |████████████████████████████████| 462 kB 68.9 MB/s \n",
            "\u001b[?25hRequirement already satisfied: astunparse>=1.6.0 in /usr/local/lib/python3.7/dist-packages (from tensorflow>=2.8.0->autokeras) (1.6.3)\n",
            "Requirement already satisfied: grpcio<2.0,>=1.24.3 in /usr/local/lib/python3.7/dist-packages (from tensorflow>=2.8.0->autokeras) (1.43.0)\n",
            "Requirement already satisfied: termcolor>=1.1.0 in /usr/local/lib/python3.7/dist-packages (from tensorflow>=2.8.0->autokeras) (1.1.0)\n",
            "Requirement already satisfied: libclang>=9.0.1 in /usr/local/lib/python3.7/dist-packages (from tensorflow>=2.8.0->autokeras) (13.0.0)\n",
            "Requirement already satisfied: opt-einsum>=2.3.2 in /usr/local/lib/python3.7/dist-packages (from tensorflow>=2.8.0->autokeras) (3.3.0)\n",
            "Requirement already satisfied: setuptools in /usr/local/lib/python3.7/dist-packages (from tensorflow>=2.8.0->autokeras) (57.4.0)\n",
            "Requirement already satisfied: wrapt>=1.11.0 in /usr/local/lib/python3.7/dist-packages (from tensorflow>=2.8.0->autokeras) (1.13.3)\n",
            "Requirement already satisfied: gast>=0.2.1 in /usr/local/lib/python3.7/dist-packages (from tensorflow>=2.8.0->autokeras) (0.4.0)\n",
            "Requirement already satisfied: absl-py>=0.4.0 in /usr/local/lib/python3.7/dist-packages (from tensorflow>=2.8.0->autokeras) (1.0.0)\n",
            "Requirement already satisfied: six>=1.12.0 in /usr/local/lib/python3.7/dist-packages (from tensorflow>=2.8.0->autokeras) (1.15.0)\n",
            "Collecting numpy\n",
            "  Using cached numpy-1.21.5-cp37-cp37m-manylinux_2_12_x86_64.manylinux2010_x86_64.whl (15.7 MB)\n",
            "Requirement already satisfied: wheel<1.0,>=0.23.0 in /usr/local/lib/python3.7/dist-packages (from astunparse>=1.6.0->tensorflow>=2.8.0->autokeras) (0.37.1)\n",
            "Requirement already satisfied: cached-property in /usr/local/lib/python3.7/dist-packages (from h5py>=2.9.0->tensorflow>=2.8.0->autokeras) (1.5.2)\n",
            "Requirement already satisfied: google-auth<3,>=1.6.3 in /usr/local/lib/python3.7/dist-packages (from tensorboard->keras-tuner>=1.1.0->autokeras) (1.35.0)\n",
            "Requirement already satisfied: tensorboard-plugin-wit>=1.6.0 in /usr/local/lib/python3.7/dist-packages (from tensorboard->keras-tuner>=1.1.0->autokeras) (1.8.1)\n",
            "Requirement already satisfied: google-auth-oauthlib<0.5,>=0.4.1 in /usr/local/lib/python3.7/dist-packages (from tensorboard->keras-tuner>=1.1.0->autokeras) (0.4.6)\n",
            "Requirement already satisfied: tensorboard-data-server<0.7.0,>=0.6.0 in /usr/local/lib/python3.7/dist-packages (from tensorboard->keras-tuner>=1.1.0->autokeras) (0.6.1)\n",
            "Requirement already satisfied: werkzeug>=0.11.15 in /usr/local/lib/python3.7/dist-packages (from tensorboard->keras-tuner>=1.1.0->autokeras) (1.0.1)\n",
            "Requirement already satisfied: markdown>=2.6.8 in /usr/local/lib/python3.7/dist-packages (from tensorboard->keras-tuner>=1.1.0->autokeras) (3.3.6)\n",
            "Requirement already satisfied: cachetools<5.0,>=2.0.0 in /usr/local/lib/python3.7/dist-packages (from google-auth<3,>=1.6.3->tensorboard->keras-tuner>=1.1.0->autokeras) (4.2.4)\n",
            "Requirement already satisfied: rsa<5,>=3.1.4 in /usr/local/lib/python3.7/dist-packages (from google-auth<3,>=1.6.3->tensorboard->keras-tuner>=1.1.0->autokeras) (4.8)\n",
            "Requirement already satisfied: pyasn1-modules>=0.2.1 in /usr/local/lib/python3.7/dist-packages (from google-auth<3,>=1.6.3->tensorboard->keras-tuner>=1.1.0->autokeras) (0.2.8)\n",
            "Requirement already satisfied: requests-oauthlib>=0.7.0 in /usr/local/lib/python3.7/dist-packages (from google-auth-oauthlib<0.5,>=0.4.1->tensorboard->keras-tuner>=1.1.0->autokeras) (1.3.1)\n",
            "Requirement already satisfied: importlib-metadata>=4.4 in /usr/local/lib/python3.7/dist-packages (from markdown>=2.6.8->tensorboard->keras-tuner>=1.1.0->autokeras) (4.10.1)\n",
            "Requirement already satisfied: zipp>=0.5 in /usr/local/lib/python3.7/dist-packages (from importlib-metadata>=4.4->markdown>=2.6.8->tensorboard->keras-tuner>=1.1.0->autokeras) (3.7.0)\n",
            "Requirement already satisfied: pyasn1<0.5.0,>=0.4.6 in /usr/local/lib/python3.7/dist-packages (from pyasn1-modules>=0.2.1->google-auth<3,>=1.6.3->tensorboard->keras-tuner>=1.1.0->autokeras) (0.4.8)\n",
            "Requirement already satisfied: urllib3!=1.25.0,!=1.25.1,<1.26,>=1.21.1 in /usr/local/lib/python3.7/dist-packages (from requests->keras-tuner>=1.1.0->autokeras) (1.24.3)\n",
            "Requirement already satisfied: certifi>=2017.4.17 in /usr/local/lib/python3.7/dist-packages (from requests->keras-tuner>=1.1.0->autokeras) (2021.10.8)\n",
            "Requirement already satisfied: chardet<4,>=3.0.2 in /usr/local/lib/python3.7/dist-packages (from requests->keras-tuner>=1.1.0->autokeras) (3.0.4)\n",
            "Requirement already satisfied: idna<3,>=2.5 in /usr/local/lib/python3.7/dist-packages (from requests->keras-tuner>=1.1.0->autokeras) (2.10)\n",
            "Requirement already satisfied: oauthlib>=3.0.0 in /usr/local/lib/python3.7/dist-packages (from requests-oauthlib>=0.7.0->google-auth-oauthlib<0.5,>=0.4.1->tensorboard->keras-tuner>=1.1.0->autokeras) (3.2.0)\n",
            "Requirement already satisfied: prompt-toolkit<2.0.0,>=1.0.4 in /usr/local/lib/python3.7/dist-packages (from ipython->keras-tuner>=1.1.0->autokeras) (1.0.18)\n",
            "Requirement already satisfied: simplegeneric>0.8 in /usr/local/lib/python3.7/dist-packages (from ipython->keras-tuner>=1.1.0->autokeras) (0.8.1)\n",
            "Requirement already satisfied: traitlets>=4.2 in /usr/local/lib/python3.7/dist-packages (from ipython->keras-tuner>=1.1.0->autokeras) (5.1.1)\n",
            "Requirement already satisfied: pexpect in /usr/local/lib/python3.7/dist-packages (from ipython->keras-tuner>=1.1.0->autokeras) (4.8.0)\n",
            "Requirement already satisfied: pygments in /usr/local/lib/python3.7/dist-packages (from ipython->keras-tuner>=1.1.0->autokeras) (2.6.1)\n",
            "Requirement already satisfied: pickleshare in /usr/local/lib/python3.7/dist-packages (from ipython->keras-tuner>=1.1.0->autokeras) (0.7.5)\n",
            "Requirement already satisfied: decorator in /usr/local/lib/python3.7/dist-packages (from ipython->keras-tuner>=1.1.0->autokeras) (4.4.2)\n",
            "Requirement already satisfied: wcwidth in /usr/local/lib/python3.7/dist-packages (from prompt-toolkit<2.0.0,>=1.0.4->ipython->keras-tuner>=1.1.0->autokeras) (0.2.5)\n",
            "Requirement already satisfied: pyparsing!=3.0.5,>=2.0.2 in /usr/local/lib/python3.7/dist-packages (from packaging->autokeras) (3.0.7)\n",
            "Requirement already satisfied: python-dateutil>=2.7.3 in /usr/local/lib/python3.7/dist-packages (from pandas->autokeras) (2.8.2)\n",
            "Requirement already satisfied: pytz>=2017.3 in /usr/local/lib/python3.7/dist-packages (from pandas->autokeras) (2018.9)\n",
            "Requirement already satisfied: ptyprocess>=0.5 in /usr/local/lib/python3.7/dist-packages (from pexpect->ipython->keras-tuner>=1.1.0->autokeras) (0.7.0)\n",
            "Installing collected packages: numpy, tf-estimator-nightly, tensorboard, keras, tensorflow, keras-tuner, autokeras\n",
            "  Attempting uninstall: numpy\n",
            "    Found existing installation: numpy 1.19.5\n",
            "    Uninstalling numpy-1.19.5:\n",
            "      Successfully uninstalled numpy-1.19.5\n",
            "  Attempting uninstall: tensorboard\n",
            "    Found existing installation: tensorboard 2.7.0\n",
            "    Uninstalling tensorboard-2.7.0:\n",
            "      Successfully uninstalled tensorboard-2.7.0\n",
            "  Attempting uninstall: keras\n",
            "    Found existing installation: keras 2.7.0\n",
            "    Uninstalling keras-2.7.0:\n",
            "      Successfully uninstalled keras-2.7.0\n",
            "  Attempting uninstall: tensorflow\n",
            "    Found existing installation: tensorflow 2.7.0\n",
            "    Uninstalling tensorflow-2.7.0:\n",
            "      Successfully uninstalled tensorflow-2.7.0\n",
            "  Attempting uninstall: keras-tuner\n",
            "    Found existing installation: keras-tuner master\n",
            "    Uninstalling keras-tuner-master:\n",
            "      Successfully uninstalled keras-tuner-master\n",
            "\u001b[31mERROR: pip's dependency resolver does not currently take into account all the packages that are installed. This behaviour is the source of the following dependency conflicts.\n",
            "yellowbrick 1.3.post1 requires numpy<1.20,>=1.16.0, but you have numpy 1.21.5 which is incompatible.\n",
            "datascience 0.10.6 requires folium==0.2.1, but you have folium 0.8.3 which is incompatible.\n",
            "albumentations 0.1.12 requires imgaug<0.2.7,>=0.2.5, but you have imgaug 0.2.9 which is incompatible.\u001b[0m\n",
            "Successfully installed autokeras-1.0.17 keras-2.8.0 keras-tuner-1.1.0 numpy-1.21.5 tensorboard-2.8.0 tensorflow-2.8.0 tf-estimator-nightly-2.8.0.dev2021122109\n"
          ]
        },
        {
          "output_type": "display_data",
          "data": {
            "application/vnd.colab-display-data+json": {
              "pip_warning": {
                "packages": [
                  "keras",
                  "numpy",
                  "tensorboard",
                  "tensorflow"
                ]
              }
            }
          },
          "metadata": {}
        }
      ],
      "source": [
        "!pip install autokeras"
      ]
    },
    {
      "cell_type": "code",
      "execution_count": 1,
      "id": "3A0tyai90XP4",
      "metadata": {
        "id": "3A0tyai90XP4",
        "colab": {
          "base_uri": "https://localhost:8080/"
        },
        "outputId": "f6ac656c-eed4-421e-dd57-fa99dbbafd89"
      },
      "outputs": [
        {
          "output_type": "stream",
          "name": "stdout",
          "text": [
            "Name: autokeras\n",
            "Version: 1.0.17\n",
            "Summary: AutoML for deep learning\n",
            "Home-page: http://autokeras.com\n",
            "Author: DATA Lab, Keras Team\n",
            "Author-email: jhfjhfj1@gmail.com\n",
            "License: Apache License 2.0\n",
            "Location: /usr/local/lib/python3.7/dist-packages\n",
            "Requires: keras-tuner, pandas, packaging, tensorflow\n",
            "Required-by: \n"
          ]
        }
      ],
      "source": [
        "!pip show autokeras"
      ]
    },
    {
      "cell_type": "code",
      "execution_count": 2,
      "id": "jE_IvaIs1O3z",
      "metadata": {
        "id": "jE_IvaIs1O3z"
      },
      "outputs": [],
      "source": [
        "import numpy as np\n",
        "import pandas as pd\n",
        "import tensorflow as tf\n",
        "import autokeras as ak"
      ]
    },
    {
      "cell_type": "code",
      "execution_count": 3,
      "id": "OdAi99490vlO",
      "metadata": {
        "id": "OdAi99490vlO"
      },
      "outputs": [],
      "source": [
        "reg = ak.StructuredDataRegressor(\n",
        "    overwrite=True, max_trials=3\n",
        ")"
      ]
    },
    {
      "cell_type": "code",
      "source": [
        "X_train = pd.DataFrame(X_train)"
      ],
      "metadata": {
        "id": "cA03vjXjmpIO"
      },
      "id": "cA03vjXjmpIO",
      "execution_count": 22,
      "outputs": []
    },
    {
      "cell_type": "code",
      "source": [
        "X_train.head()"
      ],
      "metadata": {
        "id": "afmGhPRo7k3_",
        "outputId": "d5d5b93d-d00f-4dc5-afc8-6071ca6122b5",
        "colab": {
          "base_uri": "https://localhost:8080/",
          "height": 300
        }
      },
      "id": "afmGhPRo7k3_",
      "execution_count": 23,
      "outputs": [
        {
          "output_type": "execute_result",
          "data": {
            "text/html": [
              "\n",
              "  <div id=\"df-da9bfade-b95e-40af-bab4-e67e5fd7e863\">\n",
              "    <div class=\"colab-df-container\">\n",
              "      <div>\n",
              "<style scoped>\n",
              "    .dataframe tbody tr th:only-of-type {\n",
              "        vertical-align: middle;\n",
              "    }\n",
              "\n",
              "    .dataframe tbody tr th {\n",
              "        vertical-align: top;\n",
              "    }\n",
              "\n",
              "    .dataframe thead th {\n",
              "        text-align: right;\n",
              "    }\n",
              "</style>\n",
              "<table border=\"1\" class=\"dataframe\">\n",
              "  <thead>\n",
              "    <tr style=\"text-align: right;\">\n",
              "      <th></th>\n",
              "      <th>0</th>\n",
              "      <th>1</th>\n",
              "      <th>2</th>\n",
              "      <th>3</th>\n",
              "      <th>4</th>\n",
              "      <th>5</th>\n",
              "      <th>6</th>\n",
              "      <th>7</th>\n",
              "      <th>8</th>\n",
              "      <th>9</th>\n",
              "      <th>10</th>\n",
              "      <th>11</th>\n",
              "      <th>12</th>\n",
              "      <th>13</th>\n",
              "      <th>14</th>\n",
              "      <th>15</th>\n",
              "      <th>16</th>\n",
              "      <th>17</th>\n",
              "      <th>18</th>\n",
              "      <th>19</th>\n",
              "      <th>20</th>\n",
              "      <th>21</th>\n",
              "      <th>22</th>\n",
              "      <th>23</th>\n",
              "      <th>24</th>\n",
              "      <th>25</th>\n",
              "      <th>26</th>\n",
              "      <th>27</th>\n",
              "      <th>28</th>\n",
              "      <th>29</th>\n",
              "      <th>30</th>\n",
              "      <th>31</th>\n",
              "      <th>32</th>\n",
              "      <th>33</th>\n",
              "      <th>34</th>\n",
              "      <th>35</th>\n",
              "      <th>36</th>\n",
              "      <th>37</th>\n",
              "      <th>38</th>\n",
              "      <th>39</th>\n",
              "      <th>...</th>\n",
              "      <th>60</th>\n",
              "      <th>61</th>\n",
              "      <th>62</th>\n",
              "      <th>63</th>\n",
              "      <th>64</th>\n",
              "      <th>65</th>\n",
              "      <th>66</th>\n",
              "      <th>67</th>\n",
              "      <th>68</th>\n",
              "      <th>69</th>\n",
              "      <th>70</th>\n",
              "      <th>71</th>\n",
              "      <th>72</th>\n",
              "      <th>73</th>\n",
              "      <th>74</th>\n",
              "      <th>75</th>\n",
              "      <th>76</th>\n",
              "      <th>77</th>\n",
              "      <th>78</th>\n",
              "      <th>79</th>\n",
              "      <th>80</th>\n",
              "      <th>81</th>\n",
              "      <th>82</th>\n",
              "      <th>83</th>\n",
              "      <th>84</th>\n",
              "      <th>85</th>\n",
              "      <th>86</th>\n",
              "      <th>87</th>\n",
              "      <th>88</th>\n",
              "      <th>89</th>\n",
              "      <th>90</th>\n",
              "      <th>91</th>\n",
              "      <th>92</th>\n",
              "      <th>93</th>\n",
              "      <th>94</th>\n",
              "      <th>95</th>\n",
              "      <th>96</th>\n",
              "      <th>97</th>\n",
              "      <th>98</th>\n",
              "      <th>99</th>\n",
              "    </tr>\n",
              "  </thead>\n",
              "  <tbody>\n",
              "    <tr>\n",
              "      <th>0</th>\n",
              "      <td>0.005592</td>\n",
              "      <td>0.003826</td>\n",
              "      <td>0.003090</td>\n",
              "      <td>0.002060</td>\n",
              "      <td>0.001030</td>\n",
              "      <td>0.000000</td>\n",
              "      <td>0.012655</td>\n",
              "      <td>0.013096</td>\n",
              "      <td>0.013390</td>\n",
              "      <td>0.018099</td>\n",
              "      <td>0.023543</td>\n",
              "      <td>0.027075</td>\n",
              "      <td>0.028252</td>\n",
              "      <td>0.029723</td>\n",
              "      <td>0.029282</td>\n",
              "      <td>0.028546</td>\n",
              "      <td>0.027516</td>\n",
              "      <td>0.032666</td>\n",
              "      <td>0.024868</td>\n",
              "      <td>0.027075</td>\n",
              "      <td>0.026339</td>\n",
              "      <td>0.026339</td>\n",
              "      <td>0.025456</td>\n",
              "      <td>0.025309</td>\n",
              "      <td>0.026633</td>\n",
              "      <td>0.026339</td>\n",
              "      <td>0.025898</td>\n",
              "      <td>0.025750</td>\n",
              "      <td>0.025162</td>\n",
              "      <td>0.025456</td>\n",
              "      <td>0.024573</td>\n",
              "      <td>0.024868</td>\n",
              "      <td>0.031636</td>\n",
              "      <td>0.032813</td>\n",
              "      <td>0.033402</td>\n",
              "      <td>0.033696</td>\n",
              "      <td>0.032813</td>\n",
              "      <td>0.031931</td>\n",
              "      <td>0.031048</td>\n",
              "      <td>0.037081</td>\n",
              "      <td>...</td>\n",
              "      <td>0.097852</td>\n",
              "      <td>0.102560</td>\n",
              "      <td>0.103590</td>\n",
              "      <td>0.107416</td>\n",
              "      <td>0.107710</td>\n",
              "      <td>0.105356</td>\n",
              "      <td>0.104473</td>\n",
              "      <td>0.104032</td>\n",
              "      <td>0.109182</td>\n",
              "      <td>0.115362</td>\n",
              "      <td>0.130959</td>\n",
              "      <td>0.134491</td>\n",
              "      <td>0.143172</td>\n",
              "      <td>0.148028</td>\n",
              "      <td>0.149058</td>\n",
              "      <td>0.147881</td>\n",
              "      <td>0.106680</td>\n",
              "      <td>0.146557</td>\n",
              "      <td>0.144938</td>\n",
              "      <td>0.106680</td>\n",
              "      <td>0.102855</td>\n",
              "      <td>0.102413</td>\n",
              "      <td>0.082843</td>\n",
              "      <td>0.069453</td>\n",
              "      <td>0.069453</td>\n",
              "      <td>0.078428</td>\n",
              "      <td>0.082843</td>\n",
              "      <td>0.085639</td>\n",
              "      <td>0.087404</td>\n",
              "      <td>0.091819</td>\n",
              "      <td>0.102266</td>\n",
              "      <td>0.109329</td>\n",
              "      <td>0.124926</td>\n",
              "      <td>0.135227</td>\n",
              "      <td>0.142731</td>\n",
              "      <td>0.167746</td>\n",
              "      <td>0.168040</td>\n",
              "      <td>0.166274</td>\n",
              "      <td>0.165244</td>\n",
              "      <td>0.164067</td>\n",
              "    </tr>\n",
              "    <tr>\n",
              "      <th>1</th>\n",
              "      <td>0.003826</td>\n",
              "      <td>0.003090</td>\n",
              "      <td>0.002060</td>\n",
              "      <td>0.001030</td>\n",
              "      <td>0.000000</td>\n",
              "      <td>0.012655</td>\n",
              "      <td>0.013096</td>\n",
              "      <td>0.013390</td>\n",
              "      <td>0.018099</td>\n",
              "      <td>0.023543</td>\n",
              "      <td>0.027075</td>\n",
              "      <td>0.028252</td>\n",
              "      <td>0.029723</td>\n",
              "      <td>0.029282</td>\n",
              "      <td>0.028546</td>\n",
              "      <td>0.027516</td>\n",
              "      <td>0.032666</td>\n",
              "      <td>0.024868</td>\n",
              "      <td>0.027075</td>\n",
              "      <td>0.026339</td>\n",
              "      <td>0.026339</td>\n",
              "      <td>0.025456</td>\n",
              "      <td>0.025309</td>\n",
              "      <td>0.026633</td>\n",
              "      <td>0.026339</td>\n",
              "      <td>0.025898</td>\n",
              "      <td>0.025750</td>\n",
              "      <td>0.025162</td>\n",
              "      <td>0.025456</td>\n",
              "      <td>0.024573</td>\n",
              "      <td>0.024868</td>\n",
              "      <td>0.031636</td>\n",
              "      <td>0.032813</td>\n",
              "      <td>0.033402</td>\n",
              "      <td>0.033696</td>\n",
              "      <td>0.032813</td>\n",
              "      <td>0.031931</td>\n",
              "      <td>0.031048</td>\n",
              "      <td>0.037081</td>\n",
              "      <td>0.046792</td>\n",
              "      <td>...</td>\n",
              "      <td>0.102560</td>\n",
              "      <td>0.103590</td>\n",
              "      <td>0.107416</td>\n",
              "      <td>0.107710</td>\n",
              "      <td>0.105356</td>\n",
              "      <td>0.104473</td>\n",
              "      <td>0.104032</td>\n",
              "      <td>0.109182</td>\n",
              "      <td>0.115362</td>\n",
              "      <td>0.130959</td>\n",
              "      <td>0.134491</td>\n",
              "      <td>0.143172</td>\n",
              "      <td>0.148028</td>\n",
              "      <td>0.149058</td>\n",
              "      <td>0.147881</td>\n",
              "      <td>0.106680</td>\n",
              "      <td>0.146557</td>\n",
              "      <td>0.144938</td>\n",
              "      <td>0.106680</td>\n",
              "      <td>0.102855</td>\n",
              "      <td>0.102413</td>\n",
              "      <td>0.082843</td>\n",
              "      <td>0.069453</td>\n",
              "      <td>0.069453</td>\n",
              "      <td>0.078428</td>\n",
              "      <td>0.082843</td>\n",
              "      <td>0.085639</td>\n",
              "      <td>0.087404</td>\n",
              "      <td>0.091819</td>\n",
              "      <td>0.102266</td>\n",
              "      <td>0.109329</td>\n",
              "      <td>0.124926</td>\n",
              "      <td>0.135227</td>\n",
              "      <td>0.142731</td>\n",
              "      <td>0.167746</td>\n",
              "      <td>0.168040</td>\n",
              "      <td>0.166274</td>\n",
              "      <td>0.165244</td>\n",
              "      <td>0.164067</td>\n",
              "      <td>0.162743</td>\n",
              "    </tr>\n",
              "    <tr>\n",
              "      <th>2</th>\n",
              "      <td>0.003090</td>\n",
              "      <td>0.002060</td>\n",
              "      <td>0.001030</td>\n",
              "      <td>0.000000</td>\n",
              "      <td>0.012655</td>\n",
              "      <td>0.013096</td>\n",
              "      <td>0.013390</td>\n",
              "      <td>0.018099</td>\n",
              "      <td>0.023543</td>\n",
              "      <td>0.027075</td>\n",
              "      <td>0.028252</td>\n",
              "      <td>0.029723</td>\n",
              "      <td>0.029282</td>\n",
              "      <td>0.028546</td>\n",
              "      <td>0.027516</td>\n",
              "      <td>0.032666</td>\n",
              "      <td>0.024868</td>\n",
              "      <td>0.027075</td>\n",
              "      <td>0.026339</td>\n",
              "      <td>0.026339</td>\n",
              "      <td>0.025456</td>\n",
              "      <td>0.025309</td>\n",
              "      <td>0.026633</td>\n",
              "      <td>0.026339</td>\n",
              "      <td>0.025898</td>\n",
              "      <td>0.025750</td>\n",
              "      <td>0.025162</td>\n",
              "      <td>0.025456</td>\n",
              "      <td>0.024573</td>\n",
              "      <td>0.024868</td>\n",
              "      <td>0.031636</td>\n",
              "      <td>0.032813</td>\n",
              "      <td>0.033402</td>\n",
              "      <td>0.033696</td>\n",
              "      <td>0.032813</td>\n",
              "      <td>0.031931</td>\n",
              "      <td>0.031048</td>\n",
              "      <td>0.037081</td>\n",
              "      <td>0.046792</td>\n",
              "      <td>0.047528</td>\n",
              "      <td>...</td>\n",
              "      <td>0.103590</td>\n",
              "      <td>0.107416</td>\n",
              "      <td>0.107710</td>\n",
              "      <td>0.105356</td>\n",
              "      <td>0.104473</td>\n",
              "      <td>0.104032</td>\n",
              "      <td>0.109182</td>\n",
              "      <td>0.115362</td>\n",
              "      <td>0.130959</td>\n",
              "      <td>0.134491</td>\n",
              "      <td>0.143172</td>\n",
              "      <td>0.148028</td>\n",
              "      <td>0.149058</td>\n",
              "      <td>0.147881</td>\n",
              "      <td>0.106680</td>\n",
              "      <td>0.146557</td>\n",
              "      <td>0.144938</td>\n",
              "      <td>0.106680</td>\n",
              "      <td>0.102855</td>\n",
              "      <td>0.102413</td>\n",
              "      <td>0.082843</td>\n",
              "      <td>0.069453</td>\n",
              "      <td>0.069453</td>\n",
              "      <td>0.078428</td>\n",
              "      <td>0.082843</td>\n",
              "      <td>0.085639</td>\n",
              "      <td>0.087404</td>\n",
              "      <td>0.091819</td>\n",
              "      <td>0.102266</td>\n",
              "      <td>0.109329</td>\n",
              "      <td>0.124926</td>\n",
              "      <td>0.135227</td>\n",
              "      <td>0.142731</td>\n",
              "      <td>0.167746</td>\n",
              "      <td>0.168040</td>\n",
              "      <td>0.166274</td>\n",
              "      <td>0.165244</td>\n",
              "      <td>0.164067</td>\n",
              "      <td>0.162743</td>\n",
              "      <td>0.155386</td>\n",
              "    </tr>\n",
              "    <tr>\n",
              "      <th>3</th>\n",
              "      <td>0.002060</td>\n",
              "      <td>0.001030</td>\n",
              "      <td>0.000000</td>\n",
              "      <td>0.012655</td>\n",
              "      <td>0.013096</td>\n",
              "      <td>0.013390</td>\n",
              "      <td>0.018099</td>\n",
              "      <td>0.023543</td>\n",
              "      <td>0.027075</td>\n",
              "      <td>0.028252</td>\n",
              "      <td>0.029723</td>\n",
              "      <td>0.029282</td>\n",
              "      <td>0.028546</td>\n",
              "      <td>0.027516</td>\n",
              "      <td>0.032666</td>\n",
              "      <td>0.024868</td>\n",
              "      <td>0.027075</td>\n",
              "      <td>0.026339</td>\n",
              "      <td>0.026339</td>\n",
              "      <td>0.025456</td>\n",
              "      <td>0.025309</td>\n",
              "      <td>0.026633</td>\n",
              "      <td>0.026339</td>\n",
              "      <td>0.025898</td>\n",
              "      <td>0.025750</td>\n",
              "      <td>0.025162</td>\n",
              "      <td>0.025456</td>\n",
              "      <td>0.024573</td>\n",
              "      <td>0.024868</td>\n",
              "      <td>0.031636</td>\n",
              "      <td>0.032813</td>\n",
              "      <td>0.033402</td>\n",
              "      <td>0.033696</td>\n",
              "      <td>0.032813</td>\n",
              "      <td>0.031931</td>\n",
              "      <td>0.031048</td>\n",
              "      <td>0.037081</td>\n",
              "      <td>0.046792</td>\n",
              "      <td>0.047528</td>\n",
              "      <td>0.049735</td>\n",
              "      <td>...</td>\n",
              "      <td>0.107416</td>\n",
              "      <td>0.107710</td>\n",
              "      <td>0.105356</td>\n",
              "      <td>0.104473</td>\n",
              "      <td>0.104032</td>\n",
              "      <td>0.109182</td>\n",
              "      <td>0.115362</td>\n",
              "      <td>0.130959</td>\n",
              "      <td>0.134491</td>\n",
              "      <td>0.143172</td>\n",
              "      <td>0.148028</td>\n",
              "      <td>0.149058</td>\n",
              "      <td>0.147881</td>\n",
              "      <td>0.106680</td>\n",
              "      <td>0.146557</td>\n",
              "      <td>0.144938</td>\n",
              "      <td>0.106680</td>\n",
              "      <td>0.102855</td>\n",
              "      <td>0.102413</td>\n",
              "      <td>0.082843</td>\n",
              "      <td>0.069453</td>\n",
              "      <td>0.069453</td>\n",
              "      <td>0.078428</td>\n",
              "      <td>0.082843</td>\n",
              "      <td>0.085639</td>\n",
              "      <td>0.087404</td>\n",
              "      <td>0.091819</td>\n",
              "      <td>0.102266</td>\n",
              "      <td>0.109329</td>\n",
              "      <td>0.124926</td>\n",
              "      <td>0.135227</td>\n",
              "      <td>0.142731</td>\n",
              "      <td>0.167746</td>\n",
              "      <td>0.168040</td>\n",
              "      <td>0.166274</td>\n",
              "      <td>0.165244</td>\n",
              "      <td>0.164067</td>\n",
              "      <td>0.162743</td>\n",
              "      <td>0.155386</td>\n",
              "      <td>0.146704</td>\n",
              "    </tr>\n",
              "    <tr>\n",
              "      <th>4</th>\n",
              "      <td>0.001030</td>\n",
              "      <td>0.000000</td>\n",
              "      <td>0.012655</td>\n",
              "      <td>0.013096</td>\n",
              "      <td>0.013390</td>\n",
              "      <td>0.018099</td>\n",
              "      <td>0.023543</td>\n",
              "      <td>0.027075</td>\n",
              "      <td>0.028252</td>\n",
              "      <td>0.029723</td>\n",
              "      <td>0.029282</td>\n",
              "      <td>0.028546</td>\n",
              "      <td>0.027516</td>\n",
              "      <td>0.032666</td>\n",
              "      <td>0.024868</td>\n",
              "      <td>0.027075</td>\n",
              "      <td>0.026339</td>\n",
              "      <td>0.026339</td>\n",
              "      <td>0.025456</td>\n",
              "      <td>0.025309</td>\n",
              "      <td>0.026633</td>\n",
              "      <td>0.026339</td>\n",
              "      <td>0.025898</td>\n",
              "      <td>0.025750</td>\n",
              "      <td>0.025162</td>\n",
              "      <td>0.025456</td>\n",
              "      <td>0.024573</td>\n",
              "      <td>0.024868</td>\n",
              "      <td>0.031636</td>\n",
              "      <td>0.032813</td>\n",
              "      <td>0.033402</td>\n",
              "      <td>0.033696</td>\n",
              "      <td>0.032813</td>\n",
              "      <td>0.031931</td>\n",
              "      <td>0.031048</td>\n",
              "      <td>0.037081</td>\n",
              "      <td>0.046792</td>\n",
              "      <td>0.047528</td>\n",
              "      <td>0.049735</td>\n",
              "      <td>0.053708</td>\n",
              "      <td>...</td>\n",
              "      <td>0.107710</td>\n",
              "      <td>0.105356</td>\n",
              "      <td>0.104473</td>\n",
              "      <td>0.104032</td>\n",
              "      <td>0.109182</td>\n",
              "      <td>0.115362</td>\n",
              "      <td>0.130959</td>\n",
              "      <td>0.134491</td>\n",
              "      <td>0.143172</td>\n",
              "      <td>0.148028</td>\n",
              "      <td>0.149058</td>\n",
              "      <td>0.147881</td>\n",
              "      <td>0.106680</td>\n",
              "      <td>0.146557</td>\n",
              "      <td>0.144938</td>\n",
              "      <td>0.106680</td>\n",
              "      <td>0.102855</td>\n",
              "      <td>0.102413</td>\n",
              "      <td>0.082843</td>\n",
              "      <td>0.069453</td>\n",
              "      <td>0.069453</td>\n",
              "      <td>0.078428</td>\n",
              "      <td>0.082843</td>\n",
              "      <td>0.085639</td>\n",
              "      <td>0.087404</td>\n",
              "      <td>0.091819</td>\n",
              "      <td>0.102266</td>\n",
              "      <td>0.109329</td>\n",
              "      <td>0.124926</td>\n",
              "      <td>0.135227</td>\n",
              "      <td>0.142731</td>\n",
              "      <td>0.167746</td>\n",
              "      <td>0.168040</td>\n",
              "      <td>0.166274</td>\n",
              "      <td>0.165244</td>\n",
              "      <td>0.164067</td>\n",
              "      <td>0.162743</td>\n",
              "      <td>0.155386</td>\n",
              "      <td>0.146704</td>\n",
              "      <td>0.144202</td>\n",
              "    </tr>\n",
              "  </tbody>\n",
              "</table>\n",
              "<p>5 rows × 100 columns</p>\n",
              "</div>\n",
              "      <button class=\"colab-df-convert\" onclick=\"convertToInteractive('df-da9bfade-b95e-40af-bab4-e67e5fd7e863')\"\n",
              "              title=\"Convert this dataframe to an interactive table.\"\n",
              "              style=\"display:none;\">\n",
              "        \n",
              "  <svg xmlns=\"http://www.w3.org/2000/svg\" height=\"24px\"viewBox=\"0 0 24 24\"\n",
              "       width=\"24px\">\n",
              "    <path d=\"M0 0h24v24H0V0z\" fill=\"none\"/>\n",
              "    <path d=\"M18.56 5.44l.94 2.06.94-2.06 2.06-.94-2.06-.94-.94-2.06-.94 2.06-2.06.94zm-11 1L8.5 8.5l.94-2.06 2.06-.94-2.06-.94L8.5 2.5l-.94 2.06-2.06.94zm10 10l.94 2.06.94-2.06 2.06-.94-2.06-.94-.94-2.06-.94 2.06-2.06.94z\"/><path d=\"M17.41 7.96l-1.37-1.37c-.4-.4-.92-.59-1.43-.59-.52 0-1.04.2-1.43.59L10.3 9.45l-7.72 7.72c-.78.78-.78 2.05 0 2.83L4 21.41c.39.39.9.59 1.41.59.51 0 1.02-.2 1.41-.59l7.78-7.78 2.81-2.81c.8-.78.8-2.07 0-2.86zM5.41 20L4 18.59l7.72-7.72 1.47 1.35L5.41 20z\"/>\n",
              "  </svg>\n",
              "      </button>\n",
              "      \n",
              "  <style>\n",
              "    .colab-df-container {\n",
              "      display:flex;\n",
              "      flex-wrap:wrap;\n",
              "      gap: 12px;\n",
              "    }\n",
              "\n",
              "    .colab-df-convert {\n",
              "      background-color: #E8F0FE;\n",
              "      border: none;\n",
              "      border-radius: 50%;\n",
              "      cursor: pointer;\n",
              "      display: none;\n",
              "      fill: #1967D2;\n",
              "      height: 32px;\n",
              "      padding: 0 0 0 0;\n",
              "      width: 32px;\n",
              "    }\n",
              "\n",
              "    .colab-df-convert:hover {\n",
              "      background-color: #E2EBFA;\n",
              "      box-shadow: 0px 1px 2px rgba(60, 64, 67, 0.3), 0px 1px 3px 1px rgba(60, 64, 67, 0.15);\n",
              "      fill: #174EA6;\n",
              "    }\n",
              "\n",
              "    [theme=dark] .colab-df-convert {\n",
              "      background-color: #3B4455;\n",
              "      fill: #D2E3FC;\n",
              "    }\n",
              "\n",
              "    [theme=dark] .colab-df-convert:hover {\n",
              "      background-color: #434B5C;\n",
              "      box-shadow: 0px 1px 3px 1px rgba(0, 0, 0, 0.15);\n",
              "      filter: drop-shadow(0px 1px 2px rgba(0, 0, 0, 0.3));\n",
              "      fill: #FFFFFF;\n",
              "    }\n",
              "  </style>\n",
              "\n",
              "      <script>\n",
              "        const buttonEl =\n",
              "          document.querySelector('#df-da9bfade-b95e-40af-bab4-e67e5fd7e863 button.colab-df-convert');\n",
              "        buttonEl.style.display =\n",
              "          google.colab.kernel.accessAllowed ? 'block' : 'none';\n",
              "\n",
              "        async function convertToInteractive(key) {\n",
              "          const element = document.querySelector('#df-da9bfade-b95e-40af-bab4-e67e5fd7e863');\n",
              "          const dataTable =\n",
              "            await google.colab.kernel.invokeFunction('convertToInteractive',\n",
              "                                                     [key], {});\n",
              "          if (!dataTable) return;\n",
              "\n",
              "          const docLinkHtml = 'Like what you see? Visit the ' +\n",
              "            '<a target=\"_blank\" href=https://colab.research.google.com/notebooks/data_table.ipynb>data table notebook</a>'\n",
              "            + ' to learn more about interactive tables.';\n",
              "          element.innerHTML = '';\n",
              "          dataTable['output_type'] = 'display_data';\n",
              "          await google.colab.output.renderOutput(dataTable, element);\n",
              "          const docLink = document.createElement('div');\n",
              "          docLink.innerHTML = docLinkHtml;\n",
              "          element.appendChild(docLink);\n",
              "        }\n",
              "      </script>\n",
              "    </div>\n",
              "  </div>\n",
              "  "
            ],
            "text/plain": [
              "         0         1         2   ...        97        98        99\n",
              "0  0.005592  0.003826  0.003090  ...  0.166274  0.165244  0.164067\n",
              "1  0.003826  0.003090  0.002060  ...  0.165244  0.164067  0.162743\n",
              "2  0.003090  0.002060  0.001030  ...  0.164067  0.162743  0.155386\n",
              "3  0.002060  0.001030  0.000000  ...  0.162743  0.155386  0.146704\n",
              "4  0.001030  0.000000  0.012655  ...  0.155386  0.146704  0.144202\n",
              "\n",
              "[5 rows x 100 columns]"
            ]
          },
          "metadata": {},
          "execution_count": 23
        }
      ]
    },
    {
      "cell_type": "code",
      "source": [
        "y_train = pd.DataFrame(y_train)"
      ],
      "metadata": {
        "id": "j1z2m1L9nDZD"
      },
      "id": "j1z2m1L9nDZD",
      "execution_count": 24,
      "outputs": []
    },
    {
      "cell_type": "code",
      "execution_count": 25,
      "id": "yaD54ZIB05_N",
      "metadata": {
        "id": "yaD54ZIB05_N",
        "colab": {
          "base_uri": "https://localhost:8080/"
        },
        "outputId": "bdaeaea0-d83a-4223-ef88-571f41a15746"
      },
      "outputs": [
        {
          "output_type": "stream",
          "name": "stdout",
          "text": [
            "INFO:tensorflow:Oracle triggered exit\n",
            "14/14 [==============================] - 1s 4ms/step - loss: 0.1928 - mean_squared_error: 0.1928\n",
            "INFO:tensorflow:Assets written to: ./structured_data_regressor/best_model/assets\n"
          ]
        },
        {
          "output_type": "execute_result",
          "data": {
            "text/plain": [
              "<keras.callbacks.History at 0x7f1636654050>"
            ]
          },
          "metadata": {},
          "execution_count": 25
        }
      ],
      "source": [
        "reg.fit(x=X_train, y=y_train, verbose=0)"
      ]
    },
    {
      "cell_type": "code",
      "source": [
        "X_test = pd.DataFrame(X_test)"
      ],
      "metadata": {
        "id": "dOv7p6u2nUCl"
      },
      "id": "dOv7p6u2nUCl",
      "execution_count": 26,
      "outputs": []
    },
    {
      "cell_type": "code",
      "source": [
        "ytest = pd.DataFrame(ytest)"
      ],
      "metadata": {
        "id": "tpHSCx5MnY5a"
      },
      "id": "tpHSCx5MnY5a",
      "execution_count": 28,
      "outputs": []
    },
    {
      "cell_type": "code",
      "execution_count": 29,
      "id": "_EAR0zb41keP",
      "metadata": {
        "id": "_EAR0zb41keP",
        "colab": {
          "base_uri": "https://localhost:8080/"
        },
        "outputId": "9baad23e-04d2-4972-84cc-c95ef9d205a5"
      },
      "outputs": [
        {
          "output_type": "stream",
          "name": "stdout",
          "text": [
            "6/6 [==============================] - 0s 5ms/step\n"
          ]
        }
      ],
      "source": [
        "\n",
        "# evaluate the model\n",
        "mae, _  = reg.evaluate(X_test, ytest, verbose=0)\n",
        "#print('MAE: %.3f' % mae)\n",
        "# use the model to make a prediction\n",
        "yhat_test = reg.predict(X_test)\n",
        "\n",
        "# get the best performing model\n",
        "model = reg.export_model()\n"
      ]
    },
    {
      "cell_type": "code",
      "execution_count": 30,
      "id": "XFyX-Bur2SgJ",
      "metadata": {
        "id": "XFyX-Bur2SgJ",
        "colab": {
          "base_uri": "https://localhost:8080/"
        },
        "outputId": "d57d9a4c-3d6a-4fc4-e31d-e6ebf163457f"
      },
      "outputs": [
        {
          "output_type": "stream",
          "name": "stdout",
          "text": [
            "Model: \"model_4\"\n",
            "_________________________________________________________________\n",
            " Layer (type)                Output Shape              Param #   \n",
            "=================================================================\n",
            " input_5 (InputLayer)        [(None, 100)]             0         \n",
            "                                                                 \n",
            " multi_category_encoding_4 (  (None, 100)              0         \n",
            " MultiCategoryEncoding)                                          \n",
            "                                                                 \n",
            " normalization_3 (Normalizat  (None, 100)              201       \n",
            " ion)                                                            \n",
            "                                                                 \n",
            " dense_8 (Dense)             (None, 32)                3232      \n",
            "                                                                 \n",
            " re_lu_8 (ReLU)              (None, 32)                0         \n",
            "                                                                 \n",
            " dense_9 (Dense)             (None, 32)                1056      \n",
            "                                                                 \n",
            " re_lu_9 (ReLU)              (None, 32)                0         \n",
            "                                                                 \n",
            " regression_head_1 (Dense)   (None, 1)                 33        \n",
            "                                                                 \n",
            "=================================================================\n",
            "Total params: 4,522\n",
            "Trainable params: 4,321\n",
            "Non-trainable params: 201\n",
            "_________________________________________________________________\n"
          ]
        }
      ],
      "source": [
        "# summarize the loaded model\n",
        "model.summary()"
      ]
    },
    {
      "cell_type": "code",
      "execution_count": 31,
      "id": "VWny4-JW2pKW",
      "metadata": {
        "id": "VWny4-JW2pKW",
        "colab": {
          "base_uri": "https://localhost:8080/"
        },
        "outputId": "9a51c382-88de-4d2b-dd76-417e8c445112"
      },
      "outputs": [
        {
          "output_type": "stream",
          "name": "stdout",
          "text": [
            "14/14 [==============================] - 0s 3ms/step\n"
          ]
        }
      ],
      "source": [
        "yhat_train= reg.predict(X_train)"
      ]
    },
    {
      "cell_type": "code",
      "execution_count": 32,
      "id": "KIjUsMMz2r1Z",
      "metadata": {
        "id": "KIjUsMMz2r1Z"
      },
      "outputs": [],
      "source": [
        "train_predict=scaler.inverse_transform(yhat_train)\n",
        "test_predict=scaler.inverse_transform(yhat_test)"
      ]
    },
    {
      "cell_type": "code",
      "execution_count": 33,
      "id": "0zK6AKcq3aZp",
      "metadata": {
        "id": "0zK6AKcq3aZp"
      },
      "outputs": [],
      "source": [
        "from sklearn.metrics import mean_squared_error"
      ]
    },
    {
      "cell_type": "code",
      "execution_count": 34,
      "id": "4EknM_n43gSF",
      "metadata": {
        "id": "4EknM_n43gSF",
        "colab": {
          "base_uri": "https://localhost:8080/"
        },
        "outputId": "263b3912-c2da-4b67-b707-c177e21ee0ab"
      },
      "outputs": [
        {
          "output_type": "execute_result",
          "data": {
            "text/plain": [
              "0.07284212362393204"
            ]
          },
          "metadata": {},
          "execution_count": 34
        }
      ],
      "source": [
        "mean_squared_error(ytest,yhat_test)"
      ]
    },
    {
      "cell_type": "code",
      "execution_count": 35,
      "id": "iQSmVcMGwWQc",
      "metadata": {
        "id": "iQSmVcMGwWQc",
        "colab": {
          "base_uri": "https://localhost:8080/"
        },
        "outputId": "1f892304-15f7-4f35-9398-4cd8f2dcbf30"
      },
      "outputs": [
        {
          "output_type": "execute_result",
          "data": {
            "text/plain": [
              "0.3199791706924925"
            ]
          },
          "metadata": {},
          "execution_count": 35
        }
      ],
      "source": [
        "mean_squared_error(y_train,yhat_train)"
      ]
    },
    {
      "cell_type": "code",
      "execution_count": null,
      "id": "3dI3AUtDwd-E",
      "metadata": {
        "id": "3dI3AUtDwd-E"
      },
      "outputs": [],
      "source": [
        ""
      ]
    }
  ],
  "metadata": {
    "colab": {
      "collapsed_sections": [],
      "name": "Petrol Price Forecasting.ipynb",
      "provenance": []
    },
    "kernelspec": {
      "display_name": "Python 3",
      "language": "python",
      "name": "python3"
    },
    "language_info": {
      "codemirror_mode": {
        "name": "ipython",
        "version": 3
      },
      "file_extension": ".py",
      "mimetype": "text/x-python",
      "name": "python",
      "nbconvert_exporter": "python",
      "pygments_lexer": "ipython3",
      "version": "3.8.8"
    }
  },
  "nbformat": 4,
  "nbformat_minor": 5
}